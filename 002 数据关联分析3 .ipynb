{
 "cells": [
  {
   "cell_type": "markdown",
   "metadata": {},
   "source": [
    "### 一、数据准备"
   ]
  },
  {
   "cell_type": "code",
   "execution_count": 11,
   "metadata": {},
   "outputs": [],
   "source": [
    "def PrepareData (tagall):\n",
    "    ordercode_list = []\n",
    "    taglist = []\n",
    "    for order_code in np.unique(tagall.ORDER_CODE):\n",
    "        taglist_ = tagall.loc[tagall.ORDER_CODE == order_code, 'TAG_ID'].values.tolist() \n",
    "        ordercode_list.append(order_code)\n",
    "        taglist.append(taglist_)\n",
    "    df = pd.DataFrame({\"order_code\": ordercode_list, \"taglist\":taglist})\n",
    "    return df"
   ]
  },
  {
   "cell_type": "markdown",
   "metadata": {},
   "source": [
    "#### 1.全部（AB）"
   ]
  },
  {
   "cell_type": "code",
   "execution_count": 1,
   "metadata": {},
   "outputs": [],
   "source": [
    "from mlxtend.preprocessing import TransactionEncoder\n",
    "from mlxtend.frequent_patterns import apriori\n",
    "from mlxtend.frequent_patterns import association_rules\n",
    "import pandas as pd\n",
    "import numpy as np"
   ]
  },
  {
   "cell_type": "code",
   "execution_count": 5,
   "metadata": {},
   "outputs": [],
   "source": [
    "tagall = pd.read_pickle(r\"C:\\Users\\13670\\Desktop\\fei.pkl\")\n",
    "fei = pd.read_excel(r\"C:\\Users\\13670\\Desktop\\dict.xlsx\")"
   ]
  },
  {
   "cell_type": "code",
   "execution_count": 50,
   "metadata": {
    "scrolled": true
   },
   "outputs": [],
   "source": [
    "tagidlist = fei.loc[:,'TAG_ID']\n",
    "tagall_all_ = pd.merge(tagall,tagidlist)"
   ]
  },
  {
   "cell_type": "code",
   "execution_count": 8,
   "metadata": {},
   "outputs": [],
   "source": [
    "dict_ = fei.set_index(\"TAG_ID\").to_dict()[\"idname\"]"
   ]
  },
  {
   "cell_type": "code",
   "execution_count": 53,
   "metadata": {},
   "outputs": [],
   "source": [
    "tagall_all_.replace(dict_,inplace=True)"
   ]
  },
  {
   "cell_type": "code",
   "execution_count": 57,
   "metadata": {},
   "outputs": [
    {
     "data": {
      "text/html": [
       "<div>\n",
       "<style scoped>\n",
       "    .dataframe tbody tr th:only-of-type {\n",
       "        vertical-align: middle;\n",
       "    }\n",
       "\n",
       "    .dataframe tbody tr th {\n",
       "        vertical-align: top;\n",
       "    }\n",
       "\n",
       "    .dataframe thead th {\n",
       "        text-align: right;\n",
       "    }\n",
       "</style>\n",
       "<table border=\"1\" class=\"dataframe\">\n",
       "  <thead>\n",
       "    <tr style=\"text-align: right;\">\n",
       "      <th></th>\n",
       "      <th>ORDER_CODE</th>\n",
       "      <th>TAG_ID</th>\n",
       "    </tr>\n",
       "  </thead>\n",
       "  <tbody>\n",
       "    <tr>\n",
       "      <th>0</th>\n",
       "      <td>000318663910</td>\n",
       "      <td>肺内高密度影</td>\n",
       "    </tr>\n",
       "    <tr>\n",
       "      <th>1</th>\n",
       "      <td>001020394245</td>\n",
       "      <td>肺内高密度影</td>\n",
       "    </tr>\n",
       "    <tr>\n",
       "      <th>2</th>\n",
       "      <td>002927923609</td>\n",
       "      <td>肺内高密度影</td>\n",
       "    </tr>\n",
       "    <tr>\n",
       "      <th>3</th>\n",
       "      <td>003261645186</td>\n",
       "      <td>肺内高密度影</td>\n",
       "    </tr>\n",
       "    <tr>\n",
       "      <th>4</th>\n",
       "      <td>004214096781</td>\n",
       "      <td>肺内高密度影</td>\n",
       "    </tr>\n",
       "    <tr>\n",
       "      <th>...</th>\n",
       "      <td>...</td>\n",
       "      <td>...</td>\n",
       "    </tr>\n",
       "    <tr>\n",
       "      <th>103603</th>\n",
       "      <td>8khlgd3716vjgx6</td>\n",
       "      <td>双肺支气管扩张</td>\n",
       "    </tr>\n",
       "    <tr>\n",
       "      <th>103604</th>\n",
       "      <td>8khmy1dlftdenev</td>\n",
       "      <td>双肺支气管扩张</td>\n",
       "    </tr>\n",
       "    <tr>\n",
       "      <th>103605</th>\n",
       "      <td>8khnkqvae1jqoo9</td>\n",
       "      <td>双肺支气管扩张</td>\n",
       "    </tr>\n",
       "    <tr>\n",
       "      <th>103606</th>\n",
       "      <td>8khpyyfcptrbozu</td>\n",
       "      <td>双肺支气管扩张</td>\n",
       "    </tr>\n",
       "    <tr>\n",
       "      <th>103607</th>\n",
       "      <td>8khsr3fyl4ndwak</td>\n",
       "      <td>双肺支气管扩张</td>\n",
       "    </tr>\n",
       "  </tbody>\n",
       "</table>\n",
       "<p>103608 rows × 2 columns</p>\n",
       "</div>"
      ],
      "text/plain": [
       "             ORDER_CODE   TAG_ID\n",
       "0          000318663910   肺内高密度影\n",
       "1          001020394245   肺内高密度影\n",
       "2          002927923609   肺内高密度影\n",
       "3          003261645186   肺内高密度影\n",
       "4          004214096781   肺内高密度影\n",
       "...                 ...      ...\n",
       "103603  8khlgd3716vjgx6  双肺支气管扩张\n",
       "103604  8khmy1dlftdenev  双肺支气管扩张\n",
       "103605  8khnkqvae1jqoo9  双肺支气管扩张\n",
       "103606  8khpyyfcptrbozu  双肺支气管扩张\n",
       "103607  8khsr3fyl4ndwak  双肺支气管扩张\n",
       "\n",
       "[103608 rows x 2 columns]"
      ]
     },
     "execution_count": 57,
     "metadata": {},
     "output_type": "execute_result"
    }
   ],
   "source": [
    "tagall_all_"
   ]
  },
  {
   "cell_type": "code",
   "execution_count": 54,
   "metadata": {},
   "outputs": [],
   "source": [
    "tagselect = tagall_all_.loc[tagall_all_.TAG_ID == \"肺部炎症\",:]"
   ]
  },
  {
   "cell_type": "code",
   "execution_count": 55,
   "metadata": {},
   "outputs": [
    {
     "data": {
      "text/html": [
       "<div>\n",
       "<style scoped>\n",
       "    .dataframe tbody tr th:only-of-type {\n",
       "        vertical-align: middle;\n",
       "    }\n",
       "\n",
       "    .dataframe tbody tr th {\n",
       "        vertical-align: top;\n",
       "    }\n",
       "\n",
       "    .dataframe thead th {\n",
       "        text-align: right;\n",
       "    }\n",
       "</style>\n",
       "<table border=\"1\" class=\"dataframe\">\n",
       "  <thead>\n",
       "    <tr style=\"text-align: right;\">\n",
       "      <th></th>\n",
       "      <th>ORDER_CODE</th>\n",
       "      <th>TAG_ID</th>\n",
       "    </tr>\n",
       "  </thead>\n",
       "  <tbody>\n",
       "    <tr>\n",
       "      <th>98042</th>\n",
       "      <td>004283589829</td>\n",
       "      <td>肺部炎症</td>\n",
       "    </tr>\n",
       "    <tr>\n",
       "      <th>98043</th>\n",
       "      <td>007253332046</td>\n",
       "      <td>肺部炎症</td>\n",
       "    </tr>\n",
       "    <tr>\n",
       "      <th>98044</th>\n",
       "      <td>010410644257</td>\n",
       "      <td>肺部炎症</td>\n",
       "    </tr>\n",
       "    <tr>\n",
       "      <th>98045</th>\n",
       "      <td>011202381058</td>\n",
       "      <td>肺部炎症</td>\n",
       "    </tr>\n",
       "    <tr>\n",
       "      <th>98046</th>\n",
       "      <td>018925599428</td>\n",
       "      <td>肺部炎症</td>\n",
       "    </tr>\n",
       "    <tr>\n",
       "      <th>...</th>\n",
       "      <td>...</td>\n",
       "      <td>...</td>\n",
       "    </tr>\n",
       "    <tr>\n",
       "      <th>99226</th>\n",
       "      <td>8khuigju2warmkv</td>\n",
       "      <td>肺部炎症</td>\n",
       "    </tr>\n",
       "    <tr>\n",
       "      <th>99227</th>\n",
       "      <td>8khuiznejzou7ns</td>\n",
       "      <td>肺部炎症</td>\n",
       "    </tr>\n",
       "    <tr>\n",
       "      <th>99228</th>\n",
       "      <td>8khuoailizhgeak</td>\n",
       "      <td>肺部炎症</td>\n",
       "    </tr>\n",
       "    <tr>\n",
       "      <th>99229</th>\n",
       "      <td>8khvd09ydliwyrk</td>\n",
       "      <td>肺部炎症</td>\n",
       "    </tr>\n",
       "    <tr>\n",
       "      <th>99230</th>\n",
       "      <td>8khvgo8ar3yioyd</td>\n",
       "      <td>肺部炎症</td>\n",
       "    </tr>\n",
       "  </tbody>\n",
       "</table>\n",
       "<p>1189 rows × 2 columns</p>\n",
       "</div>"
      ],
      "text/plain": [
       "            ORDER_CODE TAG_ID\n",
       "98042     004283589829   肺部炎症\n",
       "98043     007253332046   肺部炎症\n",
       "98044     010410644257   肺部炎症\n",
       "98045     011202381058   肺部炎症\n",
       "98046     018925599428   肺部炎症\n",
       "...                ...    ...\n",
       "99226  8khuigju2warmkv   肺部炎症\n",
       "99227  8khuiznejzou7ns   肺部炎症\n",
       "99228  8khuoailizhgeak   肺部炎症\n",
       "99229  8khvd09ydliwyrk   肺部炎症\n",
       "99230  8khvgo8ar3yioyd   肺部炎症\n",
       "\n",
       "[1189 rows x 2 columns]"
      ]
     },
     "execution_count": 55,
     "metadata": {},
     "output_type": "execute_result"
    }
   ],
   "source": [
    "tagselect"
   ]
  },
  {
   "cell_type": "code",
   "execution_count": 42,
   "metadata": {},
   "outputs": [],
   "source": [
    "tagselect = tagselect.set_index(\"ORDER_CODE\")\n",
    "tagall_all_ = tagall_all_.set_index(\"ORDER_CODE\")"
   ]
  },
  {
   "cell_type": "code",
   "execution_count": 60,
   "metadata": {},
   "outputs": [],
   "source": [
    "tag3 = tagall_all_.loc[tagall_all_.ORDER_CODE.isin(tagselect.ORDER_CODE.values),:]"
   ]
  },
  {
   "cell_type": "code",
   "execution_count": 61,
   "metadata": {},
   "outputs": [],
   "source": [
    "tag3.to_excel(r\"C:\\Users\\13670\\Desktop\\tag3.xlsx\")"
   ]
  },
  {
   "cell_type": "code",
   "execution_count": 58,
   "metadata": {},
   "outputs": [
    {
     "data": {
      "text/plain": [
       "array(['004283589829', '007253332046', '010410644257', ...,\n",
       "       '8khuoailizhgeak', '8khvd09ydliwyrk', '8khvgo8ar3yioyd'],\n",
       "      dtype=object)"
      ]
     },
     "execution_count": 58,
     "metadata": {},
     "output_type": "execute_result"
    }
   ],
   "source": [
    "tagselect.ORDER_CODE.values"
   ]
  },
  {
   "cell_type": "code",
   "execution_count": 38,
   "metadata": {},
   "outputs": [],
   "source": [
    "tag3 = pd.merge(tagselect,tagall_all_)"
   ]
  },
  {
   "cell_type": "code",
   "execution_count": 43,
   "metadata": {
    "collapsed": true
   },
   "outputs": [
    {
     "ename": "ValueError",
     "evalue": "columns overlap but no suffix specified: Index(['TAG_ID'], dtype='object')",
     "output_type": "error",
     "traceback": [
      "\u001b[1;31m---------------------------------------------------------------------------\u001b[0m",
      "\u001b[1;31mValueError\u001b[0m                                Traceback (most recent call last)",
      "\u001b[1;32m<ipython-input-43-7bbaf3ae4f66>\u001b[0m in \u001b[0;36m<module>\u001b[1;34m\u001b[0m\n\u001b[1;32m----> 1\u001b[1;33m \u001b[0mtag3\u001b[0m \u001b[1;33m=\u001b[0m \u001b[0mtagselect\u001b[0m\u001b[1;33m.\u001b[0m\u001b[0mjoin\u001b[0m\u001b[1;33m(\u001b[0m\u001b[0mtagall_all_\u001b[0m\u001b[1;33m)\u001b[0m\u001b[1;33m\u001b[0m\u001b[1;33m\u001b[0m\u001b[0m\n\u001b[0m",
      "\u001b[1;32m~\\Anaconda3\\lib\\site-packages\\pandas\\core\\frame.py\u001b[0m in \u001b[0;36mjoin\u001b[1;34m(self, other, on, how, lsuffix, rsuffix, sort)\u001b[0m\n\u001b[0;32m   7868\u001b[0m         \"\"\"\n\u001b[0;32m   7869\u001b[0m         return self._join_compat(\n\u001b[1;32m-> 7870\u001b[1;33m             \u001b[0mother\u001b[0m\u001b[1;33m,\u001b[0m \u001b[0mon\u001b[0m\u001b[1;33m=\u001b[0m\u001b[0mon\u001b[0m\u001b[1;33m,\u001b[0m \u001b[0mhow\u001b[0m\u001b[1;33m=\u001b[0m\u001b[0mhow\u001b[0m\u001b[1;33m,\u001b[0m \u001b[0mlsuffix\u001b[0m\u001b[1;33m=\u001b[0m\u001b[0mlsuffix\u001b[0m\u001b[1;33m,\u001b[0m \u001b[0mrsuffix\u001b[0m\u001b[1;33m=\u001b[0m\u001b[0mrsuffix\u001b[0m\u001b[1;33m,\u001b[0m \u001b[0msort\u001b[0m\u001b[1;33m=\u001b[0m\u001b[0msort\u001b[0m\u001b[1;33m\u001b[0m\u001b[1;33m\u001b[0m\u001b[0m\n\u001b[0m\u001b[0;32m   7871\u001b[0m         )\n\u001b[0;32m   7872\u001b[0m \u001b[1;33m\u001b[0m\u001b[0m\n",
      "\u001b[1;32m~\\Anaconda3\\lib\\site-packages\\pandas\\core\\frame.py\u001b[0m in \u001b[0;36m_join_compat\u001b[1;34m(self, other, on, how, lsuffix, rsuffix, sort)\u001b[0m\n\u001b[0;32m   7891\u001b[0m                 \u001b[0mright_index\u001b[0m\u001b[1;33m=\u001b[0m\u001b[1;32mTrue\u001b[0m\u001b[1;33m,\u001b[0m\u001b[1;33m\u001b[0m\u001b[1;33m\u001b[0m\u001b[0m\n\u001b[0;32m   7892\u001b[0m                 \u001b[0msuffixes\u001b[0m\u001b[1;33m=\u001b[0m\u001b[1;33m(\u001b[0m\u001b[0mlsuffix\u001b[0m\u001b[1;33m,\u001b[0m \u001b[0mrsuffix\u001b[0m\u001b[1;33m)\u001b[0m\u001b[1;33m,\u001b[0m\u001b[1;33m\u001b[0m\u001b[1;33m\u001b[0m\u001b[0m\n\u001b[1;32m-> 7893\u001b[1;33m                 \u001b[0msort\u001b[0m\u001b[1;33m=\u001b[0m\u001b[0msort\u001b[0m\u001b[1;33m,\u001b[0m\u001b[1;33m\u001b[0m\u001b[1;33m\u001b[0m\u001b[0m\n\u001b[0m\u001b[0;32m   7894\u001b[0m             )\n\u001b[0;32m   7895\u001b[0m         \u001b[1;32melse\u001b[0m\u001b[1;33m:\u001b[0m\u001b[1;33m\u001b[0m\u001b[1;33m\u001b[0m\u001b[0m\n",
      "\u001b[1;32m~\\Anaconda3\\lib\\site-packages\\pandas\\core\\reshape\\merge.py\u001b[0m in \u001b[0;36mmerge\u001b[1;34m(left, right, how, on, left_on, right_on, left_index, right_index, sort, suffixes, copy, indicator, validate)\u001b[0m\n\u001b[0;32m     87\u001b[0m         \u001b[0mvalidate\u001b[0m\u001b[1;33m=\u001b[0m\u001b[0mvalidate\u001b[0m\u001b[1;33m,\u001b[0m\u001b[1;33m\u001b[0m\u001b[1;33m\u001b[0m\u001b[0m\n\u001b[0;32m     88\u001b[0m     )\n\u001b[1;32m---> 89\u001b[1;33m     \u001b[1;32mreturn\u001b[0m \u001b[0mop\u001b[0m\u001b[1;33m.\u001b[0m\u001b[0mget_result\u001b[0m\u001b[1;33m(\u001b[0m\u001b[1;33m)\u001b[0m\u001b[1;33m\u001b[0m\u001b[1;33m\u001b[0m\u001b[0m\n\u001b[0m\u001b[0;32m     90\u001b[0m \u001b[1;33m\u001b[0m\u001b[0m\n\u001b[0;32m     91\u001b[0m \u001b[1;33m\u001b[0m\u001b[0m\n",
      "\u001b[1;32m~\\Anaconda3\\lib\\site-packages\\pandas\\core\\reshape\\merge.py\u001b[0m in \u001b[0;36mget_result\u001b[1;34m(self)\u001b[0m\n\u001b[0;32m    669\u001b[0m \u001b[1;33m\u001b[0m\u001b[0m\n\u001b[0;32m    670\u001b[0m         llabels, rlabels = _items_overlap_with_suffix(\n\u001b[1;32m--> 671\u001b[1;33m             \u001b[0mself\u001b[0m\u001b[1;33m.\u001b[0m\u001b[0mleft\u001b[0m\u001b[1;33m.\u001b[0m\u001b[0m_info_axis\u001b[0m\u001b[1;33m,\u001b[0m \u001b[0mself\u001b[0m\u001b[1;33m.\u001b[0m\u001b[0mright\u001b[0m\u001b[1;33m.\u001b[0m\u001b[0m_info_axis\u001b[0m\u001b[1;33m,\u001b[0m \u001b[0mself\u001b[0m\u001b[1;33m.\u001b[0m\u001b[0msuffixes\u001b[0m\u001b[1;33m\u001b[0m\u001b[1;33m\u001b[0m\u001b[0m\n\u001b[0m\u001b[0;32m    672\u001b[0m         )\n\u001b[0;32m    673\u001b[0m \u001b[1;33m\u001b[0m\u001b[0m\n",
      "\u001b[1;32m~\\Anaconda3\\lib\\site-packages\\pandas\\core\\reshape\\merge.py\u001b[0m in \u001b[0;36m_items_overlap_with_suffix\u001b[1;34m(left, right, suffixes)\u001b[0m\n\u001b[0;32m   2089\u001b[0m \u001b[1;33m\u001b[0m\u001b[0m\n\u001b[0;32m   2090\u001b[0m     \u001b[1;32mif\u001b[0m \u001b[1;32mnot\u001b[0m \u001b[0mlsuffix\u001b[0m \u001b[1;32mand\u001b[0m \u001b[1;32mnot\u001b[0m \u001b[0mrsuffix\u001b[0m\u001b[1;33m:\u001b[0m\u001b[1;33m\u001b[0m\u001b[1;33m\u001b[0m\u001b[0m\n\u001b[1;32m-> 2091\u001b[1;33m         \u001b[1;32mraise\u001b[0m \u001b[0mValueError\u001b[0m\u001b[1;33m(\u001b[0m\u001b[1;34mf\"columns overlap but no suffix specified: {to_rename}\"\u001b[0m\u001b[1;33m)\u001b[0m\u001b[1;33m\u001b[0m\u001b[1;33m\u001b[0m\u001b[0m\n\u001b[0m\u001b[0;32m   2092\u001b[0m \u001b[1;33m\u001b[0m\u001b[0m\n\u001b[0;32m   2093\u001b[0m     \u001b[1;32mdef\u001b[0m \u001b[0mrenamer\u001b[0m\u001b[1;33m(\u001b[0m\u001b[0mx\u001b[0m\u001b[1;33m,\u001b[0m \u001b[0msuffix\u001b[0m\u001b[1;33m)\u001b[0m\u001b[1;33m:\u001b[0m\u001b[1;33m\u001b[0m\u001b[1;33m\u001b[0m\u001b[0m\n",
      "\u001b[1;31mValueError\u001b[0m: columns overlap but no suffix specified: Index(['TAG_ID'], dtype='object')"
     ]
    }
   ],
   "source": [
    "tag3 = tagselect.join(tagall_all_)"
   ]
  },
  {
   "cell_type": "code",
   "execution_count": 28,
   "metadata": {},
   "outputs": [],
   "source": [
    "tag1 = pd.merge(tagselect,df_all,left_on = \"ORDER_CODE\",right_on = 'order_code')"
   ]
  },
  {
   "cell_type": "code",
   "execution_count": 34,
   "metadata": {},
   "outputs": [],
   "source": [
    "tag1.to_excel(r\"C:\\Users\\13670\\Desktop\\tag1.xlsx\")"
   ]
  },
  {
   "cell_type": "code",
   "execution_count": 30,
   "metadata": {},
   "outputs": [],
   "source": [
    "tag2 = tag1.loc[:,['order_code','taglist']]"
   ]
  },
  {
   "cell_type": "code",
   "execution_count": 31,
   "metadata": {},
   "outputs": [],
   "source": [
    "rules_ = AprioriAnalysis(tag2,0.02,0.05)"
   ]
  },
  {
   "cell_type": "code",
   "execution_count": 9,
   "metadata": {},
   "outputs": [],
   "source": [
    "tagall_all_.replace(dict_,inplace=True)"
   ]
  },
  {
   "cell_type": "code",
   "execution_count": 12,
   "metadata": {},
   "outputs": [],
   "source": [
    "df_all = PrepareData(tagall_all_)"
   ]
  },
  {
   "cell_type": "code",
   "execution_count": 62,
   "metadata": {},
   "outputs": [],
   "source": [
    "df_all.to_excel(r\"C:\\Users\\13670\\Desktop\\tag4.xlsx\")"
   ]
  },
  {
   "cell_type": "code",
   "execution_count": 18,
   "metadata": {},
   "outputs": [],
   "source": [
    "rules_ = AprioriAnalysis(df_all,0.001,0.5)"
   ]
  },
  {
   "cell_type": "code",
   "execution_count": 13,
   "metadata": {
    "collapsed": true
   },
   "outputs": [
    {
     "data": {
      "text/html": [
       "<div>\n",
       "<style scoped>\n",
       "    .dataframe tbody tr th:only-of-type {\n",
       "        vertical-align: middle;\n",
       "    }\n",
       "\n",
       "    .dataframe tbody tr th {\n",
       "        vertical-align: top;\n",
       "    }\n",
       "\n",
       "    .dataframe thead th {\n",
       "        text-align: right;\n",
       "    }\n",
       "</style>\n",
       "<table border=\"1\" class=\"dataframe\">\n",
       "  <thead>\n",
       "    <tr style=\"text-align: right;\">\n",
       "      <th></th>\n",
       "      <th>order_code</th>\n",
       "      <th>taglist</th>\n",
       "    </tr>\n",
       "  </thead>\n",
       "  <tbody>\n",
       "    <tr>\n",
       "      <th>0</th>\n",
       "      <td>000021716684</td>\n",
       "      <td>[肺纹理增多/增粗]</td>\n",
       "    </tr>\n",
       "    <tr>\n",
       "      <th>1</th>\n",
       "      <td>000024104833</td>\n",
       "      <td>[肺内条索状高密度影, 肺纹理增多/增粗, 肺透亮度增高, 慢性支气管炎, 肺气肿]</td>\n",
       "    </tr>\n",
       "    <tr>\n",
       "      <th>2</th>\n",
       "      <td>000032212393</td>\n",
       "      <td>[肺纹理增多/增粗, 肺纹理紊乱, 慢性支气管炎]</td>\n",
       "    </tr>\n",
       "    <tr>\n",
       "      <th>3</th>\n",
       "      <td>000055717600</td>\n",
       "      <td>[肺纹理增多/增粗, 肺门影增浓]</td>\n",
       "    </tr>\n",
       "    <tr>\n",
       "      <th>4</th>\n",
       "      <td>000062426821</td>\n",
       "      <td>[肺结节, 肺内磨玻璃影]</td>\n",
       "    </tr>\n",
       "    <tr>\n",
       "      <th>...</th>\n",
       "      <td>...</td>\n",
       "      <td>...</td>\n",
       "    </tr>\n",
       "    <tr>\n",
       "      <th>64171</th>\n",
       "      <td>999879551219</td>\n",
       "      <td>[肺纹理增多/增粗]</td>\n",
       "    </tr>\n",
       "    <tr>\n",
       "      <th>64172</th>\n",
       "      <td>999895356582</td>\n",
       "      <td>[肺纹理增多/增粗, 肺结节]</td>\n",
       "    </tr>\n",
       "    <tr>\n",
       "      <th>64173</th>\n",
       "      <td>999940416337</td>\n",
       "      <td>[肺纹理增多/增粗]</td>\n",
       "    </tr>\n",
       "    <tr>\n",
       "      <th>64174</th>\n",
       "      <td>999950213802</td>\n",
       "      <td>[肺门影无增浓]</td>\n",
       "    </tr>\n",
       "    <tr>\n",
       "      <th>64175</th>\n",
       "      <td>999990770784</td>\n",
       "      <td>[肺门影无增浓]</td>\n",
       "    </tr>\n",
       "  </tbody>\n",
       "</table>\n",
       "<p>64176 rows × 2 columns</p>\n",
       "</div>"
      ],
      "text/plain": [
       "         order_code                                     taglist\n",
       "0      000021716684                                  [肺纹理增多/增粗]\n",
       "1      000024104833  [肺内条索状高密度影, 肺纹理增多/增粗, 肺透亮度增高, 慢性支气管炎, 肺气肿]\n",
       "2      000032212393                   [肺纹理增多/增粗, 肺纹理紊乱, 慢性支气管炎]\n",
       "3      000055717600                           [肺纹理增多/增粗, 肺门影增浓]\n",
       "4      000062426821                               [肺结节, 肺内磨玻璃影]\n",
       "...             ...                                         ...\n",
       "64171  999879551219                                  [肺纹理增多/增粗]\n",
       "64172  999895356582                             [肺纹理增多/增粗, 肺结节]\n",
       "64173  999940416337                                  [肺纹理增多/增粗]\n",
       "64174  999950213802                                    [肺门影无增浓]\n",
       "64175  999990770784                                    [肺门影无增浓]\n",
       "\n",
       "[64176 rows x 2 columns]"
      ]
     },
     "execution_count": 13,
     "metadata": {},
     "output_type": "execute_result"
    }
   ],
   "source": [
    "df_all"
   ]
  },
  {
   "cell_type": "code",
   "execution_count": 19,
   "metadata": {},
   "outputs": [],
   "source": [
    "rules_.to_excel(r\"C:\\Users\\13670\\Desktop\\rules_.xlsx\")"
   ]
  },
  {
   "cell_type": "code",
   "execution_count": 4,
   "metadata": {},
   "outputs": [],
   "source": [
    "tagall = pd.read_pickle(r\"C:\\Users\\13670\\Desktop\\待完成\\项目4 回声tag分析\\thyroidtag.pkl\")\n",
    "thyroid = pd.read_excel(r\"C:\\Users\\13670\\Desktop\\待完成\\项目4 回声tag分析\\甲状腺\\20201014\\甲状腺dict.xlsx\")"
   ]
  },
  {
   "cell_type": "code",
   "execution_count": 18,
   "metadata": {},
   "outputs": [],
   "source": [
    "tagidlist = thyroid.loc[thyroid.logic.isin (['A','a','B','b']),'tag_id']\n",
    "tagall_AB_ = pd.merge(tagall,tagidlist)"
   ]
  },
  {
   "cell_type": "code",
   "execution_count": 44,
   "metadata": {
    "collapsed": true
   },
   "outputs": [
    {
     "data": {
      "text/plain": [
       "0            000082773354\n",
       "1            000089990027\n",
       "2            000275084773\n",
       "3            000316125517\n",
       "4            000319342337\n",
       "               ...       \n",
       "188601    8kfki70rk2oabpz\n",
       "188602    8kfkibdt0zwxuey\n",
       "188746    8kfp03gfqptyntz\n",
       "188751    8kfp44txbtnvgms\n",
       "188759    8kfp7ynsp6cuety\n",
       "Name: order_code, Length: 84475, dtype: object"
      ]
     },
     "execution_count": 44,
     "metadata": {},
     "output_type": "execute_result"
    }
   ],
   "source": [
    "tagall_AB_.order_code.drop_duplicates()"
   ]
  },
  {
   "cell_type": "code",
   "execution_count": 19,
   "metadata": {},
   "outputs": [],
   "source": [
    "dict_ = thyroid.set_index(\"tag_id\").to_dict()[\"id_name\"]"
   ]
  },
  {
   "cell_type": "code",
   "execution_count": 29,
   "metadata": {},
   "outputs": [],
   "source": [
    "tagall_AB_.replace(dict_,inplace=True)"
   ]
  },
  {
   "cell_type": "code",
   "execution_count": 41,
   "metadata": {},
   "outputs": [],
   "source": [
    "df_AB = PrepareData(tagall_AB_)\n",
    "\n",
    "df_AB.to_excel(r\"C:\\Users\\13670\\Desktop\\待完成\\项目4 回声tag分析\\甲状腺\\20201102\\AB.xlsx\")"
   ]
  },
  {
   "cell_type": "markdown",
   "metadata": {},
   "source": [
    "#### 2. 局部病变（A）"
   ]
  },
  {
   "cell_type": "code",
   "execution_count": 65,
   "metadata": {},
   "outputs": [],
   "source": [
    "tagidlist_A = thyroid.loc[thyroid.logic.isin (['A','a']),'tag_id']\n",
    "tagall_A = pd.merge(tagall,tagidlist_A)\n",
    "tagall_A_ = tagall_A.copy()\n",
    "dict_A = thyroid.set_index(\"tag_id\").to_dict()[\"id_name\"]\n",
    "tagall_A_.replace(dict_A,inplace=True)"
   ]
  },
  {
   "cell_type": "code",
   "execution_count": 51,
   "metadata": {
    "collapsed": true
   },
   "outputs": [
    {
     "data": {
      "text/html": [
       "<div>\n",
       "<style scoped>\n",
       "    .dataframe tbody tr th:only-of-type {\n",
       "        vertical-align: middle;\n",
       "    }\n",
       "\n",
       "    .dataframe tbody tr th {\n",
       "        vertical-align: top;\n",
       "    }\n",
       "\n",
       "    .dataframe thead th {\n",
       "        text-align: right;\n",
       "    }\n",
       "</style>\n",
       "<table border=\"1\" class=\"dataframe\">\n",
       "  <thead>\n",
       "    <tr style=\"text-align: right;\">\n",
       "      <th></th>\n",
       "      <th>order_code</th>\n",
       "      <th>tag_id</th>\n",
       "    </tr>\n",
       "  </thead>\n",
       "  <tbody>\n",
       "    <tr>\n",
       "      <th>0</th>\n",
       "      <td>000082773354</td>\n",
       "      <td>甲状腺回声不均匀</td>\n",
       "    </tr>\n",
       "    <tr>\n",
       "      <th>1</th>\n",
       "      <td>000089990027</td>\n",
       "      <td>甲状腺回声不均匀</td>\n",
       "    </tr>\n",
       "    <tr>\n",
       "      <th>2</th>\n",
       "      <td>000275084773</td>\n",
       "      <td>甲状腺回声不均匀</td>\n",
       "    </tr>\n",
       "    <tr>\n",
       "      <th>3</th>\n",
       "      <td>000316125517</td>\n",
       "      <td>甲状腺回声不均匀</td>\n",
       "    </tr>\n",
       "    <tr>\n",
       "      <th>4</th>\n",
       "      <td>000319342337</td>\n",
       "      <td>甲状腺回声不均匀</td>\n",
       "    </tr>\n",
       "    <tr>\n",
       "      <th>...</th>\n",
       "      <td>...</td>\n",
       "      <td>...</td>\n",
       "    </tr>\n",
       "    <tr>\n",
       "      <th>189882</th>\n",
       "      <td>8kf5cy61ng1ggyc</td>\n",
       "      <td>甲状腺强回声，边界不清</td>\n",
       "    </tr>\n",
       "    <tr>\n",
       "      <th>189883</th>\n",
       "      <td>8kf6s8sak1cpd9m</td>\n",
       "      <td>甲状腺强回声，边界不清</td>\n",
       "    </tr>\n",
       "    <tr>\n",
       "      <th>189884</th>\n",
       "      <td>8kg29dqp5adu5vc</td>\n",
       "      <td>甲状腺强回声，边界不清</td>\n",
       "    </tr>\n",
       "    <tr>\n",
       "      <th>189885</th>\n",
       "      <td>940416047392</td>\n",
       "      <td>甲状腺无回声，形态不规则</td>\n",
       "    </tr>\n",
       "    <tr>\n",
       "      <th>189886</th>\n",
       "      <td>8kfo3pop7gt1snm</td>\n",
       "      <td>甲状腺无回声，形态不规则</td>\n",
       "    </tr>\n",
       "  </tbody>\n",
       "</table>\n",
       "<p>189887 rows × 2 columns</p>\n",
       "</div>"
      ],
      "text/plain": [
       "             order_code        tag_id\n",
       "0          000082773354      甲状腺回声不均匀\n",
       "1          000089990027      甲状腺回声不均匀\n",
       "2          000275084773      甲状腺回声不均匀\n",
       "3          000316125517      甲状腺回声不均匀\n",
       "4          000319342337      甲状腺回声不均匀\n",
       "...                 ...           ...\n",
       "189882  8kf5cy61ng1ggyc   甲状腺强回声，边界不清\n",
       "189883  8kf6s8sak1cpd9m   甲状腺强回声，边界不清\n",
       "189884  8kg29dqp5adu5vc   甲状腺强回声，边界不清\n",
       "189885     940416047392  甲状腺无回声，形态不规则\n",
       "189886  8kfo3pop7gt1snm  甲状腺无回声，形态不规则\n",
       "\n",
       "[189887 rows x 2 columns]"
      ]
     },
     "execution_count": 51,
     "metadata": {},
     "output_type": "execute_result"
    }
   ],
   "source": [
    "tagall_A_"
   ]
  },
  {
   "cell_type": "code",
   "execution_count": 67,
   "metadata": {},
   "outputs": [],
   "source": [
    "df_A = PrepareData(tagall_A_)\n",
    "\n",
    "df_A.to_excel(r\"C:\\Users\\13670\\Desktop\\待完成\\项目4 回声tag分析\\甲状腺\\20201102\\A.xlsx\")"
   ]
  },
  {
   "cell_type": "markdown",
   "metadata": {},
   "source": [
    "#### 3. 局部病变（abbr）"
   ]
  },
  {
   "cell_type": "code",
   "execution_count": 66,
   "metadata": {},
   "outputs": [],
   "source": [
    "tagidlist_abbr = thyroid.loc[thyroid.logic.isin (['A','a']),'tag_id']\n",
    "tagall_abbr = pd.merge(tagall,tagidlist_abbr)\n",
    "tagall_abbr_ = tagall_abbr.copy()\n",
    "dict_abbr = thyroid.set_index(\"tag_id\").to_dict()[\"abbr\"]\n",
    "tagall_abbr_.replace(dict_abbr,inplace=True)\n",
    "tagall_abbr1 = tagall_abbr_.drop_duplicates()"
   ]
  },
  {
   "cell_type": "code",
   "execution_count": 55,
   "metadata": {
    "collapsed": true
   },
   "outputs": [
    {
     "data": {
      "text/html": [
       "<div>\n",
       "<style scoped>\n",
       "    .dataframe tbody tr th:only-of-type {\n",
       "        vertical-align: middle;\n",
       "    }\n",
       "\n",
       "    .dataframe tbody tr th {\n",
       "        vertical-align: top;\n",
       "    }\n",
       "\n",
       "    .dataframe thead th {\n",
       "        text-align: right;\n",
       "    }\n",
       "</style>\n",
       "<table border=\"1\" class=\"dataframe\">\n",
       "  <thead>\n",
       "    <tr style=\"text-align: right;\">\n",
       "      <th></th>\n",
       "      <th>order_code</th>\n",
       "      <th>tag_id</th>\n",
       "    </tr>\n",
       "  </thead>\n",
       "  <tbody>\n",
       "    <tr>\n",
       "      <th>0</th>\n",
       "      <td>000082773354</td>\n",
       "      <td>回声不均匀</td>\n",
       "    </tr>\n",
       "    <tr>\n",
       "      <th>1</th>\n",
       "      <td>000089990027</td>\n",
       "      <td>回声不均匀</td>\n",
       "    </tr>\n",
       "    <tr>\n",
       "      <th>2</th>\n",
       "      <td>000275084773</td>\n",
       "      <td>回声不均匀</td>\n",
       "    </tr>\n",
       "    <tr>\n",
       "      <th>3</th>\n",
       "      <td>000316125517</td>\n",
       "      <td>回声不均匀</td>\n",
       "    </tr>\n",
       "    <tr>\n",
       "      <th>4</th>\n",
       "      <td>000319342337</td>\n",
       "      <td>回声不均匀</td>\n",
       "    </tr>\n",
       "    <tr>\n",
       "      <th>...</th>\n",
       "      <td>...</td>\n",
       "      <td>...</td>\n",
       "    </tr>\n",
       "    <tr>\n",
       "      <th>189759</th>\n",
       "      <td>8kfz0278ehe1drn</td>\n",
       "      <td>占位性病变</td>\n",
       "    </tr>\n",
       "    <tr>\n",
       "      <th>189760</th>\n",
       "      <td>8kg2ib429jl06ke</td>\n",
       "      <td>占位性病变</td>\n",
       "    </tr>\n",
       "    <tr>\n",
       "      <th>189761</th>\n",
       "      <td>8kg3asltxo22m2e</td>\n",
       "      <td>占位性病变</td>\n",
       "    </tr>\n",
       "    <tr>\n",
       "      <th>189762</th>\n",
       "      <td>8kg4t9apkcl4lj0</td>\n",
       "      <td>占位性病变</td>\n",
       "    </tr>\n",
       "    <tr>\n",
       "      <th>189763</th>\n",
       "      <td>8kg4xscbdpxauhz</td>\n",
       "      <td>占位性病变</td>\n",
       "    </tr>\n",
       "  </tbody>\n",
       "</table>\n",
       "<p>189014 rows × 2 columns</p>\n",
       "</div>"
      ],
      "text/plain": [
       "             order_code tag_id\n",
       "0          000082773354  回声不均匀\n",
       "1          000089990027  回声不均匀\n",
       "2          000275084773  回声不均匀\n",
       "3          000316125517  回声不均匀\n",
       "4          000319342337  回声不均匀\n",
       "...                 ...    ...\n",
       "189759  8kfz0278ehe1drn  占位性病变\n",
       "189760  8kg2ib429jl06ke  占位性病变\n",
       "189761  8kg3asltxo22m2e  占位性病变\n",
       "189762  8kg4t9apkcl4lj0  占位性病变\n",
       "189763  8kg4xscbdpxauhz  占位性病变\n",
       "\n",
       "[189014 rows x 2 columns]"
      ]
     },
     "execution_count": 55,
     "metadata": {},
     "output_type": "execute_result"
    }
   ],
   "source": [
    "tagall_abbr1"
   ]
  },
  {
   "cell_type": "code",
   "execution_count": 68,
   "metadata": {},
   "outputs": [],
   "source": [
    "df_abbr = PrepareData(tagall_abbr1)\n",
    "\n",
    "df_abbr.to_excel(r\"C:\\Users\\13670\\Desktop\\待完成\\项目4 回声tag分析\\甲状腺\\20201102\\abbr.xlsx\")"
   ]
  },
  {
   "cell_type": "markdown",
   "metadata": {},
   "source": [
    "### 4. 全量tag"
   ]
  },
  {
   "cell_type": "code",
   "execution_count": 77,
   "metadata": {},
   "outputs": [],
   "source": [
    "tagall_all = tagall.copy()\n",
    "dict_all = thyroid.set_index(\"tag_id\").to_dict()[\"id_name\"]\n",
    "tagall_all.replace(dict_all,inplace=True)"
   ]
  },
  {
   "cell_type": "code",
   "execution_count": 82,
   "metadata": {},
   "outputs": [],
   "source": [
    "df_all = PrepareData(tagall_all)\n",
    "\n",
    "df_all.to_excel(r\"C:\\Users\\13670\\Desktop\\待完成\\项目4 回声tag分析\\甲状腺\\20201102\\all.xlsx\")"
   ]
  },
  {
   "cell_type": "markdown",
   "metadata": {},
   "source": [
    "### 二、关联分析"
   ]
  },
  {
   "cell_type": "code",
   "execution_count": null,
   "metadata": {},
   "outputs": [],
   "source": [
    "# 重新读进数据，使用这段代码\n",
    "\n",
    "# def AprioriAnalysis(dfData,min_supp,min_conf):\n",
    "#         DataList = []\n",
    "#         for item in dfData.taglist:\n",
    "#             item_ = eval(item)\n",
    "#             DataList.append(item_)\n",
    "#         te = TransactionEncoder()\n",
    "#         df_tf = te.fit_transform(DataList)\n",
    "#         df = pd.DataFrame(df_tf,columns=te.columns_)\n",
    "\n",
    "#         frequent_itemsets = apriori(df,min_support= min_supp,use_colnames= True)\n",
    "#         rules = association_rules(frequent_itemsets,metric = 'confidence',min_threshold = min_conf)\n",
    "#         # rules = rules.drop(rules[rules.lift <1.0].index)\n",
    "#         rules.rename(columns = {'antecedents':'from','consequents':'to','support':'sup','confidence':'conf'},inplace = True)\n",
    "#         rules.sort_values(by = ['sup','conf'],ascending = (False,False))\n",
    "#         return rules"
   ]
  },
  {
   "cell_type": "code",
   "execution_count": 15,
   "metadata": {},
   "outputs": [],
   "source": [
    "def AprioriAnalysis(dfData,min_supp,min_conf):\n",
    "    DataList = dfData.taglist.values.tolist()\n",
    "    te = TransactionEncoder()\n",
    "    df_tf = te.fit_transform(DataList)\n",
    "    df = pd.DataFrame(df_tf,columns=te.columns_)\n",
    "    frequent_itemsets = apriori(df,min_support= min_supp,use_colnames= True)\n",
    "    rules = association_rules(frequent_itemsets,metric = 'confidence',min_threshold = min_conf)\n",
    "    rules.rename(columns = {'antecedents':'from','consequents':'to','support':'sup','confidence':'conf'},inplace = True)\n",
    "    rules.sort_values(by = ['sup','conf'],ascending = (False,False))\n",
    "    return rules"
   ]
  },
  {
   "cell_type": "markdown",
   "metadata": {},
   "source": [
    "### 1.全部（AB）"
   ]
  },
  {
   "cell_type": "code",
   "execution_count": 70,
   "metadata": {},
   "outputs": [],
   "source": [
    "rules_AB = AprioriAnalysis(df_AB,0.001,0.015)"
   ]
  },
  {
   "cell_type": "code",
   "execution_count": 71,
   "metadata": {},
   "outputs": [],
   "source": [
    "rules_AB.to_excel(r\"C:\\Users\\13670\\Desktop\\待完成\\项目4 回声tag分析\\甲状腺\\20201102\\rules_AB.xlsx\")"
   ]
  },
  {
   "cell_type": "markdown",
   "metadata": {},
   "source": [
    "### 2.局部病变（A）"
   ]
  },
  {
   "cell_type": "code",
   "execution_count": 72,
   "metadata": {},
   "outputs": [],
   "source": [
    "rules_A = AprioriAnalysis(df_A,0.001,0.015)"
   ]
  },
  {
   "cell_type": "code",
   "execution_count": 73,
   "metadata": {},
   "outputs": [],
   "source": [
    "rules_A.to_excel(r\"C:\\Users\\13670\\Desktop\\待完成\\项目4 回声tag分析\\甲状腺\\20201102\\rules_A.xlsx\")"
   ]
  },
  {
   "cell_type": "markdown",
   "metadata": {},
   "source": [
    "### 3. 局部病变缩写（abbr）"
   ]
  },
  {
   "cell_type": "code",
   "execution_count": 74,
   "metadata": {},
   "outputs": [],
   "source": [
    "rules_abbr = AprioriAnalysis(df_abbr,0.001,0.015)"
   ]
  },
  {
   "cell_type": "code",
   "execution_count": 75,
   "metadata": {},
   "outputs": [],
   "source": [
    "rules_abbr.to_excel(r\"C:\\Users\\13670\\Desktop\\待完成\\项目4 回声tag分析\\甲状腺\\20201102\\rules_abbr.xlsx\")"
   ]
  },
  {
   "cell_type": "markdown",
   "metadata": {},
   "source": [
    "### 4.全部（all）"
   ]
  },
  {
   "cell_type": "code",
   "execution_count": 83,
   "metadata": {},
   "outputs": [],
   "source": [
    "rules_all = AprioriAnalysis(df_all,0.001,0.015)\n",
    "\n",
    "rules_all.to_excel(r\"C:\\Users\\13670\\Desktop\\待完成\\项目4 回声tag分析\\甲状腺\\20201102\\rules_all.xlsx\")"
   ]
  }
 ],
 "metadata": {
  "kernelspec": {
   "display_name": "Python 3",
   "language": "python",
   "name": "python3"
  },
  "language_info": {
   "codemirror_mode": {
    "name": "ipython",
    "version": 3
   },
   "file_extension": ".py",
   "mimetype": "text/x-python",
   "name": "python",
   "nbconvert_exporter": "python",
   "pygments_lexer": "ipython3",
   "version": "3.7.6"
  }
 },
 "nbformat": 4,
 "nbformat_minor": 4
}
