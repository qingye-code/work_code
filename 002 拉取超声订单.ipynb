{
 "cells": [
  {
   "cell_type": "code",
   "execution_count": 1,
   "metadata": {},
   "outputs": [],
   "source": [
    "import pymysql\n",
    "import pandas as pd\n",
    "import numpy as np\n",
    "from functools import reduce"
   ]
  },
  {
   "cell_type": "code",
   "execution_count": 2,
   "metadata": {},
   "outputs": [],
   "source": [
    "conn=pymysql.connect(host='mysql-backup.shanzhen.me',\n",
    "                     user='readonly_medicine_liuqq',\n",
    "                     password=\"r3g1^QWgV8GeYJw4\",\n",
    "                     database='asgard_dataplatform',\n",
    "                     port= 3001,\n",
    "                     charset='utf8')"
   ]
  },
  {
   "cell_type": "code",
   "execution_count": 11,
   "metadata": {},
   "outputs": [],
   "source": [
    "dict = pd.read_excel(r\"C:\\Users\\13670\\Desktop\\dict.xlsx\")\n",
    "id_list = dict.loc[:,'id'].values.tolist()"
   ]
  },
  {
   "cell_type": "code",
   "execution_count": 6,
   "metadata": {
    "collapsed": true
   },
   "outputs": [
    {
     "data": {
      "text/plain": [
       "['OBDIM0007EX',\n",
       " 'OBDIM0007Tag0001',\n",
       " 'OBDIM0007Tag0002',\n",
       " 'OBDIM0007Tag0003',\n",
       " 'OBDIM0007Tag0004',\n",
       " 'OBDIM0007Tag0005',\n",
       " 'OBDIM0007Tag0006',\n",
       " 'OBDIM0007Tag0007',\n",
       " 'OBDIM0007Tag0008',\n",
       " 'OBDIM0007Tag0008N',\n",
       " 'OBDIM0007Tag0009',\n",
       " 'OBDIM0007Tag0010',\n",
       " 'OBDIM0007Tag0010N',\n",
       " 'OBDIM0007Tag0011',\n",
       " 'OBDIM0007Tag0011N',\n",
       " 'OBDIM0007Tag0012',\n",
       " 'OBDIM0007Tag0013',\n",
       " 'OBDIM0007Tag0014',\n",
       " 'OBDIM0007Tag0015',\n",
       " 'OBDIM0007Tag0016',\n",
       " 'OBDIM0007Tag0017',\n",
       " 'OBDIM0007Tag0018',\n",
       " 'OBDIM0007Tag0019',\n",
       " 'OBDIM0007Tag0019N',\n",
       " 'OBDIM0007Tag0020',\n",
       " 'OBDIM0007Tag0021',\n",
       " 'OBDIM0007Tag0022',\n",
       " 'OBDIM0007Tag0023',\n",
       " 'OBDIM0007Tag0024',\n",
       " 'OBDIM0007Tag0025',\n",
       " 'OBDIM0007Tag0026',\n",
       " 'OBDIM0007Tag0027',\n",
       " 'OBDIM0007Tag0028',\n",
       " 'OBDIM0007Tag0029',\n",
       " 'OBDIM0007Tag0030',\n",
       " 'OBDIM0007Tag0031',\n",
       " 'OBDIM0007Tag0032',\n",
       " 'OBDIM0007Tag0033',\n",
       " 'OBDIM0007Tag0034',\n",
       " 'OBDIM0007Tag0035',\n",
       " 'OBDIM0007Tag0036',\n",
       " 'OBDIM0007Tag0037',\n",
       " 'OBDIM0007Tag0038',\n",
       " 'OBDIM0007Tag0039',\n",
       " 'OBDIM0007Tag0040',\n",
       " 'OBDIM0007Tag0041',\n",
       " 'OBDIM0007Tag0042']"
      ]
     },
     "execution_count": 6,
     "metadata": {},
     "output_type": "execute_result"
    }
   ],
   "source": [
    "id_list"
   ]
  },
  {
   "cell_type": "code",
   "execution_count": 12,
   "metadata": {},
   "outputs": [],
   "source": [
    "tag_df = pd.DataFrame(columns=['ORDER_CODE', 'TAG_ID'])"
   ]
  },
  {
   "cell_type": "code",
   "execution_count": 13,
   "metadata": {},
   "outputs": [],
   "source": [
    "for items in id_list:\n",
    "    id_str = \"'\"+ items + \"'\"\n",
    "    tagsql = 'SELECT ORDER_CODE,TAG_ID \\\n",
    "    FROM T66_APOLLO_ANALYSIS_TAG \\\n",
    "    WHERE SOURCE_TYPE = 2 \\\n",
    "    AND SZ_STATUS = 1 AND TAG_ID IN ('+id_str+') '\n",
    "    tag = pd.read_sql(tagsql,con=conn)\n",
    "    tag_df = pd.concat([tag_df,tag],axis = 0) "
   ]
  },
  {
   "cell_type": "code",
   "execution_count": 15,
   "metadata": {},
   "outputs": [],
   "source": [
    "tag_df.to_pickle(r\"C:\\Users\\13670\\Desktop\\fei.pkl\")"
   ]
  },
  {
   "cell_type": "code",
   "execution_count": 2,
   "metadata": {},
   "outputs": [],
   "source": [
    "df = pd.read_pickle(r\"C:\\Users\\13670\\Desktop\\order_code.pkl\")"
   ]
  },
  {
   "cell_type": "code",
   "execution_count": 4,
   "metadata": {},
   "outputs": [],
   "source": [
    "df.to_csv(r\"C:\\Users\\13670\\Desktop\\order_code.csv\", index=False)"
   ]
  },
  {
   "cell_type": "code",
   "execution_count": null,
   "metadata": {},
   "outputs": [],
   "source": []
  },
  {
   "cell_type": "code",
   "execution_count": 8,
   "metadata": {},
   "outputs": [],
   "source": [
    "tag_df.to_pickle(r\"C:\\Users\\13670\\Desktop\\待完成\\项目4 回声tag分析\\肾脏\\tagall.pkl\")"
   ]
  },
  {
   "cell_type": "code",
   "execution_count": null,
   "metadata": {},
   "outputs": [],
   "source": [
    "# 2020.10.22 python分享 （去重、迭代）"
   ]
  },
  {
   "cell_type": "code",
   "execution_count": null,
   "metadata": {},
   "outputs": [],
   "source": [
    "# 场景：所有理论上的结论对应回声的排列组合"
   ]
  },
  {
   "cell_type": "code",
   "execution_count": 12,
   "metadata": {},
   "outputs": [],
   "source": [
    "import pandas as pd\n",
    "import numpy as np"
   ]
  },
  {
   "cell_type": "code",
   "execution_count": 13,
   "metadata": {},
   "outputs": [],
   "source": [
    "renal = pd.read_excel(r\"C:\\Users\\13670\\Desktop\\待完成\\项目4 回声tag分析\\肾脏\\20201016\\ranal_dict.xlsx\")"
   ]
  },
  {
   "cell_type": "code",
   "execution_count": 14,
   "metadata": {
    "collapsed": true
   },
   "outputs": [
    {
     "data": {
      "text/html": [
       "<div>\n",
       "<style scoped>\n",
       "    .dataframe tbody tr th:only-of-type {\n",
       "        vertical-align: middle;\n",
       "    }\n",
       "\n",
       "    .dataframe tbody tr th {\n",
       "        vertical-align: top;\n",
       "    }\n",
       "\n",
       "    .dataframe thead th {\n",
       "        text-align: right;\n",
       "    }\n",
       "</style>\n",
       "<table border=\"1\" class=\"dataframe\">\n",
       "  <thead>\n",
       "    <tr style=\"text-align: right;\">\n",
       "      <th></th>\n",
       "      <th>OBDIMID</th>\n",
       "      <th>OBDIMName</th>\n",
       "      <th>tag_id</th>\n",
       "      <th>TagName</th>\n",
       "      <th>sum</th>\n",
       "      <th>loc</th>\n",
       "      <th>abbr</th>\n",
       "      <th>logic</th>\n",
       "    </tr>\n",
       "  </thead>\n",
       "  <tbody>\n",
       "    <tr>\n",
       "      <th>0</th>\n",
       "      <td>OBDIM0006</td>\n",
       "      <td>超声-肾脏</td>\n",
       "      <td>OB6T5MaxEX</td>\n",
       "      <td>肾脏无回声大小最大值存在</td>\n",
       "      <td>NaN</td>\n",
       "      <td>unknow</td>\n",
       "      <td>无回声</td>\n",
       "      <td>0</td>\n",
       "    </tr>\n",
       "    <tr>\n",
       "      <th>1</th>\n",
       "      <td>OBDIM0006</td>\n",
       "      <td>超声-肾脏</td>\n",
       "      <td>OBDIM0006AB</td>\n",
       "      <td>超声-肾脏弃检</td>\n",
       "      <td>NaN</td>\n",
       "      <td>unknow</td>\n",
       "      <td>弃检</td>\n",
       "      <td>0</td>\n",
       "    </tr>\n",
       "    <tr>\n",
       "      <th>2</th>\n",
       "      <td>OBDIM0006</td>\n",
       "      <td>超声-肾脏</td>\n",
       "      <td>OBDIM0006DE</td>\n",
       "      <td>超声-肾脏延期</td>\n",
       "      <td>NaN</td>\n",
       "      <td>unknow</td>\n",
       "      <td>延期</td>\n",
       "      <td>0</td>\n",
       "    </tr>\n",
       "    <tr>\n",
       "      <th>3</th>\n",
       "      <td>OBDIM0006</td>\n",
       "      <td>超声-肾脏</td>\n",
       "      <td>OBDIM0006ER</td>\n",
       "      <td>超声-肾脏错误</td>\n",
       "      <td>NaN</td>\n",
       "      <td>unknow</td>\n",
       "      <td>错误</td>\n",
       "      <td>0</td>\n",
       "    </tr>\n",
       "    <tr>\n",
       "      <th>4</th>\n",
       "      <td>OBDIM0006</td>\n",
       "      <td>超声-肾脏</td>\n",
       "      <td>OBDIM0006EX</td>\n",
       "      <td>超声-肾脏存在</td>\n",
       "      <td>NaN</td>\n",
       "      <td>unknow</td>\n",
       "      <td>存在</td>\n",
       "      <td>0</td>\n",
       "    </tr>\n",
       "    <tr>\n",
       "      <th>...</th>\n",
       "      <td>...</td>\n",
       "      <td>...</td>\n",
       "      <td>...</td>\n",
       "      <td>...</td>\n",
       "      <td>...</td>\n",
       "      <td>...</td>\n",
       "      <td>...</td>\n",
       "      <td>...</td>\n",
       "    </tr>\n",
       "    <tr>\n",
       "      <th>114</th>\n",
       "      <td>OBDIM0006</td>\n",
       "      <td>超声-肾脏</td>\n",
       "      <td>OB6T32MaxEX</td>\n",
       "      <td>肾脏占位性病变大小最大值存在</td>\n",
       "      <td>NaN</td>\n",
       "      <td>unknow</td>\n",
       "      <td>值</td>\n",
       "      <td>值</td>\n",
       "    </tr>\n",
       "    <tr>\n",
       "      <th>115</th>\n",
       "      <td>OBDIM0006</td>\n",
       "      <td>超声-肾脏</td>\n",
       "      <td>OB6T64MaxEX</td>\n",
       "      <td>肾积水范围最大值存在</td>\n",
       "      <td>NaN</td>\n",
       "      <td>unknow</td>\n",
       "      <td>积水</td>\n",
       "      <td>0</td>\n",
       "    </tr>\n",
       "    <tr>\n",
       "      <th>116</th>\n",
       "      <td>OBDIM0006</td>\n",
       "      <td>超声-肾脏</td>\n",
       "      <td>OB6T54MaxEX</td>\n",
       "      <td>肾内钙化灶大小最大值存在</td>\n",
       "      <td>NaN</td>\n",
       "      <td>unknow</td>\n",
       "      <td>值</td>\n",
       "      <td>值</td>\n",
       "    </tr>\n",
       "    <tr>\n",
       "      <th>117</th>\n",
       "      <td>OBDIM0006</td>\n",
       "      <td>超声-肾脏</td>\n",
       "      <td>OB6T62MaxEX</td>\n",
       "      <td>肾脏囊性回声大小最大值存在</td>\n",
       "      <td>NaN</td>\n",
       "      <td>unknow</td>\n",
       "      <td>值</td>\n",
       "      <td>值</td>\n",
       "    </tr>\n",
       "    <tr>\n",
       "      <th>118</th>\n",
       "      <td>OBDIM0006</td>\n",
       "      <td>超声-肾脏</td>\n",
       "      <td>OB6T65MaxEX</td>\n",
       "      <td>肾内结节大小最大值存在</td>\n",
       "      <td>NaN</td>\n",
       "      <td>unknow</td>\n",
       "      <td>结节</td>\n",
       "      <td>0</td>\n",
       "    </tr>\n",
       "  </tbody>\n",
       "</table>\n",
       "<p>119 rows × 8 columns</p>\n",
       "</div>"
      ],
      "text/plain": [
       "       OBDIMID OBDIMName       tag_id         TagName  sum     loc abbr logic\n",
       "0    OBDIM0006     超声-肾脏   OB6T5MaxEX    肾脏无回声大小最大值存在  NaN  unknow  无回声     0\n",
       "1    OBDIM0006     超声-肾脏  OBDIM0006AB         超声-肾脏弃检  NaN  unknow   弃检     0\n",
       "2    OBDIM0006     超声-肾脏  OBDIM0006DE         超声-肾脏延期  NaN  unknow   延期     0\n",
       "3    OBDIM0006     超声-肾脏  OBDIM0006ER         超声-肾脏错误  NaN  unknow   错误     0\n",
       "4    OBDIM0006     超声-肾脏  OBDIM0006EX         超声-肾脏存在  NaN  unknow   存在     0\n",
       "..         ...       ...          ...             ...  ...     ...  ...   ...\n",
       "114  OBDIM0006     超声-肾脏  OB6T32MaxEX  肾脏占位性病变大小最大值存在  NaN  unknow    值     值\n",
       "115  OBDIM0006     超声-肾脏  OB6T64MaxEX      肾积水范围最大值存在  NaN  unknow   积水     0\n",
       "116  OBDIM0006     超声-肾脏  OB6T54MaxEX    肾内钙化灶大小最大值存在  NaN  unknow    值     值\n",
       "117  OBDIM0006     超声-肾脏  OB6T62MaxEX   肾脏囊性回声大小最大值存在  NaN  unknow    值     值\n",
       "118  OBDIM0006     超声-肾脏  OB6T65MaxEX     肾内结节大小最大值存在  NaN  unknow   结节     0\n",
       "\n",
       "[119 rows x 8 columns]"
      ]
     },
     "execution_count": 14,
     "metadata": {},
     "output_type": "execute_result"
    }
   ],
   "source": [
    "renal"
   ]
  },
  {
   "cell_type": "code",
   "execution_count": 34,
   "metadata": {
    "collapsed": true
   },
   "outputs": [
    {
     "ename": "AttributeError",
     "evalue": "'list' object has no attribute 'drop_duplicates'",
     "output_type": "error",
     "traceback": [
      "\u001b[1;31m---------------------------------------------------------------------------\u001b[0m",
      "\u001b[1;31mAttributeError\u001b[0m                            Traceback (most recent call last)",
      "\u001b[1;32m<ipython-input-34-de6b0f6e4928>\u001b[0m in \u001b[0;36m<module>\u001b[1;34m\u001b[0m\n\u001b[0;32m      1\u001b[0m \u001b[0mdesclist\u001b[0m \u001b[1;33m=\u001b[0m \u001b[0mrenal\u001b[0m\u001b[1;33m.\u001b[0m\u001b[0mloc\u001b[0m\u001b[1;33m[\u001b[0m\u001b[0mrenal\u001b[0m\u001b[1;33m[\u001b[0m\u001b[1;34m'logic'\u001b[0m\u001b[1;33m]\u001b[0m\u001b[1;33m==\u001b[0m \u001b[1;34m\"A\"\u001b[0m\u001b[1;33m,\u001b[0m\u001b[1;34m'abbr'\u001b[0m\u001b[1;33m]\u001b[0m\u001b[1;33m.\u001b[0m\u001b[0mtolist\u001b[0m\u001b[1;33m(\u001b[0m\u001b[1;33m)\u001b[0m\u001b[1;33m\u001b[0m\u001b[1;33m\u001b[0m\u001b[0m\n\u001b[1;32m----> 2\u001b[1;33m \u001b[0msummlist\u001b[0m \u001b[1;33m=\u001b[0m \u001b[0mrenal\u001b[0m\u001b[1;33m.\u001b[0m\u001b[0mloc\u001b[0m\u001b[1;33m[\u001b[0m\u001b[0mrenal\u001b[0m\u001b[1;33m[\u001b[0m\u001b[1;34m'logic'\u001b[0m\u001b[1;33m]\u001b[0m\u001b[1;33m==\u001b[0m\u001b[1;34m\"a\"\u001b[0m\u001b[1;33m,\u001b[0m\u001b[1;34m'abbr'\u001b[0m\u001b[1;33m]\u001b[0m\u001b[1;33m.\u001b[0m\u001b[0mtolist\u001b[0m\u001b[1;33m(\u001b[0m\u001b[1;33m)\u001b[0m\u001b[1;33m.\u001b[0m\u001b[0mdrop_duplicates\u001b[0m\u001b[1;33m(\u001b[0m\u001b[1;33m)\u001b[0m\u001b[1;33m\u001b[0m\u001b[1;33m\u001b[0m\u001b[0m\n\u001b[0m",
      "\u001b[1;31mAttributeError\u001b[0m: 'list' object has no attribute 'drop_duplicates'"
     ]
    }
   ],
   "source": [
    "desclist = renal.loc[renal['logic']== \"A\",'abbr'].tolist()\n",
    "summlist = renal.loc[renal['logic']==\"a\",'abbr'].tolist().drop_duplicates()"
   ]
  },
  {
   "cell_type": "code",
   "execution_count": 24,
   "metadata": {},
   "outputs": [
    {
     "data": {
      "text/plain": [
       "list"
      ]
     },
     "execution_count": 24,
     "metadata": {},
     "output_type": "execute_result"
    }
   ],
   "source": []
  },
  {
   "cell_type": "code",
   "execution_count": 25,
   "metadata": {
    "collapsed": true
   },
   "outputs": [
    {
     "ename": "TypeError",
     "evalue": "'set' object is not subscriptable",
     "output_type": "error",
     "traceback": [
      "\u001b[1;31m---------------------------------------------------------------------------\u001b[0m",
      "\u001b[1;31mTypeError\u001b[0m                                 Traceback (most recent call last)",
      "\u001b[1;32m<ipython-input-25-c56d7035600d>\u001b[0m in \u001b[0;36m<module>\u001b[1;34m\u001b[0m\n\u001b[1;32m----> 1\u001b[1;33m \u001b[0mdesclist_\u001b[0m \u001b[1;33m=\u001b[0m \u001b[0mset\u001b[0m\u001b[1;33m(\u001b[0m\u001b[0mdesclist\u001b[0m\u001b[1;33m)\u001b[0m\u001b[1;33m[\u001b[0m\u001b[1;36m2\u001b[0m\u001b[1;33m]\u001b[0m\u001b[1;33m\u001b[0m\u001b[1;33m\u001b[0m\u001b[0m\n\u001b[0m\u001b[0;32m      2\u001b[0m \u001b[0msummlist_\u001b[0m \u001b[1;33m=\u001b[0m \u001b[0mset\u001b[0m\u001b[1;33m(\u001b[0m\u001b[0msummlist\u001b[0m\u001b[1;33m)\u001b[0m\u001b[1;33m\u001b[0m\u001b[1;33m\u001b[0m\u001b[0m\n",
      "\u001b[1;31mTypeError\u001b[0m: 'set' object is not subscriptable"
     ]
    }
   ],
   "source": [
    "desclist_ = set(desclist) # 访问元素\n",
    "summlist_ = set(summlist)"
   ]
  },
  {
   "cell_type": "code",
   "execution_count": 28,
   "metadata": {
    "collapsed": true
   },
   "outputs": [
    {
     "name": "stdout",
     "output_type": "stream",
     "text": [
      "异常回声\n",
      "回声不均匀\n",
      "低回声\n",
      "强回声\n",
      "无回声\n",
      "混合回声\n",
      "等回声\n",
      "囊性回声\n",
      "高回声\n"
     ]
    }
   ],
   "source": [
    "for i in set(desclist):\n",
    "    print(i)"
   ]
  },
  {
   "cell_type": "code",
   "execution_count": null,
   "metadata": {},
   "outputs": [],
   "source": [
    "# 写程序的时候会出现一种报错，unhashable/mutable 哈希\n",
    "# hashable：创建之后无法修改的类型，比如元组tuple、字符串等\n",
    "# unhashable：列表、字典、集合 ，特点：都有增删改查的操作，它们在没有改变id的时候可改变值,无法由地址定位值的唯一性,因而无法哈希"
   ]
  },
  {
   "cell_type": "code",
   "execution_count": 41,
   "metadata": {},
   "outputs": [],
   "source": [
    "from itertools import product  "
   ]
  },
  {
   "cell_type": "code",
   "execution_count": 6,
   "metadata": {},
   "outputs": [],
   "source": [
    "summ = []\n",
    "desc = []\n",
    "for n in product(summlist_,desclist_):\n",
    "    summsub = n[0]\n",
    "    descsub = n[1]\n",
    "    summ.append(summsub)\n",
    "    desc.append(descsub)\n",
    "    \n",
    "solid = pd.DataFrame({'summ':summ,'desc':desc})"
   ]
  },
  {
   "cell_type": "code",
   "execution_count": 54,
   "metadata": {
    "collapsed": true
   },
   "outputs": [
    {
     "data": {
      "text/html": [
       "<div>\n",
       "<style scoped>\n",
       "    .dataframe tbody tr th:only-of-type {\n",
       "        vertical-align: middle;\n",
       "    }\n",
       "\n",
       "    .dataframe tbody tr th {\n",
       "        vertical-align: top;\n",
       "    }\n",
       "\n",
       "    .dataframe thead th {\n",
       "        text-align: right;\n",
       "    }\n",
       "</style>\n",
       "<table border=\"1\" class=\"dataframe\">\n",
       "  <thead>\n",
       "    <tr style=\"text-align: right;\">\n",
       "      <th></th>\n",
       "      <th>0</th>\n",
       "      <th>1</th>\n",
       "      <th>2</th>\n",
       "    </tr>\n",
       "  </thead>\n",
       "  <tbody>\n",
       "    <tr>\n",
       "      <th>0</th>\n",
       "      <td>钙乳症</td>\n",
       "      <td>异常回声</td>\n",
       "      <td>钙乳症</td>\n",
       "    </tr>\n",
       "    <tr>\n",
       "      <th>1</th>\n",
       "      <td>钙乳症</td>\n",
       "      <td>异常回声</td>\n",
       "      <td>结节</td>\n",
       "    </tr>\n",
       "    <tr>\n",
       "      <th>2</th>\n",
       "      <td>钙乳症</td>\n",
       "      <td>异常回声</td>\n",
       "      <td>错构瘤</td>\n",
       "    </tr>\n",
       "    <tr>\n",
       "      <th>3</th>\n",
       "      <td>钙乳症</td>\n",
       "      <td>异常回声</td>\n",
       "      <td>钙化灶</td>\n",
       "    </tr>\n",
       "    <tr>\n",
       "      <th>4</th>\n",
       "      <td>钙乳症</td>\n",
       "      <td>异常回声</td>\n",
       "      <td>结石</td>\n",
       "    </tr>\n",
       "    <tr>\n",
       "      <th>...</th>\n",
       "      <td>...</td>\n",
       "      <td>...</td>\n",
       "      <td>...</td>\n",
       "    </tr>\n",
       "    <tr>\n",
       "      <th>571</th>\n",
       "      <td>占位</td>\n",
       "      <td>高回声</td>\n",
       "      <td>钙化灶</td>\n",
       "    </tr>\n",
       "    <tr>\n",
       "      <th>572</th>\n",
       "      <td>占位</td>\n",
       "      <td>高回声</td>\n",
       "      <td>结石</td>\n",
       "    </tr>\n",
       "    <tr>\n",
       "      <th>573</th>\n",
       "      <td>占位</td>\n",
       "      <td>高回声</td>\n",
       "      <td>结晶</td>\n",
       "    </tr>\n",
       "    <tr>\n",
       "      <th>574</th>\n",
       "      <td>占位</td>\n",
       "      <td>高回声</td>\n",
       "      <td>囊肿</td>\n",
       "    </tr>\n",
       "    <tr>\n",
       "      <th>575</th>\n",
       "      <td>占位</td>\n",
       "      <td>高回声</td>\n",
       "      <td>占位</td>\n",
       "    </tr>\n",
       "  </tbody>\n",
       "</table>\n",
       "<p>576 rows × 3 columns</p>\n",
       "</div>"
      ],
      "text/plain": [
       "       0     1    2\n",
       "0    钙乳症  异常回声  钙乳症\n",
       "1    钙乳症  异常回声   结节\n",
       "2    钙乳症  异常回声  错构瘤\n",
       "3    钙乳症  异常回声  钙化灶\n",
       "4    钙乳症  异常回声   结石\n",
       "..   ...   ...  ...\n",
       "571   占位   高回声  钙化灶\n",
       "572   占位   高回声   结石\n",
       "573   占位   高回声   结晶\n",
       "574   占位   高回声   囊肿\n",
       "575   占位   高回声   占位\n",
       "\n",
       "[576 rows x 3 columns]"
      ]
     },
     "execution_count": 54,
     "metadata": {},
     "output_type": "execute_result"
    }
   ],
   "source": [
    "pd.DataFrame(product(summlist_,desclist_,summlist_))"
   ]
  },
  {
   "cell_type": "code",
   "execution_count": 21,
   "metadata": {},
   "outputs": [],
   "source": [
    "solid.to_excel(r\"C:\\Users\\13670\\Desktop\\待完成\\项目4 回声tag分析\\肾脏\\20201016\\solid.xlsx\")"
   ]
  },
  {
   "cell_type": "code",
   "execution_count": null,
   "metadata": {},
   "outputs": [],
   "source": [
    "###  元素去重\n",
    "# 1.np.unique()  # 数字、字母可按顺序返回结果，返回的结果是array格式"
   ]
  },
  {
   "cell_type": "code",
   "execution_count": 29,
   "metadata": {
    "collapsed": true
   },
   "outputs": [
    {
     "data": {
      "text/plain": [
       "array(['低回声', '囊性回声', '回声不均匀', '异常回声', '强回声', '无回声', '混合回声', '等回声', '高回声'],\n",
       "      dtype='<U5')"
      ]
     },
     "execution_count": 29,
     "metadata": {},
     "output_type": "execute_result"
    }
   ],
   "source": [
    "np.unique(desclist)"
   ]
  },
  {
   "cell_type": "code",
   "execution_count": 30,
   "metadata": {
    "collapsed": true
   },
   "outputs": [
    {
     "data": {
      "text/plain": [
       "array(['低回声', '值', '切除', '占位', '囊性回声', '囊肿', '回声不均匀', '回声增粗', '增大', '多囊肾',\n",
       "       '存在', '延期', '异常回声', '弃检', '强回声', '无回声', '未查', '未见', '未见XX回声',\n",
       "       '未见占位', '未见集合系统分离', '混合回声', '漏检', '积水', '等回声', '结晶', '结石', '结节',\n",
       "       '缩小', '萎缩', '详见报告', '重复肾', '钙乳症', '钙化灶', '错构瘤', '错误', '集合系统分离',\n",
       "       '高回声'], dtype=object)"
      ]
     },
     "execution_count": 30,
     "metadata": {},
     "output_type": "execute_result"
    }
   ],
   "source": [
    " np.unique(renal['abbr'])"
   ]
  },
  {
   "cell_type": "code",
   "execution_count": 31,
   "metadata": {},
   "outputs": [],
   "source": [
    "desclist1, index_ = np.unique(desclist,return_index = True)"
   ]
  },
  {
   "cell_type": "code",
   "execution_count": 32,
   "metadata": {
    "collapsed": true
   },
   "outputs": [
    {
     "data": {
      "text/plain": [
       "array(['低回声', '囊性回声', '回声不均匀', '异常回声', '强回声', '无回声', '混合回声', '等回声', '高回声'],\n",
       "      dtype='<U5')"
      ]
     },
     "execution_count": 32,
     "metadata": {},
     "output_type": "execute_result"
    }
   ],
   "source": [
    "desclist1"
   ]
  },
  {
   "cell_type": "code",
   "execution_count": 33,
   "metadata": {
    "collapsed": true
   },
   "outputs": [
    {
     "data": {
      "text/plain": [
       "array([ 3, 18, 10, 11,  0,  4,  9,  2,  1], dtype=int64)"
      ]
     },
     "execution_count": 33,
     "metadata": {},
     "output_type": "execute_result"
    }
   ],
   "source": [
    "index_"
   ]
  },
  {
   "cell_type": "code",
   "execution_count": null,
   "metadata": {},
   "outputs": [],
   "source": [
    "# 2.set()  # 1.去重 2.集合运算（交并合反交集） \n",
    "# set(desclist)\n",
    "# set(renal[\"abbr\"])"
   ]
  },
  {
   "cell_type": "code",
   "execution_count": null,
   "metadata": {},
   "outputs": [],
   "source": [
    "3.drop_duplicates() # 不可用于list,tuple一维结构\n",
    "# 函数主体 df.drop_duplicates(subset=['A','B'],keep='first' 'last' 'False',inplace=True)\n",
    "\n",
    "duplicated() # 返回一个布尔型的Series,可用于判断是否有重复行；取出重复行/不重复的行"
   ]
  },
  {
   "cell_type": "code",
   "execution_count": null,
   "metadata": {},
   "outputs": [],
   "source": [
    "renal.duplicated() == 1"
   ]
  },
  {
   "cell_type": "code",
   "execution_count": 39,
   "metadata": {
    "collapsed": true
   },
   "outputs": [
    {
     "data": {
      "text/html": [
       "<div>\n",
       "<style scoped>\n",
       "    .dataframe tbody tr th:only-of-type {\n",
       "        vertical-align: middle;\n",
       "    }\n",
       "\n",
       "    .dataframe tbody tr th {\n",
       "        vertical-align: top;\n",
       "    }\n",
       "\n",
       "    .dataframe thead th {\n",
       "        text-align: right;\n",
       "    }\n",
       "</style>\n",
       "<table border=\"1\" class=\"dataframe\">\n",
       "  <thead>\n",
       "    <tr style=\"text-align: right;\">\n",
       "      <th></th>\n",
       "      <th>OBDIMID</th>\n",
       "      <th>OBDIMName</th>\n",
       "      <th>tag_id</th>\n",
       "      <th>TagName</th>\n",
       "      <th>sum</th>\n",
       "      <th>loc</th>\n",
       "      <th>abbr</th>\n",
       "      <th>logic</th>\n",
       "    </tr>\n",
       "  </thead>\n",
       "  <tbody>\n",
       "    <tr>\n",
       "      <th>12</th>\n",
       "      <td>OBDIM0006</td>\n",
       "      <td>超声-肾脏</td>\n",
       "      <td>OBDIM0006Tag0005</td>\n",
       "      <td>肾脏无回声</td>\n",
       "      <td>NaN</td>\n",
       "      <td>unknow</td>\n",
       "      <td>无回声</td>\n",
       "      <td>A</td>\n",
       "    </tr>\n",
       "    <tr>\n",
       "      <th>13</th>\n",
       "      <td>OBDIM0006</td>\n",
       "      <td>超声-肾脏</td>\n",
       "      <td>OBDIM0006Tag0006</td>\n",
       "      <td>左肾单个无回声</td>\n",
       "      <td>single</td>\n",
       "      <td>左肾</td>\n",
       "      <td>无回声</td>\n",
       "      <td>A</td>\n",
       "    </tr>\n",
       "    <tr>\n",
       "      <th>14</th>\n",
       "      <td>OBDIM0006</td>\n",
       "      <td>超声-肾脏</td>\n",
       "      <td>OBDIM0006Tag0007</td>\n",
       "      <td>左肾多个无回声</td>\n",
       "      <td>several</td>\n",
       "      <td>左肾</td>\n",
       "      <td>无回声</td>\n",
       "      <td>A</td>\n",
       "    </tr>\n",
       "    <tr>\n",
       "      <th>15</th>\n",
       "      <td>OBDIM0006</td>\n",
       "      <td>超声-肾脏</td>\n",
       "      <td>OBDIM0006Tag0008</td>\n",
       "      <td>右肾单个无回声</td>\n",
       "      <td>single</td>\n",
       "      <td>right_renal</td>\n",
       "      <td>无回声</td>\n",
       "      <td>A</td>\n",
       "    </tr>\n",
       "    <tr>\n",
       "      <th>16</th>\n",
       "      <td>OBDIM0006</td>\n",
       "      <td>超声-肾脏</td>\n",
       "      <td>OBDIM0006Tag0009</td>\n",
       "      <td>右肾多个无回声</td>\n",
       "      <td>several</td>\n",
       "      <td>right_renal</td>\n",
       "      <td>无回声</td>\n",
       "      <td>A</td>\n",
       "    </tr>\n",
       "    <tr>\n",
       "      <th>...</th>\n",
       "      <td>...</td>\n",
       "      <td>...</td>\n",
       "      <td>...</td>\n",
       "      <td>...</td>\n",
       "      <td>...</td>\n",
       "      <td>...</td>\n",
       "      <td>...</td>\n",
       "      <td>...</td>\n",
       "    </tr>\n",
       "    <tr>\n",
       "      <th>114</th>\n",
       "      <td>OBDIM0006</td>\n",
       "      <td>超声-肾脏</td>\n",
       "      <td>OB6T32MaxEX</td>\n",
       "      <td>肾脏占位性病变大小最大值存在</td>\n",
       "      <td>NaN</td>\n",
       "      <td>unknow</td>\n",
       "      <td>值</td>\n",
       "      <td>值</td>\n",
       "    </tr>\n",
       "    <tr>\n",
       "      <th>115</th>\n",
       "      <td>OBDIM0006</td>\n",
       "      <td>超声-肾脏</td>\n",
       "      <td>OB6T64MaxEX</td>\n",
       "      <td>肾积水范围最大值存在</td>\n",
       "      <td>NaN</td>\n",
       "      <td>unknow</td>\n",
       "      <td>积水</td>\n",
       "      <td>0</td>\n",
       "    </tr>\n",
       "    <tr>\n",
       "      <th>116</th>\n",
       "      <td>OBDIM0006</td>\n",
       "      <td>超声-肾脏</td>\n",
       "      <td>OB6T54MaxEX</td>\n",
       "      <td>肾内钙化灶大小最大值存在</td>\n",
       "      <td>NaN</td>\n",
       "      <td>unknow</td>\n",
       "      <td>值</td>\n",
       "      <td>值</td>\n",
       "    </tr>\n",
       "    <tr>\n",
       "      <th>117</th>\n",
       "      <td>OBDIM0006</td>\n",
       "      <td>超声-肾脏</td>\n",
       "      <td>OB6T62MaxEX</td>\n",
       "      <td>肾脏囊性回声大小最大值存在</td>\n",
       "      <td>NaN</td>\n",
       "      <td>unknow</td>\n",
       "      <td>值</td>\n",
       "      <td>值</td>\n",
       "    </tr>\n",
       "    <tr>\n",
       "      <th>118</th>\n",
       "      <td>OBDIM0006</td>\n",
       "      <td>超声-肾脏</td>\n",
       "      <td>OB6T65MaxEX</td>\n",
       "      <td>肾内结节大小最大值存在</td>\n",
       "      <td>NaN</td>\n",
       "      <td>unknow</td>\n",
       "      <td>结节</td>\n",
       "      <td>0</td>\n",
       "    </tr>\n",
       "  </tbody>\n",
       "</table>\n",
       "<p>81 rows × 8 columns</p>\n",
       "</div>"
      ],
      "text/plain": [
       "       OBDIMID OBDIMName            tag_id         TagName      sum  \\\n",
       "12   OBDIM0006     超声-肾脏  OBDIM0006Tag0005           肾脏无回声      NaN   \n",
       "13   OBDIM0006     超声-肾脏  OBDIM0006Tag0006         左肾单个无回声   single   \n",
       "14   OBDIM0006     超声-肾脏  OBDIM0006Tag0007         左肾多个无回声  several   \n",
       "15   OBDIM0006     超声-肾脏  OBDIM0006Tag0008         右肾单个无回声   single   \n",
       "16   OBDIM0006     超声-肾脏  OBDIM0006Tag0009         右肾多个无回声  several   \n",
       "..         ...       ...               ...             ...      ...   \n",
       "114  OBDIM0006     超声-肾脏       OB6T32MaxEX  肾脏占位性病变大小最大值存在      NaN   \n",
       "115  OBDIM0006     超声-肾脏       OB6T64MaxEX      肾积水范围最大值存在      NaN   \n",
       "116  OBDIM0006     超声-肾脏       OB6T54MaxEX    肾内钙化灶大小最大值存在      NaN   \n",
       "117  OBDIM0006     超声-肾脏       OB6T62MaxEX   肾脏囊性回声大小最大值存在      NaN   \n",
       "118  OBDIM0006     超声-肾脏       OB6T65MaxEX     肾内结节大小最大值存在      NaN   \n",
       "\n",
       "             loc abbr logic  \n",
       "12        unknow  无回声     A  \n",
       "13            左肾  无回声     A  \n",
       "14            左肾  无回声     A  \n",
       "15   right_renal  无回声     A  \n",
       "16   right_renal  无回声     A  \n",
       "..           ...  ...   ...  \n",
       "114       unknow    值     值  \n",
       "115       unknow   积水     0  \n",
       "116       unknow    值     值  \n",
       "117       unknow    值     值  \n",
       "118       unknow   结节     0  \n",
       "\n",
       "[81 rows x 8 columns]"
      ]
     },
     "execution_count": 39,
     "metadata": {},
     "output_type": "execute_result"
    }
   ],
   "source": [
    "renal.loc[renal[\"abbr\"].duplicated() == 1,:]"
   ]
  },
  {
   "cell_type": "code",
   "execution_count": null,
   "metadata": {},
   "outputs": [],
   "source": [
    "# itertools 是python中的迭代循环器模块，和pandas、numpy一样使用的时候，直接import\n",
    "\n",
    "# 分析超声相关性的时候，就用过其中的combinations方法\n",
    "\n",
    "# itertools是一个非常强大的迭代模块，它里面有多种方法，在代码编写需要使用多个for循环的时候，就可以考虑在这个库里去找找看，有没有更高效、简洁的方法\n",
    "# apply、map、reduce、applymap"
   ]
  },
  {
   "cell_type": "code",
   "execution_count": null,
   "metadata": {},
   "outputs": [],
   "source": [
    "# 组合函数combinations 和 排列函数permutations"
   ]
  },
  {
   "cell_type": "code",
   "execution_count": 67,
   "metadata": {},
   "outputs": [],
   "source": [
    "import itertools"
   ]
  },
  {
   "cell_type": "code",
   "execution_count": 53,
   "metadata": {},
   "outputs": [],
   "source": [
    "from itertools import combinations, permutations"
   ]
  },
  {
   "cell_type": "code",
   "execution_count": 64,
   "metadata": {},
   "outputs": [],
   "source": [
    "data = [\"A\",\"B\",\"C\",\"D\"]"
   ]
  },
  {
   "cell_type": "code",
   "execution_count": 65,
   "metadata": {},
   "outputs": [
    {
     "name": "stdout",
     "output_type": "stream",
     "text": [
      "('A', 'B', 'C')\n",
      "('A', 'B', 'D')\n",
      "('A', 'C', 'D')\n",
      "('B', 'C', 'D')\n"
     ]
    }
   ],
   "source": [
    "for combination in itertools.combinations(data,3):\n",
    "    print(combination)   "
   ]
  },
  {
   "cell_type": "code",
   "execution_count": 61,
   "metadata": {
    "collapsed": true
   },
   "outputs": [
    {
     "data": {
      "text/plain": [
       "['B', 'C']"
      ]
     },
     "execution_count": 61,
     "metadata": {},
     "output_type": "execute_result"
    }
   ],
   "source": [
    "list(combination)"
   ]
  },
  {
   "cell_type": "code",
   "execution_count": 58,
   "metadata": {},
   "outputs": [
    {
     "name": "stdout",
     "output_type": "stream",
     "text": [
      "('A', 'B')\n",
      "('A', 'C')\n",
      "('B', 'A')\n",
      "('B', 'C')\n",
      "('C', 'A')\n",
      "('C', 'B')\n"
     ]
    }
   ],
   "source": [
    " for permutation in permutations(data,2):\n",
    "    print(permutation)"
   ]
  },
  {
   "cell_type": "markdown",
   "metadata": {},
   "source": [
    "#### 2020.12.02 拉取肾脏超声"
   ]
  },
  {
   "cell_type": "code",
   "execution_count": 5,
   "metadata": {},
   "outputs": [],
   "source": [
    "renal = pd.read_excel(r\"C:\\Users\\13670\\Desktop\\待完成\\项目4 回声tag分析\\肾脏\\20201016\\renal_dict.xlsx\")"
   ]
  },
  {
   "cell_type": "code",
   "execution_count": 7,
   "metadata": {},
   "outputs": [],
   "source": [
    "id_list = renal.loc[:,'tag_id'].values.tolist()"
   ]
  },
  {
   "cell_type": "code",
   "execution_count": 10,
   "metadata": {
    "collapsed": true
   },
   "outputs": [
    {
     "data": {
      "text/html": [
       "<div>\n",
       "<style scoped>\n",
       "    .dataframe tbody tr th:only-of-type {\n",
       "        vertical-align: middle;\n",
       "    }\n",
       "\n",
       "    .dataframe tbody tr th {\n",
       "        vertical-align: top;\n",
       "    }\n",
       "\n",
       "    .dataframe thead th {\n",
       "        text-align: right;\n",
       "    }\n",
       "</style>\n",
       "<table border=\"1\" class=\"dataframe\">\n",
       "  <thead>\n",
       "    <tr style=\"text-align: right;\">\n",
       "      <th></th>\n",
       "      <th>ORDER_CODE</th>\n",
       "      <th>TAG_ID</th>\n",
       "    </tr>\n",
       "  </thead>\n",
       "  <tbody>\n",
       "    <tr>\n",
       "      <th>0</th>\n",
       "      <td>000012347841</td>\n",
       "      <td>OB6T5MaxEX</td>\n",
       "    </tr>\n",
       "    <tr>\n",
       "      <th>1</th>\n",
       "      <td>000017779833</td>\n",
       "      <td>OB6T5MaxEX</td>\n",
       "    </tr>\n",
       "    <tr>\n",
       "      <th>2</th>\n",
       "      <td>000027055939</td>\n",
       "      <td>OB6T5MaxEX</td>\n",
       "    </tr>\n",
       "    <tr>\n",
       "      <th>3</th>\n",
       "      <td>000034935327</td>\n",
       "      <td>OB6T5MaxEX</td>\n",
       "    </tr>\n",
       "    <tr>\n",
       "      <th>4</th>\n",
       "      <td>000035346462</td>\n",
       "      <td>OB6T5MaxEX</td>\n",
       "    </tr>\n",
       "    <tr>\n",
       "      <th>...</th>\n",
       "      <td>...</td>\n",
       "      <td>...</td>\n",
       "    </tr>\n",
       "    <tr>\n",
       "      <th>1067</th>\n",
       "      <td>375134982867</td>\n",
       "      <td>OB6T62MaxEX</td>\n",
       "    </tr>\n",
       "    <tr>\n",
       "      <th>1068</th>\n",
       "      <td>375922206073</td>\n",
       "      <td>OB6T62MaxEX</td>\n",
       "    </tr>\n",
       "    <tr>\n",
       "      <th>1069</th>\n",
       "      <td>376020832485</td>\n",
       "      <td>OB6T62MaxEX</td>\n",
       "    </tr>\n",
       "    <tr>\n",
       "      <th>1070</th>\n",
       "      <td>377826344902</td>\n",
       "      <td>OB6T62MaxEX</td>\n",
       "    </tr>\n",
       "    <tr>\n",
       "      <th>1071</th>\n",
       "      <td>380296244643</td>\n",
       "      <td>OB6T62MaxEX</td>\n",
       "    </tr>\n",
       "  </tbody>\n",
       "</table>\n",
       "<p>1724175 rows × 2 columns</p>\n",
       "</div>"
      ],
      "text/plain": [
       "        ORDER_CODE       TAG_ID\n",
       "0     000012347841   OB6T5MaxEX\n",
       "1     000017779833   OB6T5MaxEX\n",
       "2     000027055939   OB6T5MaxEX\n",
       "3     000034935327   OB6T5MaxEX\n",
       "4     000035346462   OB6T5MaxEX\n",
       "...            ...          ...\n",
       "1067  375134982867  OB6T62MaxEX\n",
       "1068  375922206073  OB6T62MaxEX\n",
       "1069  376020832485  OB6T62MaxEX\n",
       "1070  377826344902  OB6T62MaxEX\n",
       "1071  380296244643  OB6T62MaxEX\n",
       "\n",
       "[1724175 rows x 2 columns]"
      ]
     },
     "execution_count": 10,
     "metadata": {},
     "output_type": "execute_result"
    }
   ],
   "source": [
    "tag_df = pd.DataFrame()\n",
    "for items in id_list:\n",
    "    id_str = \"'\"+ items + \"'\"\n",
    "    tagsql = 'SELECT ORDER_CODE,TAG_ID \\\n",
    "    FROM t66_apollo_offline_analysis_tag \\\n",
    "    WHERE SOURCE_TYPE = 1 \\\n",
    "    AND SZ_STATUS = 1 AND TAG_ID IN ('+id_str+') '\n",
    "    tag = pd.read_sql(tagsql,con=conn)\n",
    "    tag_df = pd.concat([tag_df,tag],axis = 0) \n",
    "    \n",
    "tag_df    "
   ]
  },
  {
   "cell_type": "code",
   "execution_count": 13,
   "metadata": {},
   "outputs": [],
   "source": [
    "renal_dict = renal.set_index(\"tag_id\").to_dict()[\"TagName\"]\n",
    "tag_df.replace(renal_dict,inplace = True)"
   ]
  },
  {
   "cell_type": "code",
   "execution_count": 14,
   "metadata": {
    "collapsed": true
   },
   "outputs": [
    {
     "data": {
      "text/html": [
       "<div>\n",
       "<style scoped>\n",
       "    .dataframe tbody tr th:only-of-type {\n",
       "        vertical-align: middle;\n",
       "    }\n",
       "\n",
       "    .dataframe tbody tr th {\n",
       "        vertical-align: top;\n",
       "    }\n",
       "\n",
       "    .dataframe thead th {\n",
       "        text-align: right;\n",
       "    }\n",
       "</style>\n",
       "<table border=\"1\" class=\"dataframe\">\n",
       "  <thead>\n",
       "    <tr style=\"text-align: right;\">\n",
       "      <th></th>\n",
       "      <th>ORDER_CODE</th>\n",
       "      <th>TAG_ID</th>\n",
       "    </tr>\n",
       "  </thead>\n",
       "  <tbody>\n",
       "    <tr>\n",
       "      <th>0</th>\n",
       "      <td>000012347841</td>\n",
       "      <td>肾脏无回声大小最大值存在</td>\n",
       "    </tr>\n",
       "    <tr>\n",
       "      <th>1</th>\n",
       "      <td>000017779833</td>\n",
       "      <td>肾脏无回声大小最大值存在</td>\n",
       "    </tr>\n",
       "    <tr>\n",
       "      <th>2</th>\n",
       "      <td>000027055939</td>\n",
       "      <td>肾脏无回声大小最大值存在</td>\n",
       "    </tr>\n",
       "    <tr>\n",
       "      <th>3</th>\n",
       "      <td>000034935327</td>\n",
       "      <td>肾脏无回声大小最大值存在</td>\n",
       "    </tr>\n",
       "    <tr>\n",
       "      <th>4</th>\n",
       "      <td>000035346462</td>\n",
       "      <td>肾脏无回声大小最大值存在</td>\n",
       "    </tr>\n",
       "    <tr>\n",
       "      <th>...</th>\n",
       "      <td>...</td>\n",
       "      <td>...</td>\n",
       "    </tr>\n",
       "    <tr>\n",
       "      <th>1067</th>\n",
       "      <td>375134982867</td>\n",
       "      <td>肾脏囊性回声大小最大值存在</td>\n",
       "    </tr>\n",
       "    <tr>\n",
       "      <th>1068</th>\n",
       "      <td>375922206073</td>\n",
       "      <td>肾脏囊性回声大小最大值存在</td>\n",
       "    </tr>\n",
       "    <tr>\n",
       "      <th>1069</th>\n",
       "      <td>376020832485</td>\n",
       "      <td>肾脏囊性回声大小最大值存在</td>\n",
       "    </tr>\n",
       "    <tr>\n",
       "      <th>1070</th>\n",
       "      <td>377826344902</td>\n",
       "      <td>肾脏囊性回声大小最大值存在</td>\n",
       "    </tr>\n",
       "    <tr>\n",
       "      <th>1071</th>\n",
       "      <td>380296244643</td>\n",
       "      <td>肾脏囊性回声大小最大值存在</td>\n",
       "    </tr>\n",
       "  </tbody>\n",
       "</table>\n",
       "<p>1724175 rows × 2 columns</p>\n",
       "</div>"
      ],
      "text/plain": [
       "        ORDER_CODE         TAG_ID\n",
       "0     000012347841   肾脏无回声大小最大值存在\n",
       "1     000017779833   肾脏无回声大小最大值存在\n",
       "2     000027055939   肾脏无回声大小最大值存在\n",
       "3     000034935327   肾脏无回声大小最大值存在\n",
       "4     000035346462   肾脏无回声大小最大值存在\n",
       "...            ...            ...\n",
       "1067  375134982867  肾脏囊性回声大小最大值存在\n",
       "1068  375922206073  肾脏囊性回声大小最大值存在\n",
       "1069  376020832485  肾脏囊性回声大小最大值存在\n",
       "1070  377826344902  肾脏囊性回声大小最大值存在\n",
       "1071  380296244643  肾脏囊性回声大小最大值存在\n",
       "\n",
       "[1724175 rows x 2 columns]"
      ]
     },
     "execution_count": 14,
     "metadata": {},
     "output_type": "execute_result"
    }
   ],
   "source": [
    "tag_df"
   ]
  },
  {
   "cell_type": "code",
   "execution_count": 11,
   "metadata": {},
   "outputs": [],
   "source": [
    "tag_df.to_pickle(r\"C:\\Users\\13670\\Desktop\\待完成\\项目4 回声tag分析\\肾脏\\20201202\\tagfull.pkl\")"
   ]
  },
  {
   "cell_type": "code",
   "execution_count": null,
   "metadata": {},
   "outputs": [],
   "source": [
    "# 关联分析\n",
    "def PrepareData (tagall):\n",
    "    ordercode_list = []\n",
    "    taglist = []\n",
    "    for order_code in np.unique(tagall.ORDER_CODE):\n",
    "        taglist_ = tagall.loc[tagall.ORDER_CODE == order_code, 'TAG_ID'].values.tolist() \n",
    "        ordercode_list.append(order_code)\n",
    "        taglist.append(taglist_)\n",
    "    df = pd.DataFrame({\"order_code\": ordercode_list, \"taglist\":taglist})\n",
    "    return df\n",
    "\n",
    "df = PrepareData(tag_df)"
   ]
  },
  {
   "cell_type": "code",
   "execution_count": null,
   "metadata": {},
   "outputs": [],
   "source": [
    "from mlxtend.preprocessing import TransactionEncoder\n",
    "from mlxtend.frequent_patterns import apriori\n",
    "from mlxtend.frequent_patterns import association_rules\n",
    "import pandas as pd\n",
    "import numpy as np\n",
    "\n",
    "def AprioriAnalysis(dfData,min_supp,min_conf):\n",
    "    DataList = dfData.taglist.values.tolist()\n",
    "    te = TransactionEncoder()\n",
    "    df_tf = te.fit_transform(DataList)\n",
    "    df = pd.DataFrame(df_tf,columns=te.columns_)\n",
    "    frequent_itemsets = apriori(df,min_support= min_supp,use_colnames= True)\n",
    "    rules = association_rules(frequent_itemsets,metric = 'confidence',min_threshold = min_conf)\n",
    "    rules.rename(columns = {'antecedents':'from','consequents':'to','support':'sup','confidence':'conf'},inplace = True)\n",
    "    rules.sort_values(by = ['sup','conf'],ascending = (False,False))\n",
    "    return rules"
   ]
  }
 ],
 "metadata": {
  "kernelspec": {
   "display_name": "Python 3",
   "language": "python",
   "name": "python3"
  },
  "language_info": {
   "codemirror_mode": {
    "name": "ipython",
    "version": 3
   },
   "file_extension": ".py",
   "mimetype": "text/x-python",
   "name": "python",
   "nbconvert_exporter": "python",
   "pygments_lexer": "ipython3",
   "version": "3.7.6"
  }
 },
 "nbformat": 4,
 "nbformat_minor": 4
}
