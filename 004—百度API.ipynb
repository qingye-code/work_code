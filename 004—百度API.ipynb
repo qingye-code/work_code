{
 "cells": [
  {
   "cell_type": "code",
   "execution_count": 1,
   "metadata": {
    "collapsed": true
   },
   "outputs": [
    {
     "name": "stdout",
     "output_type": "stream",
     "text": [
      "Requirement already satisfied: requests in c:\\users\\13670\\anaconda3\\lib\\site-packages (2.24.0)\n",
      "Requirement already satisfied: urllib3!=1.25.0,!=1.25.1,<1.26,>=1.21.1 in c:\\users\\13670\\anaconda3\\lib\\site-packages (from requests) (1.25.8)\n",
      "Requirement already satisfied: certifi>=2017.4.17 in c:\\users\\13670\\anaconda3\\lib\\site-packages (from requests) (2020.6.20)\n",
      "Requirement already satisfied: chardet<4,>=3.0.2 in c:\\users\\13670\\anaconda3\\lib\\site-packages (from requests) (3.0.4)\n",
      "Requirement already satisfied: idna<3,>=2.5 in c:\\users\\13670\\anaconda3\\lib\\site-packages (from requests) (2.8)\n",
      "Note: you may need to restart the kernel to use updated packages.\n"
     ]
    }
   ],
   "source": [
    "pip install requests"
   ]
  },
  {
   "cell_type": "code",
   "execution_count": 4,
   "metadata": {
    "collapsed": true
   },
   "outputs": [
    {
     "name": "stdout",
     "output_type": "stream",
     "text": [
      "Looking in indexes: http://pypi.douban.com/simple\n",
      "Collecting baidu-aip\n",
      "  Downloading http://pypi.doubanio.com/packages/bf/de/0e770c421bd70b0b59d59d1bcf70139cf0ad4263102a7fc2973c6187174a/baidu-aip-2.2.18.0.tar.gz (10 kB)\n",
      "Requirement already satisfied: requests in c:\\users\\13670\\anaconda3\\lib\\site-packages (from baidu-aip) (2.24.0)\n",
      "Requirement already satisfied: certifi>=2017.4.17 in c:\\users\\13670\\anaconda3\\lib\\site-packages (from requests->baidu-aip) (2020.6.20)\n",
      "Requirement already satisfied: urllib3!=1.25.0,!=1.25.1,<1.26,>=1.21.1 in c:\\users\\13670\\anaconda3\\lib\\site-packages (from requests->baidu-aip) (1.25.8)\n",
      "Requirement already satisfied: chardet<4,>=3.0.2 in c:\\users\\13670\\anaconda3\\lib\\site-packages (from requests->baidu-aip) (3.0.4)\n",
      "Requirement already satisfied: idna<3,>=2.5 in c:\\users\\13670\\anaconda3\\lib\\site-packages (from requests->baidu-aip) (2.8)\n",
      "Building wheels for collected packages: baidu-aip\n",
      "  Building wheel for baidu-aip (setup.py): started\n",
      "  Building wheel for baidu-aip (setup.py): finished with status 'done'\n",
      "  Created wheel for baidu-aip: filename=baidu_aip-2.2.18.0-py3-none-any.whl size=15225 sha256=e2d511bedc6218207cff30ad580630e2709d945625c18546f55b5c0670fac408\n",
      "  Stored in directory: c:\\users\\13670\\appdata\\local\\pip\\cache\\wheels\\19\\d4\\c4\\8d479baf20e0d8375a22c0701fce273218d0bfb17ad2f32a77\n",
      "Successfully built baidu-aip\n",
      "Installing collected packages: baidu-aip\n",
      "Successfully installed baidu-aip-2.2.18.0\n",
      "Note: you may need to restart the kernel to use updated packages.\n"
     ]
    }
   ],
   "source": [
    "pip install baidu-aip -i http://pypi.douban.com/simple --trusted-host pypi.douban.com"
   ]
  },
  {
   "cell_type": "code",
   "execution_count": 3,
   "metadata": {},
   "outputs": [],
   "source": [
    "import requests\n",
    "import base64\n",
    "import urllib.parse\n",
    "import json\n",
    "import os"
   ]
  },
  {
   "cell_type": "code",
   "execution_count": 6,
   "metadata": {
    "collapsed": true
   },
   "outputs": [
    {
     "name": "stdout",
     "output_type": "stream",
     "text": [
      "Collecting selenium\n",
      "  Downloading selenium-3.141.0-py2.py3-none-any.whl (904 kB)\n",
      "Requirement already satisfied: urllib3 in c:\\users\\13670\\anaconda3\\lib\\site-packages (from selenium) (1.25.8)\n",
      "Installing collected packages: selenium\n",
      "Successfully installed selenium-3.141.0\n",
      "Note: you may need to restart the kernel to use updated packages.\n"
     ]
    }
   ],
   "source": [
    "basic_url = "
   ]
  },
  {
   "cell_type": "code",
   "execution_count": 7,
   "metadata": {},
   "outputs": [],
   "source": [
    "from aip import AipOcr\n",
    "import ssl\n",
    "from selenium import webdriver\n",
    "import time"
   ]
  },
  {
   "cell_type": "code",
   "execution_count": 8,
   "metadata": {},
   "outputs": [
    {
     "name": "stdout",
     "output_type": "stream",
     "text": [
      "baidu ocr original result:\n",
      "{'words_result': [{'words': 'e&I n'}], 'log_id': 1321061295474081792, 'words_result_num': 1}\n"
     ]
    }
   ],
   "source": [
    "APP_ID='22884637'    \n",
    "API_KEY='HgYHpFNCWlt711o6AIZDcNgA'\n",
    "SECRET_KEY='IgXDQWXngZwiCa6dcV3TGsKbCbPLB7bV'\n",
    "\n",
    "client = AipOcr(APP_ID, API_KEY, SECRET_KEY)\n",
    "\n",
    "def get_file_content(filePath):\n",
    "    with open(filePath, 'rb') as fp:\n",
    "        return fp.read()\n",
    "ssl._create_default_https_context = ssl._create_unverified_context\n",
    "\n",
    "#避免ssl error\n",
    "url = \"https://sso.scnu.edu.cn/AccountService/user/rancode.jpg\"\n",
    "ocr_result=client.basicGeneralUrl(url)\n",
    "\n",
    "print('baidu ocr original result:')\n",
    "print(ocr_result)"
   ]
  },
  {
   "cell_type": "code",
   "execution_count": 23,
   "metadata": {
    "collapsed": true
   },
   "outputs": [
    {
     "ename": "ModuleNotFoundError",
     "evalue": "No module named 'urllib2'",
     "output_type": "error",
     "traceback": [
      "\u001b[1;31m---------------------------------------------------------------------------\u001b[0m",
      "\u001b[1;31mModuleNotFoundError\u001b[0m                       Traceback (most recent call last)",
      "\u001b[1;32m<ipython-input-23-b7a309873c62>\u001b[0m in \u001b[0;36m<module>\u001b[1;34m\u001b[0m\n\u001b[0;32m      3\u001b[0m \u001b[1;32mimport\u001b[0m \u001b[0msys\u001b[0m\u001b[1;33m\u001b[0m\u001b[1;33m\u001b[0m\u001b[0m\n\u001b[0;32m      4\u001b[0m \u001b[0mtime1\u001b[0m \u001b[1;33m=\u001b[0m \u001b[0mtime\u001b[0m\u001b[1;33m.\u001b[0m\u001b[0mtime\u001b[0m\u001b[1;33m(\u001b[0m\u001b[1;33m)\u001b[0m\u001b[1;33m\u001b[0m\u001b[1;33m\u001b[0m\u001b[0m\n\u001b[1;32m----> 5\u001b[1;33m \u001b[1;32mimport\u001b[0m \u001b[0murllib\u001b[0m\u001b[1;33m,\u001b[0m\u001b[0murllib2\u001b[0m\u001b[1;33m,\u001b[0m\u001b[0mbase64\u001b[0m\u001b[1;33m\u001b[0m\u001b[1;33m\u001b[0m\u001b[0m\n\u001b[0m\u001b[0;32m      6\u001b[0m \u001b[1;32mimport\u001b[0m \u001b[0mjson\u001b[0m\u001b[1;33m\u001b[0m\u001b[1;33m\u001b[0m\u001b[0m\n\u001b[0;32m      7\u001b[0m \u001b[1;32mimport\u001b[0m \u001b[0mre\u001b[0m\u001b[1;33m\u001b[0m\u001b[1;33m\u001b[0m\u001b[0m\n",
      "\u001b[1;31mModuleNotFoundError\u001b[0m: No module named 'urllib2'"
     ]
    }
   ],
   "source": [
    "# encoding: utf-8\n",
    "import time\n",
    "import sys\n",
    "time1 = time.time()\n",
    "import urllib,base64\n",
    "import json\n",
    "import re"
   ]
  },
  {
   "cell_type": "code",
   "execution_count": 19,
   "metadata": {},
   "outputs": [],
   "source": [
    "import urllib.request"
   ]
  },
  {
   "cell_type": "code",
   "execution_count": 25,
   "metadata": {
    "collapsed": true
   },
   "outputs": [
    {
     "ename": "SyntaxError",
     "evalue": "invalid syntax (<ipython-input-25-f7685c983a5c>, line 1)",
     "output_type": "error",
     "traceback": [
      "\u001b[1;36m  File \u001b[1;32m\"<ipython-input-25-f7685c983a5c>\"\u001b[1;36m, line \u001b[1;32m1\u001b[0m\n\u001b[1;33m    resp=urllib.request.urlopen(http://www.baidu.com)\u001b[0m\n\u001b[1;37m                                    ^\u001b[0m\n\u001b[1;31mSyntaxError\u001b[0m\u001b[1;31m:\u001b[0m invalid syntax\n"
     ]
    }
   ],
   "source": [
    "resp=urllib.request.urlopen(http://www.baidu.com)"
   ]
  },
  {
   "cell_type": "code",
   "execution_count": 21,
   "metadata": {
    "collapsed": true
   },
   "outputs": [
    {
     "ename": "AttributeError",
     "evalue": "module 'urllib' has no attribute 'Request'",
     "output_type": "error",
     "traceback": [
      "\u001b[1;31m---------------------------------------------------------------------------\u001b[0m",
      "\u001b[1;31mAttributeError\u001b[0m                            Traceback (most recent call last)",
      "\u001b[1;32m<ipython-input-21-3a83e4ef6fd5>\u001b[0m in \u001b[0;36m<module>\u001b[1;34m\u001b[0m\n\u001b[0;32m     36\u001b[0m     \u001b[0mfilepath\u001b[0m \u001b[1;33m=\u001b[0m \u001b[1;34m\"C:/Users/13670/Desktop\"\u001b[0m\u001b[1;33m\u001b[0m\u001b[1;33m\u001b[0m\u001b[0m\n\u001b[0;32m     37\u001b[0m     \u001b[0mfilename\u001b[0m\u001b[1;33m=\u001b[0m\u001b[1;34m\"微信图片_20201027202126.png\"\u001b[0m\u001b[1;33m\u001b[0m\u001b[1;33m\u001b[0m\u001b[0m\n\u001b[1;32m---> 38\u001b[1;33m     \u001b[0maccess_token\u001b[0m\u001b[1;33m=\u001b[0m\u001b[0mget_token\u001b[0m\u001b[1;33m(\u001b[0m\u001b[0mAPI_Key\u001b[0m\u001b[1;33m,\u001b[0m\u001b[0mSecret_Key\u001b[0m\u001b[1;33m)\u001b[0m\u001b[1;33m\u001b[0m\u001b[1;33m\u001b[0m\u001b[0m\n\u001b[0m\u001b[0;32m     39\u001b[0m     \u001b[0mrecognition_word_high\u001b[0m\u001b[1;33m=\u001b[0m\u001b[0mrecognition_word_high\u001b[0m\u001b[1;33m(\u001b[0m\u001b[0mfilepath\u001b[0m\u001b[1;33m,\u001b[0m\u001b[0mfilename\u001b[0m\u001b[1;33m,\u001b[0m\u001b[0maccess_token\u001b[0m\u001b[1;33m)\u001b[0m\u001b[1;33m\u001b[0m\u001b[1;33m\u001b[0m\u001b[0m\n",
      "\u001b[1;32m<ipython-input-21-3a83e4ef6fd5>\u001b[0m in \u001b[0;36mget_token\u001b[1;34m(API_Key, Secret_Key)\u001b[0m\n\u001b[0;32m      2\u001b[0m     \u001b[1;31m# 获取access_token\u001b[0m\u001b[1;33m\u001b[0m\u001b[1;33m\u001b[0m\u001b[1;33m\u001b[0m\u001b[0m\n\u001b[0;32m      3\u001b[0m     \u001b[0mhost\u001b[0m \u001b[1;33m=\u001b[0m \u001b[1;34m'https://aip.baidubce.com/oauth/2.0/token?grant_type=client_credentials&client_id='\u001b[0m\u001b[1;33m+\u001b[0m\u001b[0mAPI_Key\u001b[0m\u001b[1;33m+\u001b[0m\u001b[1;34m'&client_secret='\u001b[0m\u001b[1;33m+\u001b[0m\u001b[0mSecret_Key\u001b[0m\u001b[1;33m\u001b[0m\u001b[1;33m\u001b[0m\u001b[0m\n\u001b[1;32m----> 4\u001b[1;33m     \u001b[0mrequest\u001b[0m \u001b[1;33m=\u001b[0m \u001b[0murllib\u001b[0m\u001b[1;33m.\u001b[0m\u001b[0mRequest\u001b[0m\u001b[1;33m(\u001b[0m\u001b[0mhost\u001b[0m\u001b[1;33m)\u001b[0m\u001b[1;33m\u001b[0m\u001b[1;33m\u001b[0m\u001b[0m\n\u001b[0m\u001b[0;32m      5\u001b[0m     \u001b[0mrequest\u001b[0m\u001b[1;33m.\u001b[0m\u001b[0madd_header\u001b[0m\u001b[1;33m(\u001b[0m\u001b[1;34m'Content-Type'\u001b[0m\u001b[1;33m,\u001b[0m \u001b[1;34m'application/json; charset=UTF-8'\u001b[0m\u001b[1;33m)\u001b[0m\u001b[1;33m\u001b[0m\u001b[1;33m\u001b[0m\u001b[0m\n\u001b[0;32m      6\u001b[0m     \u001b[0mresponse\u001b[0m \u001b[1;33m=\u001b[0m \u001b[0murllib\u001b[0m\u001b[1;33m.\u001b[0m\u001b[0murlopen\u001b[0m\u001b[1;33m(\u001b[0m\u001b[0mrequest\u001b[0m\u001b[1;33m)\u001b[0m\u001b[1;33m\u001b[0m\u001b[1;33m\u001b[0m\u001b[0m\n",
      "\u001b[1;31mAttributeError\u001b[0m: module 'urllib' has no attribute 'Request'"
     ]
    }
   ],
   "source": [
    "def get_token(API_Key,Secret_Key):\n",
    "    # 获取access_token\n",
    "    host = 'https://aip.baidubce.com/oauth/2.0/token?grant_type=client_credentials&client_id='+API_Key+'&client_secret='+Secret_Key\n",
    "    request = urllib.Request(host)\n",
    "    request.add_header('Content-Type', 'application/json; charset=UTF-8')\n",
    "    response = urllib.urlopen(request)\n",
    "    content = response.read()\n",
    "    content_json=json.loads(content)\n",
    "    access_token=content_json['access_token']\n",
    "    return access_token\n",
    "\n",
    "\n",
    "def recognition_word_high(filepath,filename,access_token):\n",
    "    url='https://aip.baidubce.com/rest/2.0/ocr/v1/accurate_basic?access_token=' + access_token\n",
    "    # 二进制方式打开图文件\n",
    "    f = open(filepath + filename, 'rb')  # 二进制方式打开图文件\n",
    "    # 参数image：图像base64编码\n",
    "    img = base64.b64encode(f.read())\n",
    "    params = {\"image\": img}\n",
    "    params = urllib.urlencode(params)\n",
    "    request = urllib.Request(url, params)\n",
    "    request.add_header('Content-Type', 'application/x-www-form-urlencoded')\n",
    "    response = urllib.urlopen(request)\n",
    "    content = response.read()\n",
    "    if (content):\n",
    "        # print(content)\n",
    "        world=re.findall('\"words\": \"(.*?)\"}',str(content),re.S)\n",
    "        for each in world:\n",
    "            print (each)\n",
    "\n",
    "\n",
    "\n",
    "if __name__ == '__main__':\n",
    "    API_Key = \"HgYHpFNCWlt711o6AIZDcNgA\"\n",
    "    Secret_Key = \"IgXDQWXngZwiCa6dcV3TGsKbCbPLB7bV\"\n",
    "    filepath = \"C:/Users/13670/Desktop\"\n",
    "    filename=\"微信图片_20201027202126.png\"\n",
    "    access_token=get_token(API_Key,Secret_Key)\n",
    "    recognition_word_high=recognition_word_high(filepath,filename,access_token)"
   ]
  },
  {
   "cell_type": "code",
   "execution_count": 27,
   "metadata": {
    "collapsed": true
   },
   "outputs": [
    {
     "name": "stdout",
     "output_type": "stream",
     "text": [
      "Note: you may need to restart the kernel to use updated packages.\n"
     ]
    },
    {
     "name": "stderr",
     "output_type": "stream",
     "text": [
      "ERROR: Could not find a version that satisfies the requirement java (from versions: none)\n",
      "ERROR: No matching distribution found for java\n"
     ]
    }
   ],
   "source": [
    "pip install java"
   ]
  },
  {
   "cell_type": "code",
   "execution_count": 26,
   "metadata": {
    "collapsed": true
   },
   "outputs": [
    {
     "ename": "ModuleNotFoundError",
     "evalue": "No module named 'java'",
     "output_type": "error",
     "traceback": [
      "\u001b[1;31m---------------------------------------------------------------------------\u001b[0m",
      "\u001b[1;31mModuleNotFoundError\u001b[0m                       Traceback (most recent call last)",
      "\u001b[1;32m<ipython-input-26-2fa574dfe34b>\u001b[0m in \u001b[0;36m<module>\u001b[1;34m\u001b[0m\n\u001b[1;32m----> 1\u001b[1;33m \u001b[1;32mimport\u001b[0m \u001b[0mjava\u001b[0m\u001b[1;33m.\u001b[0m\u001b[0mutil\u001b[0m\u001b[1;33m.\u001b[0m\u001b[0mHashMap\u001b[0m\u001b[1;33m;\u001b[0m\u001b[1;33m\u001b[0m\u001b[1;33m\u001b[0m\u001b[0m\n\u001b[0m\u001b[0;32m      2\u001b[0m \u001b[1;32mimport\u001b[0m \u001b[0morg\u001b[0m\u001b[1;33m.\u001b[0m\u001b[0mjson\u001b[0m\u001b[1;33m.\u001b[0m\u001b[0mJSONObject\u001b[0m\u001b[1;33m;\u001b[0m\u001b[1;33m\u001b[0m\u001b[1;33m\u001b[0m\u001b[0m\n\u001b[0;32m      3\u001b[0m \u001b[1;32mimport\u001b[0m \u001b[0morg\u001b[0m\u001b[1;33m.\u001b[0m\u001b[0mspringframework\u001b[0m\u001b[1;33m.\u001b[0m\u001b[0mbeans\u001b[0m\u001b[1;33m.\u001b[0m\u001b[0mfactory\u001b[0m\u001b[1;33m.\u001b[0m\u001b[0mannotation\u001b[0m\u001b[1;33m.\u001b[0m\u001b[0mAutowired\u001b[0m\u001b[1;33m;\u001b[0m\u001b[1;33m\u001b[0m\u001b[1;33m\u001b[0m\u001b[0m\n\u001b[0;32m      4\u001b[0m \u001b[1;32mimport\u001b[0m \u001b[0morg\u001b[0m\u001b[1;33m.\u001b[0m\u001b[0mspringframework\u001b[0m\u001b[1;33m.\u001b[0m\u001b[0mstereotype\u001b[0m\u001b[1;33m.\u001b[0m\u001b[0mComponent\u001b[0m\u001b[1;33m;\u001b[0m\u001b[1;33m\u001b[0m\u001b[1;33m\u001b[0m\u001b[0m\n\u001b[0;32m      5\u001b[0m \u001b[1;32mimport\u001b[0m \u001b[0mcom\u001b[0m\u001b[1;33m.\u001b[0m\u001b[0mbaidu\u001b[0m\u001b[1;33m.\u001b[0m\u001b[0maip\u001b[0m\u001b[1;33m.\u001b[0m\u001b[0mocr\u001b[0m\u001b[1;33m.\u001b[0m\u001b[0mAipOcr\u001b[0m\u001b[1;33m;\u001b[0m\u001b[1;33m\u001b[0m\u001b[1;33m\u001b[0m\u001b[0m\n",
      "\u001b[1;31mModuleNotFoundError\u001b[0m: No module named 'java'"
     ]
    }
   ],
   "source": [
    "import java.util.HashMap;\n",
    "import org.json.JSONObject;\n",
    "import org.springframework.beans.factory.annotation.Autowired;\n",
    "import org.springframework.stereotype.Component;\n",
    "import com.baidu.aip.ocr.AipOcr;\n",
    "import com.baidu.aip.run.mapper.KeyWordMapper;"
   ]
  },
  {
   "cell_type": "code",
   "execution_count": null,
   "metadata": {},
   "outputs": [],
   "source": [
    "@Component\n",
    "public class Sample{\n",
    "\n",
    "@Autowired\n",
    "private KeyWordMapper keyWordMapper;\n",
    "\n",
    "// 设置APPID/AK/SK\n",
    "public static final String APP_ID = \"1632656666\";\n",
    "public static final String API_KEY = \"SuIze0vOa1BQX9KhooKgtK311Q\";\n",
    "public static final String SECRET_KEY = \"kXQe85iSiv7TuamRXqbkdSyohIBSdCl227\";\n",
    "\n",
    "// 初始化用户对象\n",
    "    public static AipOcr init() {\n",
    "    // 初始化一个AipOcr\n",
    "        AipOcr client = new AipOcr(APP_ID, API_KEY, SECRET_KEY);\n",
    "        // 可选：设置网络连接参数\n",
    "        client.setConnectionTimeoutInMillis(2000);\n",
    "        client.setSocketTimeoutInMillis(60000);\n",
    "        \n",
    "        return client;\n",
    "\t}\n",
    "\n",
    "    public void sample() {\n",
    "        // 传入可选参数调用接口\n",
    "        HashMap<String, String> options = new HashMap<String, String>();\n",
    "        options.put(\"language_type\", \"CHN_ENG\");\n",
    "        options.put(\"detect_direction\", \"true\");\n",
    "        options.put(\"detect_language\", \"true\");\n",
    "        options.put(\"probability\", \"true\");\n",
    "\n",
    "        AipOcr client = init();\n",
    "        \n",
    "        // 参数为本地图片路径\n",
    "        String image = \"test.jpg\";\n",
    "        String path = \"C:\\\\Users\\\\Lenovo\\\\Desktop\\\\图片\\\\aaa.jpg\";\n",
    "        JSONObject res = client.basicGeneral(path, options);\n",
    "        System.out.println(res.toString());\n",
    "\n",
    "//        // 参数为本地图片二进制数组\n",
    "//        byte[] file = readImageFile(image);\n",
    "//        res = client.basicGeneral(file, options);\n",
    "//        System.out.println(res.toString(2));\n",
    "\n",
    "\n",
    "        // 通用文字识别, 图片参数为远程url图片\n",
    "//        JSONObject res = client.basicGeneralUrl(url, options);\n",
    "//        System.out.println(res.toString(2));\n",
    "\n",
    "    }\n",
    "}"
   ]
  },
  {
   "cell_type": "code",
   "execution_count": null,
   "metadata": {},
   "outputs": [],
   "source": []
  },
  {
   "cell_type": "code",
   "execution_count": null,
   "metadata": {},
   "outputs": [],
   "source": []
  },
  {
   "cell_type": "code",
   "execution_count": 32,
   "metadata": {},
   "outputs": [],
   "source": [
    "# encoding: utf-8\n",
    "import requests\n",
    "import json\n",
    "import base64\n",
    "import time"
   ]
  },
  {
   "cell_type": "code",
   "execution_count": null,
   "metadata": {},
   "outputs": [],
   "source": [
    "def get_access_token():\n",
    "    client_id = 'HgYHpFNCWlt711o6AIZDcNgA'\n",
    "    client_secret = 'IgXDQWXngZwiCa6dcV3TGsKbCbPLB7bV'\n",
    "    # client_id 为官网获取的AK， client_secret 为官网获取的SK\n",
    "    host = 'https://aip.baidubce.com/oauth/2.0/token?grant_type=client_credentials&client_id={}&client_secret={}'.format(\n",
    "        client_id, client_secret)\n",
    "    response = requests.get(host).text\n",
    "    data = json.loads(response)\n",
    "    access_token = data['access_token']\n",
    "    return access_token"
   ]
  },
  {
   "cell_type": "code",
   "execution_count": null,
   "metadata": {},
   "outputs": [],
   "source": [
    "#在这里我把文件路径放在了函数里面，可以放在外面，也可以做一个循环，识别一个文件夹里面的所有图片。\n",
    "def get_info(access_token):\n",
    "\n",
    "    request_url = \"https://aip.baidubce.com/rest/2.0/solution/v1/form_ocr/request\"\n",
    "    # 二进制方式打开图片文件\n",
    "    f = open('C:/Users/13670/Desktop/1.png', 'rb')\n",
    "    img = base64.b64encode(f.read())#base64编码\n",
    "    params = {\"image\": img}\n",
    "    request_url = request_url + \"?access_token=\" + access_token\n",
    "    headers = {'content-type': 'application/x-www-form-urlencoded'}\n",
    "    response = requests.post(request_url, data=params, headers=headers)\n",
    "#     if response:\n",
    "#         print(response.json())\n",
    "    data_1 = response.json()\n",
    "    return data_1\n"
   ]
  },
  {
   "cell_type": "code",
   "execution_count": null,
   "metadata": {},
   "outputs": [],
   "source": [
    "# 获取excel\n",
    "\n",
    "def get_excel(requests_id, access_token):\n",
    "    headers = {'content-type': 'application/x-www-form-urlencoded'}\n",
    "    pargams = {\n",
    "        'request_id': requests_id,\n",
    "        'result_type': 'excel'\n",
    "    }\n",
    "    url = 'https://aip.baidubce.com/rest/2.0/solution/v1/form_ocr/get_request_result'\n",
    "    url_all = url + \"?access_token=\" + access_token\n",
    "    res = requests.post(url_all, headers=headers, params=pargams)#访问链接获取excel下载页\n",
    "    info_1 = res.json()['result']['ret_msg']\n",
    "    excel_url=res.json()['result']['result_data']\n",
    "    excel_1=requests.get(excel_url).content\n",
    "    with open('识别结果.xls','wb+') as f:\n",
    "        f.write(excel_1)\n",
    "    print(info_1)"
   ]
  },
  {
   "cell_type": "code",
   "execution_count": null,
   "metadata": {},
   "outputs": [],
   "source": [
    "def main():\n",
    "    print('正在处理中请稍后')\n",
    "    access_token = get_access_token()\n",
    "    data_1 = get_info(access_token)\n",
    "    try:\n",
    "        requests_id = data_1['result'][0]['request_id']\n",
    "        if requests_id != '':\n",
    "            print('识别完成')\n",
    "    except:\n",
    "        print('识别错误')\n",
    "    print('正在获取excel')\n",
    "    time.sleep(10)#延时十秒让网页图片转excel完毕，excel量多的话，转化会慢，可以延时长一点\n",
    "    get_excel(requests_id, access_token)\n",
    "\n",
    "main()"
   ]
  },
  {
   "cell_type": "code",
   "execution_count": 1,
   "metadata": {},
   "outputs": [],
   "source": [
    "import requests\n",
    "import json\n",
    "import base64\n",
    "import time"
   ]
  },
  {
   "cell_type": "code",
   "execution_count": 2,
   "metadata": {},
   "outputs": [],
   "source": [
    "#获取access_token\n",
    "def get_access_token():\n",
    "    client_id = 'HgYHpFNCWlt711o6AIZDcNgA'\n",
    "    client_secret = 'IgXDQWXngZwiCa6dcV3TGsKbCbPLB7bV'   \n",
    "     # client_id 为官网获取的AK， client_secret 为官网获取的SK\n",
    "    host = 'https://aip.baidubce.com/oauth/2.0/token?grant_type=client_credentials&client_id={}&client_secret={}'.format(\n",
    "        client_id, client_secret)\n",
    "    response = requests.get(host).text\n",
    "    data = json.loads(response)\n",
    "    access_token = data['access_token']\n",
    "    return access_token\n",
    "# 获取返回信息\n",
    "access_token = get_access_token()"
   ]
  },
  {
   "cell_type": "code",
   "execution_count": 3,
   "metadata": {},
   "outputs": [],
   "source": [
    "#获取识别结果\n",
    "def get_info(access_token):\n",
    "\n",
    "    request_url = \"https://aip.baidubce.com/rest/2.0/solution/v1/form_ocr/request\"\n",
    "    # 二进制方式打开图片文件\n",
    "    f = open('C:/Users/13670/Desktop/4.jpg', 'rb')\n",
    "    img = base64.b64encode(f.read())#base64编码\n",
    "    params = {\"image\": img}\n",
    "    request_url = request_url + \"?access_token=\" + access_token\n",
    "    headers = {'content-type': 'application/x-www-form-urlencoded'}\n",
    "    response = requests.post(request_url, data=params, headers=headers)\n",
    "    # if response:\n",
    "    #     print(response.json())\n",
    "    data_1 = response.json()\n",
    "    return data_1\n",
    "data = get_info(access_token)"
   ]
  },
  {
   "cell_type": "code",
   "execution_count": 4,
   "metadata": {},
   "outputs": [
    {
     "data": {
      "text/plain": [
       "{'result': [{'request_id': '22884637_2215546'}], 'log_id': 1603850704741619}"
      ]
     },
     "execution_count": 4,
     "metadata": {},
     "output_type": "execute_result"
    }
   ],
   "source": [
    "data"
   ]
  },
  {
   "cell_type": "code",
   "execution_count": 22,
   "metadata": {},
   "outputs": [],
   "source": [
    "import json"
   ]
  },
  {
   "cell_type": "code",
   "execution_count": 23,
   "metadata": {},
   "outputs": [],
   "source": [
    "# 获取json\n",
    "def get_json(requests_id, access_token):\n",
    "    headers = {'content-type': 'application/x-www-form-urlencoded'}\n",
    "    pargams = {\n",
    "        'request_id': requests_id,\n",
    "        'result_type': 'json'\n",
    "    }\n",
    "    url = 'https://aip.baidubce.com/rest/2.0/solution/v1/form_ocr/get_request_result'\n",
    "    url_all = url + \"?access_token=\" + access_token\n",
    "    res = requests.post(url_all, headers=headers, params=pargams)\n",
    "    return res\n",
    "\n",
    "json = get_json('22884637_2215546',access_token)"
   ]
  },
  {
   "cell_type": "code",
   "execution_count": 24,
   "metadata": {},
   "outputs": [
    {
     "data": {
      "text/plain": [
       "<Response [200]>"
      ]
     },
     "execution_count": 24,
     "metadata": {},
     "output_type": "execute_result"
    }
   ],
   "source": [
    "json_ = json.content\n",
    "json"
   ]
  },
  {
   "cell_type": "code",
   "execution_count": 8,
   "metadata": {},
   "outputs": [],
   "source": [
    "#获取excel\n",
    "def get_excel(requests_id, access_token):\n",
    "    headers = {'content-type': 'application/x-www-form-urlencoded'}\n",
    "    pargams = {\n",
    "        'request_id': requests_id,\n",
    "        'result_type': 'excel'\n",
    "    }\n",
    "    url = 'https://aip.baidubce.com/rest/2.0/solution/v1/form_ocr/get_request_result'\n",
    "    url_all = url + \"?access_token=\" + access_token\n",
    "    res = requests.post(url_all, headers=headers, params=pargams)#访问链接获取excel下载页\n",
    "    return res\n",
    "excel = get_excel('22884637_2215546',access_token)"
   ]
  },
  {
   "cell_type": "code",
   "execution_count": 10,
   "metadata": {},
   "outputs": [],
   "source": [
    "hmtls=excel.content"
   ]
  },
  {
   "cell_type": "code",
   "execution_count": 11,
   "metadata": {},
   "outputs": [
    {
     "data": {
      "text/plain": [
       "b'{\"result\":{\"result_data\":\"http://bj.bcebos.com/v1/ai-edgecloud/51092179832C4F3FA81F9040E8516CE6.xls?authorization=bce-auth-v1%2Ff86a2044998643b5abc89b59158bad6d%2F2020-10-28T02%3A05%3A13Z%2F172800%2F%2F4ae5504fb7cca44a3df77b51db24750f998fc1a1ac6e1fc1acd24a3cc1b396eb\",\"ret_msg\":\"\\xe5\\xb7\\xb2\\xe5\\xae\\x8c\\xe6\\x88\\x90\",\"request_id\":\"22884637_2215546\",\"percent\":100,\"ret_code\":3},\"log_id\":1603851447165800}'"
      ]
     },
     "execution_count": 11,
     "metadata": {},
     "output_type": "execute_result"
    }
   ],
   "source": [
    "hmtls"
   ]
  },
  {
   "cell_type": "code",
   "execution_count": null,
   "metadata": {},
   "outputs": [],
   "source": []
  },
  {
   "cell_type": "code",
   "execution_count": null,
   "metadata": {},
   "outputs": [],
   "source": []
  },
  {
   "cell_type": "code",
   "execution_count": null,
   "metadata": {},
   "outputs": [],
   "source": []
  },
  {
   "cell_type": "code",
   "execution_count": null,
   "metadata": {},
   "outputs": [],
   "source": []
  },
  {
   "cell_type": "code",
   "execution_count": null,
   "metadata": {},
   "outputs": [],
   "source": [
    "import requests\n",
    "import json\n",
    "import base64\n",
    "import time\n",
    "\n",
    "#获取access_token\n",
    "def get_access_token():\n",
    "    client_id = 'HgYHpFNCWlt711o6AIZDcNgA'\n",
    "    client_secret = 'IgXDQWXngZwiCa6dcV3TGsKbCbPLB7bV'   \n",
    "     # client_id 为官网获取的AK， client_secret 为官网获取的SK\n",
    "    host = 'https://aip.baidubce.com/oauth/2.0/token?grant_type=client_credentials&client_id={}&client_secret={}'.format(\n",
    "        client_id, client_secret)\n",
    "    response = requests.get(host).text\n",
    "    data = json.loads(response)\n",
    "    access_token = data['access_token']\n",
    "    return access_token\n",
    "# 获取返回信息\n",
    "\n",
    "#获取识别结果\n",
    "def get_info(access_token):\n",
    "\n",
    "    request_url = \"https://aip.baidubce.com/rest/2.0/solution/v1/form_ocr/request\"\n",
    "    # 二进制方式打开图片文件\n",
    "    f = open('C:/Users/13670/Desktop/4.jpg', 'rb')\n",
    "    img = base64.b64encode(f.read())#base64编码\n",
    "    params = {\"image\": img,'request_type':json}\n",
    "    request_url = request_url + \"?access_token=\" + access_token\n",
    "    headers = {'content-type': 'application/x-www-form-urlencoded'}\n",
    "    response = requests.post(request_url, data=params, headers=headers)\n",
    "    # if response:\n",
    "    #     print(response.json())\n",
    "    data_1 = response.json()\n",
    "    return data_1\n",
    "\n",
    "# 获取excel\n",
    "\n",
    "def get_excel(requests_id, access_token):\n",
    "    headers = {'content-type': 'application/x-www-form-urlencoded'}\n",
    "    pargams = {\n",
    "        'request_id': requests_id,\n",
    "        'result_type': 'excel'\n",
    "    }\n",
    "    url = 'https://aip.baidubce.com/rest/2.0/solution/v1/form_ocr/get_request_result'\n",
    "    url_all = url + \"?access_token=\" + access_token\n",
    "    res = requests.post(url_all, headers=headers, params=pargams)#访问链接获取excel下载页\n",
    "    info_1 = res.json()['result']['ret_msg']\n",
    "    excel_url=res.json()['result']['result_data']\n",
    "    excel_1=requests.get(excel_url).content\n",
    "    with open('识别结果3.xls','wb+') as f:\n",
    "        f.write(excel_1)\n",
    "    print(info_1)\n",
    "\n",
    "\n",
    "def main():\n",
    "    print('正在处理中请稍后')\n",
    "    access_token = get_access_token()\n",
    "    data_1 = get_info(access_token)\n",
    "    try:\n",
    "        requests_id = data_1['result'][0]['request_id']\n",
    "        if requests_id != '':\n",
    "            print('识别完成')\n",
    "    except:\n",
    "        print('识别错误')\n",
    "    print('正在获取excel')\n",
    "    time.sleep(10)#延时十秒让网页图片转excel完毕，excel量多的话，转化会慢，可以延时长一点\n",
    "    get_excel(requests_id, access_token)\n",
    "\n",
    "main()\n"
   ]
  }
 ],
 "metadata": {
  "kernelspec": {
   "display_name": "Python 3",
   "language": "python",
   "name": "python3"
  },
  "language_info": {
   "codemirror_mode": {
    "name": "ipython",
    "version": 3
   },
   "file_extension": ".py",
   "mimetype": "text/x-python",
   "name": "python",
   "nbconvert_exporter": "python",
   "pygments_lexer": "ipython3",
   "version": "3.7.6"
  }
 },
 "nbformat": 4,
 "nbformat_minor": 4
}
