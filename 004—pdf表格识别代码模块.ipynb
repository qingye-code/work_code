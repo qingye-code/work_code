{
 "cells": [
  {
   "cell_type": "code",
   "execution_count": 1,
   "metadata": {},
   "outputs": [],
   "source": [
    "import pdfplumber\n",
    "import pandas as pd\n",
    "import os"
   ]
  },
  {
   "cell_type": "code",
   "execution_count": 41,
   "metadata": {},
   "outputs": [],
   "source": [
    "def get_all_path(root):\n",
    "    path_list = []\n",
    "    for (root, dirs, files) in os.walk(root):\n",
    "        for file in files:\n",
    "            if file.endswith(\".pdf\"):\n",
    "                path = os.path.join(root,file)\n",
    "                path_list.append(path)\n",
    "    return(path_list)\n",
    "\n",
    "def extract_table_to_excel(path_list):\n",
    "    for path in path_list:\n",
    "        table_list = []\n",
    "        with pdfplumber.open(path) as pdf: \n",
    "            for i in range(len(pdf.pages)):\n",
    "                page = pdf.pages[i]\n",
    "                page_table = page.extract_table()\n",
    "                table_list.append(page_table)\n",
    "        excel_name = (str(path.split(\"\\\\\")[-1].split(\".\")[0]) + \".xlsx\")       \n",
    "        with pd.ExcelWriter(excel_name) as writer:  \n",
    "            for index, table in enumerate(table_list):\n",
    "                sheet_name = 'Sheet_name_'+str(index)\n",
    "                df_table = pd.DataFrame(table)\n",
    "                df_table.to_excel(writer, sheet_name= sheet_name, header = 0)\n",
    "        writer.save()\n",
    "        writer.close()\n",
    "        \n",
    "if __name__ == \"__main__\":\n",
    "    root = r'C:\\Users\\13670\\Desktop\\test1'\n",
    "    path_list = get_all_path(root)\n",
    "    extract_table_to_excel(path_list)  "
   ]
  },
  {
   "cell_type": "code",
   "execution_count": null,
   "metadata": {},
   "outputs": [],
   "source": [
    "import pdfplumber\n",
    "import pandas as pd\n",
    "import os\n",
    "\n",
    "def get_all_path(root):\n",
    "    path_list = []\n",
    "    for (root, dirs, files) in os.walk(root):\n",
    "        for file in files:\n",
    "            if file.endswith(\".pdf\"):\n",
    "                path = os.path.join(root,file)\n",
    "                path_list.append(path)\n",
    "    return(path_list)\n",
    "\n",
    "def extract_table_to_excel(path_list):\n",
    "    for path in path_list:\n",
    "        table_list = []\n",
    "        with pdfplumber.open(path) as pdf: \n",
    "            for i in range(len(pdf.pages)):\n",
    "                page = pdf.pages[i]\n",
    "                page_table = page.extract_table()\n",
    "                table_list.append(page_table)\n",
    "        excel_name = (str(path.split(\"\\\\\")[-1].split(\".\")[0]) + \".xlsx\")       \n",
    "        with pd.ExcelWriter(excel_name) as writer:  \n",
    "            for index, table in enumerate(table_list):\n",
    "                sheet_name = 'Sheet_name_'+str(index)\n",
    "                df_table = pd.DataFrame(table)\n",
    "                df_table.to_excel(writer, sheet_name= sheet_name, header = 0)\n",
    "        writer.save()\n",
    "        writer.close()\n",
    "        \n",
    "if __name__ == \"__main__\":\n",
    "    root = r'C:\\Users\\13670\\Desktop\\test1'\n",
    "    path_list = get_all_path(root)\n",
    "    extract_table_to_excel(path_list)  "
   ]
  },
  {
   "cell_type": "code",
   "execution_count": 32,
   "metadata": {},
   "outputs": [],
   "source": [
    " def get_all_path(root):\n",
    "    path_list = []\n",
    "    for (root, dirs, files) in os.walk(root):\n",
    "        for file in files:\n",
    "            if file.endswith(\".pdf\"):\n",
    "                path = os.path.join(root,file)\n",
    "                path_list.append(path)\n",
    "    return(path_list)\n",
    "path_list = get_all_path(r'C:\\Users\\13670\\Desktop\\test1')"
   ]
  },
  {
   "cell_type": "code",
   "execution_count": 38,
   "metadata": {},
   "outputs": [
    {
     "data": {
      "text/plain": [
       "'两页数据'"
      ]
     },
     "execution_count": 38,
     "metadata": {},
     "output_type": "execute_result"
    }
   ],
   "source": [
    "path_list[0].split(\"\\\\\")[-1].split(\".\")[0]\n"
   ]
  },
  {
   "cell_type": "code",
   "execution_count": 35,
   "metadata": {},
   "outputs": [
    {
     "ename": "NameError",
     "evalue": "name 'split' is not defined",
     "output_type": "error",
     "traceback": [
      "\u001b[1;31m---------------------------------------------------------------------------\u001b[0m",
      "\u001b[1;31mNameError\u001b[0m                                 Traceback (most recent call last)",
      "\u001b[1;32m<ipython-input-35-1d5b21a15cb9>\u001b[0m in \u001b[0;36m<module>\u001b[1;34m\u001b[0m\n\u001b[1;32m----> 1\u001b[1;33m \u001b[0msplit\u001b[0m\u001b[1;33m(\u001b[0m\u001b[1;34m\"\\\\\"\u001b[0m\u001b[1;33m)\u001b[0m\u001b[1;33m[\u001b[0m\u001b[1;33m-\u001b[0m\u001b[1;36m1\u001b[0m\u001b[1;33m]\u001b[0m\u001b[1;33m\u001b[0m\u001b[1;33m\u001b[0m\u001b[0m\n\u001b[0m",
      "\u001b[1;31mNameError\u001b[0m: name 'split' is not defined"
     ]
    }
   ],
   "source": [
    "split(\"\\\\\")[-1]"
   ]
  },
  {
   "cell_type": "code",
   "execution_count": null,
   "metadata": {},
   "outputs": [],
   "source": [
    "workbook = Workbook(\"r'C:/Users/13670/Desktop/\")"
   ]
  },
  {
   "cell_type": "code",
   "execution_count": null,
   "metadata": {},
   "outputs": [],
   "source": [
    "wb_in = 'E:\\\\excel_vba\\\\test.xlsx'\n",
    "wb_out = os.path.join(os.path.dirname(wb_in), 'test_1.xlsx')\n",
    "\n",
    "df = pd.read_excel(wb_in)\n",
    "new_sheet_names = df['班级'].drop_duplicates()\n",
    "book = openpyxl.load_workbook(wb_in)\n",
    "\n",
    "writer = pd.ExcelWriter(wb_out, engine='openpyxl')\n",
    "writer.book = book\n",
    "\n",
    "for name in new_sheet_names:\n",
    "    df_a = df[df['班级']==name]\n",
    "    df_a.to_excel(writer, sheet_name=name, index=False)\n",
    "    \n",
    "writer.save()"
   ]
  },
  {
   "cell_type": "code",
   "execution_count": null,
   "metadata": {},
   "outputs": [],
   "source": []
  },
  {
   "cell_type": "code",
   "execution_count": null,
   "metadata": {},
   "outputs": [],
   "source": [
    "for path in path_list:\n",
    "    p0 = pdf.pages[2]\n",
    "    "
   ]
  },
  {
   "cell_type": "code",
   "execution_count": null,
   "metadata": {},
   "outputs": [],
   "source": [
    "path = r\"C:/Users/13670/Desktop/test1/登记数据.pdf\""
   ]
  },
  {
   "cell_type": "code",
   "execution_count": 10,
   "metadata": {},
   "outputs": [],
   "source": [
    "pdf = pdfplumber.open(r\"C:/Users/13670/Desktop/test1/登记数据.pdf\")"
   ]
  },
  {
   "cell_type": "code",
   "execution_count": 11,
   "metadata": {},
   "outputs": [],
   "source": [
    "p0 = pdf.pages[0]\n",
    "im = p0.to_image()"
   ]
  },
  {
   "cell_type": "code",
   "execution_count": 12,
   "metadata": {
    "collapsed": true
   },
   "outputs": [
    {
     "data": {
      "image/png": "[encoded data removed]",
      "text/plain": [
       "<pdfplumber.display.PageImage at 0x296a897cb08>"
      ]
     },
     "execution_count": 12,
     "metadata": {},
     "output_type": "execute_result"
    }
   ],
   "source": [
    "im"
   ]
  },
  {
   "cell_type": "code",
   "execution_count": 21,
   "metadata": {
    "collapsed": true
   },
   "outputs": [
    {
     "data": {
      "text/plain": [
       "[['序号 地区 城乡 资料年份 合计 男性 女性'],\n",
       " ['1 北京市 1 1998~2002 12131536 6258977 5872559\\n2 磁 县 2 1998~2002 3126129 1593265 1532864\\n3 涉 县 2 2000~2002 1147484 595771 551713\\n4 阳城县 2 1998~2002 1968826 1003488 965338\\n5 大连市 1 1998~2002 10049353 5087748 4961605\\n6 鞍山市 1 1998~2002 7280500 3675108 3605392\\n7 哈尔滨市 1 1998~2002 4219735 2125315 2094420\\n8 上海市 1 1998~2002 31421563 15914368 15507195\\n9 海门市 2 1999~2002 4139003 1896000 2243003\\n10 启东市 2 1998~2002 5804891 2876554 2928337\\n11 淮安市 1 1998~2002 6073118 3133819 2939299\\n12 大丰市 2 1999~2002 2958811 1505071 1453740\\n13 扬中市 2 1998~2002 1374675 683776 690899\\n14 杭州市 1 2000~2002 4668198 2397678 2270520\\n15 嘉兴市 1 2000~2002 781327 396053 385274\\n16 嘉善县 2 1998~2002 1904677 957960 946717\\n17 海宁市 2 1998~2002 3199786 1596137 1603649\\n18 长乐市 2 1998~2002 3354267 1772487 1581780\\n19 临朐县 2 1998~2002 3891787 1991716 1900071\\n20 肥城市 2 1998~2002 3791316 1891548 1899768\\n21 林州市 2 1998~2002 4909903 2507295 2402608\\n22 武汉市 1 1998~2002 21462791 11096931 10365860\\n23 广州市 1 2000~2002 10824781 5589593 5235188\\n24 深圳市 1 1999~2002 5298823 2649401 2649422\\n25 四会市 2 1998~2002 1968969 1013211 955758\\n26 中山市 2 1998~2002 6628612 3335253 3293359\\n27 扶绥县 2 1998~2002 2033208 1067385 965823\\n28 盐亭县 2 1998~2002 2964900 1528707 1436193\\n29 个旧市 2 1998~2002 1932825 977033 955792\\n30 武威市 1 2000~2002 2983901 1537480 1446421\\n合计 174295695 88655128 85640567']]"
      ]
     },
     "execution_count": 21,
     "metadata": {},
     "output_type": "execute_result"
    }
   ],
   "source": [
    "table"
   ]
  },
  {
   "cell_type": "code",
   "execution_count": 13,
   "metadata": {},
   "outputs": [],
   "source": [
    "table = p0.extract_table()"
   ]
  },
  {
   "cell_type": "code",
   "execution_count": 21,
   "metadata": {},
   "outputs": [],
   "source": [
    "table1 = pd.DataFrame(table)\n",
    "table1.to_excel(r\"C:/Users/13670/Desktop/test.xlsx\",header = 0)"
   ]
  },
  {
   "cell_type": "code",
   "execution_count": 12,
   "metadata": {},
   "outputs": [],
   "source": [
    "from openpyxl import Workbook"
   ]
  },
  {
   "cell_type": "code",
   "execution_count": 29,
   "metadata": {},
   "outputs": [],
   "source": [
    "workbook = Workbook()\n",
    "sheet = workbook.active\n",
    "for row in table:\n",
    "    sheet.append(row)\n",
    "workbook.save(r'C:/Users/13670/Desktop/test1.xls')"
   ]
  },
  {
   "cell_type": "code",
   "execution_count": 32,
   "metadata": {
    "collapsed": true
   },
   "outputs": [
    {
     "name": "stdout",
     "output_type": "stream",
     "text": [
      "Collecting ocrmypdf\n",
      "  Downloading ocrmypdf-11.3.1-py35-none-any.whl (125 kB)\n",
      "Collecting pikepdf<3,>=1.14.0\n",
      "  Downloading pikepdf-1.19.3-cp37-cp37m-win_amd64.whl (1.4 MB)\n",
      "Requirement already satisfied: tqdm>=4 in c:\\users\\13670\\anaconda3\\lib\\site-packages (from ocrmypdf) (4.49.0)\n",
      "Collecting coloredlogs>=14.0\n",
      "  Downloading coloredlogs-14.0-py2.py3-none-any.whl (43 kB)\n",
      "Requirement already satisfied: pdfminer.six!=20200720,<=20201018,>=20191110 in c:\\users\\13670\\anaconda3\\lib\\site-packages (from ocrmypdf) (20200104)\n",
      "Collecting reportlab>=3.3.0\n",
      "  Downloading reportlab-3.5.54-cp37-cp37m-win_amd64.whl (2.3 MB)\n",
      "Collecting img2pdf<0.5,>=0.3.0\n",
      "  Downloading img2pdf-0.4.0.tar.gz (107 kB)\n",
      "Requirement already satisfied: Pillow>=7.0.0 in c:\\users\\13670\\anaconda3\\lib\\site-packages (from ocrmypdf) (7.0.0)\n",
      "Requirement already satisfied: pluggy<1.0,>=0.13.0 in c:\\users\\13670\\anaconda3\\lib\\site-packages (from ocrmypdf) (0.13.1)\n",
      "Requirement already satisfied: cffi>=1.9.1 in c:\\users\\13670\\anaconda3\\lib\\site-packages (from ocrmypdf) (1.14.0)\n",
      "Requirement already satisfied: lxml>=4.0 in c:\\users\\13670\\anaconda3\\lib\\site-packages (from pikepdf<3,>=1.14.0->ocrmypdf) (4.5.0)\n",
      "Collecting humanfriendly>=7.1\n",
      "  Downloading humanfriendly-8.2-py2.py3-none-any.whl (86 kB)\n",
      "Requirement already satisfied: sortedcontainers in c:\\users\\13670\\anaconda3\\lib\\site-packages (from pdfminer.six!=20200720,<=20201018,>=20191110->ocrmypdf) (2.1.0)\n",
      "Requirement already satisfied: pycryptodome in c:\\users\\13670\\anaconda3\\lib\\site-packages (from pdfminer.six!=20200720,<=20201018,>=20191110->ocrmypdf) (3.9.8)\n",
      "Requirement already satisfied: chardet; python_version > \"3.0\" in c:\\users\\13670\\anaconda3\\lib\\site-packages (from pdfminer.six!=20200720,<=20201018,>=20191110->ocrmypdf) (3.0.4)\n",
      "Requirement already satisfied: importlib-metadata>=0.12; python_version < \"3.8\" in c:\\users\\13670\\anaconda3\\lib\\site-packages (from pluggy<1.0,>=0.13.0->ocrmypdf) (1.5.0)\n",
      "Requirement already satisfied: pycparser in c:\\users\\13670\\anaconda3\\lib\\site-packages (from cffi>=1.9.1->ocrmypdf) (2.19)\n",
      "Requirement already satisfied: pyreadline; sys_platform == \"win32\" in c:\\users\\13670\\anaconda3\\lib\\site-packages (from humanfriendly>=7.1->coloredlogs>=14.0->ocrmypdf) (2.1)\n",
      "Requirement already satisfied: zipp>=0.5 in c:\\users\\13670\\anaconda3\\lib\\site-packages (from importlib-metadata>=0.12; python_version < \"3.8\"->pluggy<1.0,>=0.13.0->ocrmypdf) (2.2.0)\n",
      "Building wheels for collected packages: img2pdf\n",
      "  Building wheel for img2pdf (setup.py): started\n",
      "  Building wheel for img2pdf (setup.py): finished with status 'done'\n",
      "  Created wheel for img2pdf: filename=img2pdf-0.4.0-py3-none-any.whl size=40505 sha256=a38333436c1e974f86e1b81afc415b7e268143cac1b834dba3c1a7ed137b0b11\n",
      "  Stored in directory: c:\\users\\13670\\appdata\\local\\pip\\cache\\wheels\\be\\6d\\b8\\5a972ac956ce043540f1732b5bb22a4fd98e8f34be7aba1f1b\n",
      "Successfully built img2pdf\n",
      "Installing collected packages: pikepdf, humanfriendly, coloredlogs, reportlab, img2pdf, ocrmypdf\n",
      "Successfully installed coloredlogs-14.0 humanfriendly-8.2 img2pdf-0.4.0 ocrmypdf-11.3.1 pikepdf-1.19.3 reportlab-3.5.54\n",
      "Note: you may need to restart the kernel to use updated packages.\n"
     ]
    }
   ],
   "source": [
    "pip install ocrmypdf"
   ]
  },
  {
   "cell_type": "code",
   "execution_count": 34,
   "metadata": {
    "collapsed": true
   },
   "outputs": [
    {
     "ename": "MissingDependencyError",
     "evalue": "\n        ---------------------------------------------------------------------\n        This error normally occurs when ocrmypdf can't find the Leptonica\n        library, which is usually installed with Tesseract OCR. It could be that\n        Tesseract is not installed properly, we can't find the installation\n        on your system PATH environment variable.\n\n        The library we are looking for is usually called:\n            liblept-5.dll   (Windows)\n            liblept*.dylib  (macOS)\n            liblept*.so     (Linux/BSD)\n\n        Please review our installation procedures to find a solution:\n            https://ocrmypdf.readthedocs.io/en/latest/installation.html\n        ---------------------------------------------------------------------\n        ",
     "output_type": "error",
     "traceback": [
      "\u001b[1;31m---------------------------------------------------------------------------\u001b[0m",
      "\u001b[1;31mMissingDependencyError\u001b[0m                    Traceback (most recent call last)",
      "\u001b[1;32m<ipython-input-34-a81f3474d7ad>\u001b[0m in \u001b[0;36m<module>\u001b[1;34m\u001b[0m\n\u001b[1;32m----> 1\u001b[1;33m \u001b[1;32mimport\u001b[0m \u001b[0mocrmypdf\u001b[0m\u001b[1;33m\u001b[0m\u001b[1;33m\u001b[0m\u001b[0m\n\u001b[0m",
      "\u001b[1;32m~\\Anaconda3\\lib\\site-packages\\ocrmypdf\\__init__.py\u001b[0m in \u001b[0;36m<module>\u001b[1;34m\u001b[0m\n\u001b[0;32m      8\u001b[0m \u001b[1;32mfrom\u001b[0m \u001b[0mpluggy\u001b[0m \u001b[1;32mimport\u001b[0m \u001b[0mHookimplMarker\u001b[0m \u001b[1;32mas\u001b[0m \u001b[0m_HookimplMarker\u001b[0m\u001b[1;33m\u001b[0m\u001b[1;33m\u001b[0m\u001b[0m\n\u001b[0;32m      9\u001b[0m \u001b[1;33m\u001b[0m\u001b[0m\n\u001b[1;32m---> 10\u001b[1;33m \u001b[1;32mfrom\u001b[0m \u001b[0mocrmypdf\u001b[0m \u001b[1;32mimport\u001b[0m \u001b[0mhelpers\u001b[0m\u001b[1;33m,\u001b[0m \u001b[0mhocrtransform\u001b[0m\u001b[1;33m,\u001b[0m \u001b[0mleptonica\u001b[0m\u001b[1;33m,\u001b[0m \u001b[0mpdfa\u001b[0m\u001b[1;33m,\u001b[0m \u001b[0mpdfinfo\u001b[0m\u001b[1;33m\u001b[0m\u001b[1;33m\u001b[0m\u001b[0m\n\u001b[0m\u001b[0;32m     11\u001b[0m \u001b[1;32mfrom\u001b[0m \u001b[0mocrmypdf\u001b[0m\u001b[1;33m.\u001b[0m\u001b[0m_version\u001b[0m \u001b[1;32mimport\u001b[0m \u001b[0mPROGRAM_NAME\u001b[0m\u001b[1;33m,\u001b[0m \u001b[0m__version__\u001b[0m\u001b[1;33m\u001b[0m\u001b[1;33m\u001b[0m\u001b[0m\n\u001b[0;32m     12\u001b[0m \u001b[1;32mfrom\u001b[0m \u001b[0mocrmypdf\u001b[0m\u001b[1;33m.\u001b[0m\u001b[0mapi\u001b[0m \u001b[1;32mimport\u001b[0m \u001b[0mVerbosity\u001b[0m\u001b[1;33m,\u001b[0m \u001b[0mconfigure_logging\u001b[0m\u001b[1;33m,\u001b[0m \u001b[0mocr\u001b[0m\u001b[1;33m\u001b[0m\u001b[1;33m\u001b[0m\u001b[0m\n",
      "\u001b[1;32m~\\Anaconda3\\lib\\site-packages\\ocrmypdf\\leptonica.py\u001b[0m in \u001b[0;36m<module>\u001b[1;34m\u001b[0m\n\u001b[0;32m     57\u001b[0m             \u001b[0mhttps\u001b[0m\u001b[1;33m:\u001b[0m\u001b[1;33m//\u001b[0m\u001b[0mocrmypdf\u001b[0m\u001b[1;33m.\u001b[0m\u001b[0mreadthedocs\u001b[0m\u001b[1;33m.\u001b[0m\u001b[0mio\u001b[0m\u001b[1;33m/\u001b[0m\u001b[0men\u001b[0m\u001b[1;33m/\u001b[0m\u001b[0mlatest\u001b[0m\u001b[1;33m/\u001b[0m\u001b[0minstallation\u001b[0m\u001b[1;33m.\u001b[0m\u001b[0mhtml\u001b[0m\u001b[1;33m\u001b[0m\u001b[1;33m\u001b[0m\u001b[0m\n\u001b[0;32m     58\u001b[0m         \u001b[1;33m-\u001b[0m\u001b[1;33m-\u001b[0m\u001b[1;33m-\u001b[0m\u001b[1;33m-\u001b[0m\u001b[1;33m-\u001b[0m\u001b[1;33m-\u001b[0m\u001b[1;33m-\u001b[0m\u001b[1;33m-\u001b[0m\u001b[1;33m-\u001b[0m\u001b[1;33m-\u001b[0m\u001b[1;33m-\u001b[0m\u001b[1;33m-\u001b[0m\u001b[1;33m-\u001b[0m\u001b[1;33m-\u001b[0m\u001b[1;33m-\u001b[0m\u001b[1;33m-\u001b[0m\u001b[1;33m-\u001b[0m\u001b[1;33m-\u001b[0m\u001b[1;33m-\u001b[0m\u001b[1;33m-\u001b[0m\u001b[1;33m-\u001b[0m\u001b[1;33m-\u001b[0m\u001b[1;33m-\u001b[0m\u001b[1;33m-\u001b[0m\u001b[1;33m-\u001b[0m\u001b[1;33m-\u001b[0m\u001b[1;33m-\u001b[0m\u001b[1;33m-\u001b[0m\u001b[1;33m-\u001b[0m\u001b[1;33m-\u001b[0m\u001b[1;33m-\u001b[0m\u001b[1;33m-\u001b[0m\u001b[1;33m-\u001b[0m\u001b[1;33m-\u001b[0m\u001b[1;33m-\u001b[0m\u001b[1;33m-\u001b[0m\u001b[1;33m-\u001b[0m\u001b[1;33m-\u001b[0m\u001b[1;33m-\u001b[0m\u001b[1;33m-\u001b[0m\u001b[1;33m-\u001b[0m\u001b[1;33m-\u001b[0m\u001b[1;33m-\u001b[0m\u001b[1;33m-\u001b[0m\u001b[1;33m-\u001b[0m\u001b[1;33m-\u001b[0m\u001b[1;33m-\u001b[0m\u001b[1;33m-\u001b[0m\u001b[1;33m-\u001b[0m\u001b[1;33m-\u001b[0m\u001b[1;33m-\u001b[0m\u001b[1;33m-\u001b[0m\u001b[1;33m-\u001b[0m\u001b[1;33m-\u001b[0m\u001b[1;33m-\u001b[0m\u001b[1;33m-\u001b[0m\u001b[1;33m-\u001b[0m\u001b[1;33m-\u001b[0m\u001b[1;33m-\u001b[0m\u001b[1;33m-\u001b[0m\u001b[1;33m-\u001b[0m\u001b[1;33m-\u001b[0m\u001b[1;33m-\u001b[0m\u001b[1;33m-\u001b[0m\u001b[1;33m-\u001b[0m\u001b[1;33m-\u001b[0m\u001b[1;33m-\u001b[0m\u001b[1;33m-\u001b[0m\u001b[1;33m-\u001b[0m\u001b[1;33m\u001b[0m\u001b[1;33m\u001b[0m\u001b[0m\n\u001b[1;32m---> 59\u001b[1;33m         \"\"\"\n\u001b[0m\u001b[0;32m     60\u001b[0m     )\n\u001b[0;32m     61\u001b[0m \u001b[1;32mif\u001b[0m \u001b[0mos\u001b[0m\u001b[1;33m.\u001b[0m\u001b[0mname\u001b[0m \u001b[1;33m==\u001b[0m \u001b[1;34m'nt'\u001b[0m\u001b[1;33m:\u001b[0m\u001b[1;33m\u001b[0m\u001b[1;33m\u001b[0m\u001b[0m\n",
      "\u001b[1;31mMissingDependencyError\u001b[0m: \n        ---------------------------------------------------------------------\n        This error normally occurs when ocrmypdf can't find the Leptonica\n        library, which is usually installed with Tesseract OCR. It could be that\n        Tesseract is not installed properly, we can't find the installation\n        on your system PATH environment variable.\n\n        The library we are looking for is usually called:\n            liblept-5.dll   (Windows)\n            liblept*.dylib  (macOS)\n            liblept*.so     (Linux/BSD)\n\n        Please review our installation procedures to find a solution:\n            https://ocrmypdf.readthedocs.io/en/latest/installation.html\n        ---------------------------------------------------------------------\n        "
     ]
    }
   ],
   "source": [
    "import ocrmypdf"
   ]
  },
  {
   "cell_type": "code",
   "execution_count": 16,
   "metadata": {},
   "outputs": [],
   "source": [
    "import pandas as pd\n",
    "df1 = pd.DataFrame({'a':[3,1],'b':[4,3]})  # 随机生成一个DataFrame 数据\n",
    "df2 = df1.copy()  "
   ]
  },
  {
   "cell_type": "code",
   "execution_count": 17,
   "metadata": {},
   "outputs": [
    {
     "data": {
      "text/html": [
       "<div>\n",
       "<style scoped>\n",
       "    .dataframe tbody tr th:only-of-type {\n",
       "        vertical-align: middle;\n",
       "    }\n",
       "\n",
       "    .dataframe tbody tr th {\n",
       "        vertical-align: top;\n",
       "    }\n",
       "\n",
       "    .dataframe thead th {\n",
       "        text-align: right;\n",
       "    }\n",
       "</style>\n",
       "<table border=\"1\" class=\"dataframe\">\n",
       "  <thead>\n",
       "    <tr style=\"text-align: right;\">\n",
       "      <th></th>\n",
       "      <th>a</th>\n",
       "      <th>b</th>\n",
       "    </tr>\n",
       "  </thead>\n",
       "  <tbody>\n",
       "    <tr>\n",
       "      <th>0</th>\n",
       "      <td>3</td>\n",
       "      <td>4</td>\n",
       "    </tr>\n",
       "    <tr>\n",
       "      <th>1</th>\n",
       "      <td>1</td>\n",
       "      <td>3</td>\n",
       "    </tr>\n",
       "  </tbody>\n",
       "</table>\n",
       "</div>"
      ],
      "text/plain": [
       "   a  b\n",
       "0  3  4\n",
       "1  1  3"
      ]
     },
     "execution_count": 17,
     "metadata": {},
     "output_type": "execute_result"
    }
   ],
   "source": [
    "df1"
   ]
  },
  {
   "cell_type": "code",
   "execution_count": 18,
   "metadata": {},
   "outputs": [],
   "source": [
    "with pd.ExcelWriter('output.xlsx') as writer:  \n",
    "    for i in range(1,4):\n",
    "        name = 'Sheet_name_'+str(i)\n",
    "        df1.to_excel(writer, sheet_name= name)\n",
    "#       df2.to_excel(writer, sheet_name='Sheet_name_2')\n",
    "writer.save()\n",
    "writer.close()"
   ]
  }
 ],
 "metadata": {
  "kernelspec": {
   "display_name": "Python 3",
   "language": "python",
   "name": "python3"
  },
  "language_info": {
   "codemirror_mode": {
    "name": "ipython",
    "version": 3
   },
   "file_extension": ".py",
   "mimetype": "text/x-python",
   "name": "python",
   "nbconvert_exporter": "python",
   "pygments_lexer": "ipython3",
   "version": "3.7.6"
  }
 },
 "nbformat": 4,
 "nbformat_minor": 4
}
