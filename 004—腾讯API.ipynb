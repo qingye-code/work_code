{
 "cells": [
  {
   "cell_type": "code",
   "execution_count": 6,
   "metadata": {},
   "outputs": [],
   "source": [
    "from PIL import Image\n",
    "import pytesseract\n",
    "##导入通用包\n",
    "import numpy as np\n",
    "import pandas as pd\n",
    "import os\n",
    "import json\n",
    "import re\n",
    "import base64\n",
    "import xlwings as xw\n",
    "##导入腾讯AI api\n",
    "from tencentcloud.common import credential\n",
    "from tencentcloud.common.profile.client_profile import ClientProfile\n",
    "from tencentcloud.common.profile.http_profile import HttpProfile\n",
    "from tencentcloud.common.exception.tencent_cloud_sdk_exception import TencentCloudSDKException\n",
    "from tencentcloud.ocr.v20181119 import ocr_client, models"
   ]
  },
  {
   "cell_type": "code",
   "execution_count": 2,
   "metadata": {
    "collapsed": true
   },
   "outputs": [
    {
     "name": "stdout",
     "output_type": "stream",
     "text": [
      "Collecting pytesseract\n",
      "  Downloading pytesseract-0.3.6.tar.gz (13 kB)\n",
      "Requirement already satisfied: Pillow in c:\\users\\13670\\anaconda3\\lib\\site-packages (from pytesseract) (7.0.0)\n",
      "Building wheels for collected packages: pytesseract\n",
      "  Building wheel for pytesseract (setup.py): started\n",
      "  Building wheel for pytesseract (setup.py): finished with status 'done'\n",
      "  Created wheel for pytesseract: filename=pytesseract-0.3.6-py2.py3-none-any.whl size=13633 sha256=3ee591223df0204e18149ad2cd5f8aca99f008fa8dc53ea31b04bedab7781fa4\n",
      "  Stored in directory: c:\\users\\13670\\appdata\\local\\pip\\cache\\wheels\\f1\\2f\\a5\\574c57fb22cfcf24f315c8feda132fd0463a9b07ef78394d07\n",
      "Successfully built pytesseract\n",
      "Installing collected packages: pytesseract\n",
      "Successfully installed pytesseract-0.3.6\n",
      "Note: you may need to restart the kernel to use updated packages.\n"
     ]
    }
   ],
   "source": [
    "pip install pytesseract"
   ]
  },
  {
   "cell_type": "code",
   "execution_count": 5,
   "metadata": {
    "collapsed": true
   },
   "outputs": [
    {
     "name": "stdout",
     "output_type": "stream",
     "text": [
      "Collecting tencentcloud-sdk-python\n",
      "  Downloading tencentcloud_sdk_python-3.0.280-py2.py3-none-any.whl (2.2 MB)\n",
      "Installing collected packages: tencentcloud-sdk-python\n",
      "Successfully installed tencentcloud-sdk-python-3.0.280\n",
      "Note: you may need to restart the kernel to use updated packages.\n"
     ]
    }
   ],
   "source": [
    "pip install tencentcloud-sdk-python"
   ]
  },
  {
   "cell_type": "code",
   "execution_count": 10,
   "metadata": {},
   "outputs": [
    {
     "ename": "FileNotFoundError",
     "evalue": "[Errno 2] No such file or directory: '4.jpg'",
     "output_type": "error",
     "traceback": [
      "\u001b[1;31m---------------------------------------------------------------------------\u001b[0m",
      "\u001b[1;31mFileNotFoundError\u001b[0m                         Traceback (most recent call last)",
      "\u001b[1;32m<ipython-input-10-e177f496ffc7>\u001b[0m in \u001b[0;36m<module>\u001b[1;34m\u001b[0m\n\u001b[0;32m     66\u001b[0m \u001b[0mpictures\u001b[0m \u001b[1;33m=\u001b[0m \u001b[0mos\u001b[0m\u001b[1;33m.\u001b[0m\u001b[0mlistdir\u001b[0m\u001b[1;33m(\u001b[0m\u001b[1;34mr\"C:\\Users\\13670\\Desktop\\3\"\u001b[0m\u001b[1;33m)\u001b[0m\u001b[1;33m\u001b[0m\u001b[1;33m\u001b[0m\u001b[0m\n\u001b[0;32m     67\u001b[0m \u001b[1;32mfor\u001b[0m \u001b[0mpic\u001b[0m \u001b[1;32min\u001b[0m \u001b[0mpictures\u001b[0m\u001b[1;33m:\u001b[0m\u001b[1;33m\u001b[0m\u001b[1;33m\u001b[0m\u001b[0m\n\u001b[1;32m---> 68\u001b[1;33m     \u001b[0mexcelFromPictures\u001b[0m\u001b[1;33m(\u001b[0m\u001b[0mpic\u001b[0m\u001b[1;33m,\u001b[0m\u001b[1;34m\"AKIDLyOcdSeZjcMtTotoa8PozyiDUVTAkKo2\"\u001b[0m\u001b[1;33m,\u001b[0m\u001b[1;34m\"70ynNK0rTow73jkUO3Rq55psgfNo1W0E\"\u001b[0m\u001b[1;33m)\u001b[0m\u001b[1;33m\u001b[0m\u001b[1;33m\u001b[0m\u001b[0m\n\u001b[0m\u001b[0;32m     69\u001b[0m     \u001b[0mprint\u001b[0m\u001b[1;33m(\u001b[0m\u001b[1;34m\"已经完成\"\u001b[0m \u001b[1;33m+\u001b[0m \u001b[0mpic\u001b[0m \u001b[1;33m+\u001b[0m \u001b[1;34m\"的提取.\"\u001b[0m\u001b[1;33m)\u001b[0m\u001b[1;33m\u001b[0m\u001b[1;33m\u001b[0m\u001b[0m\n",
      "\u001b[1;32m<ipython-input-10-e177f496ffc7>\u001b[0m in \u001b[0;36mexcelFromPictures\u001b[1;34m(picture, SecretId, SecretKey)\u001b[0m\n\u001b[0;32m      2\u001b[0m \u001b[1;32mdef\u001b[0m \u001b[0mexcelFromPictures\u001b[0m\u001b[1;33m(\u001b[0m\u001b[0mpicture\u001b[0m\u001b[1;33m,\u001b[0m\u001b[0mSecretId\u001b[0m\u001b[1;33m,\u001b[0m\u001b[0mSecretKey\u001b[0m\u001b[1;33m)\u001b[0m\u001b[1;33m:\u001b[0m\u001b[1;33m\u001b[0m\u001b[1;33m\u001b[0m\u001b[0m\n\u001b[0;32m      3\u001b[0m     \u001b[1;32mtry\u001b[0m\u001b[1;33m:\u001b[0m\u001b[1;33m\u001b[0m\u001b[1;33m\u001b[0m\u001b[0m\n\u001b[1;32m----> 4\u001b[1;33m         \u001b[1;32mwith\u001b[0m \u001b[0mopen\u001b[0m\u001b[1;33m(\u001b[0m\u001b[0mpicture\u001b[0m\u001b[1;33m,\u001b[0m\u001b[1;34m\"rb\"\u001b[0m\u001b[1;33m)\u001b[0m \u001b[1;32mas\u001b[0m \u001b[0mf\u001b[0m\u001b[1;33m:\u001b[0m\u001b[1;33m\u001b[0m\u001b[1;33m\u001b[0m\u001b[0m\n\u001b[0m\u001b[0;32m      5\u001b[0m                 \u001b[0mimg_data\u001b[0m \u001b[1;33m=\u001b[0m \u001b[0mf\u001b[0m\u001b[1;33m.\u001b[0m\u001b[0mread\u001b[0m\u001b[1;33m(\u001b[0m\u001b[1;33m)\u001b[0m\u001b[1;33m\u001b[0m\u001b[1;33m\u001b[0m\u001b[0m\n\u001b[0;32m      6\u001b[0m         \u001b[0mimg_base64\u001b[0m \u001b[1;33m=\u001b[0m \u001b[0mbase64\u001b[0m\u001b[1;33m.\u001b[0m\u001b[0mb64encode\u001b[0m\u001b[1;33m(\u001b[0m\u001b[0mimg_data\u001b[0m\u001b[1;33m)\u001b[0m\u001b[1;33m\u001b[0m\u001b[1;33m\u001b[0m\u001b[0m\n",
      "\u001b[1;31mFileNotFoundError\u001b[0m: [Errno 2] No such file or directory: '4.jpg'"
     ]
    }
   ],
   "source": [
    "#定义函数\n",
    "def excelFromPictures(picture,SecretId,SecretKey):\n",
    "    try:\n",
    "        with open(picture,\"rb\") as f:\n",
    "                img_data = f.read()\n",
    "        img_base64 = base64.b64encode(img_data)\n",
    "        cred = credential.Credential(SecretId, SecretKey)  #ID和Secret从腾讯云申请\n",
    "        httpProfile = HttpProfile()\n",
    "        httpProfile.endpoint = \"ocr.tencentcloudapi.com\"\n",
    " \n",
    "        clientProfile = ClientProfile()\n",
    "        clientProfile.httpProfile = httpProfile\n",
    "        client = ocr_client.OcrClient(cred, \"ap-shanghai\", clientProfile)\n",
    " \n",
    "        req = models.TableOCRRequest()\n",
    "        params = '{\"ImageBase64\":\"' + str(img_base64, 'utf-8') + '\"}'\n",
    "        req.from_json_string(params)\n",
    "        resp = client.TableOCR(req)\n",
    "        #     print(resp.to_json_string())\n",
    " \n",
    "    except TencentCloudSDKException as err:\n",
    "        print(err)\n",
    " \n",
    "    ##提取识别出的数据，并且生成json\n",
    "    result1 = json.loads(resp.to_json_string())\n",
    " \n",
    "    rowIndex = []\n",
    "    colIndex = []\n",
    "    content = []\n",
    " \n",
    "    for item in result1['TextDetections']:\n",
    "        rowIndex.append(item['RowTl'])\n",
    "        colIndex.append(item['ColTl'])\n",
    "        content.append(item['Text'])\n",
    " \n",
    "    ##导出Excel\n",
    "    ##ExcelWriter方案\n",
    "    rowIndex = pd.Series(rowIndex)\n",
    "    colIndex = pd.Series(colIndex)\n",
    " \n",
    "    index = rowIndex.unique()\n",
    "    index.sort()\n",
    " \n",
    "    columns = colIndex.unique()\n",
    "    columns.sort()\n",
    " \n",
    "    data = pd.DataFrame(index = index, columns = columns)\n",
    "    for i in range(len(rowIndex)):\n",
    "        data.loc[rowIndex[i],colIndex[i]] = re.sub(\" \",\"\",content[i])\n",
    " \n",
    "    writer = pd.ExcelWriter(\"../tables/\" + re.match(\".*\\.\",f.name).group() + \"xlsx\", engine='xlsxwriter')\n",
    "    data.to_excel(writer,sheet_name = 'Sheet1', index=False,header = False)\n",
    "    writer.save()\n",
    " \n",
    "    #xlwings方案  \n",
    "    # wb = xw.Book()\n",
    "    # sht = wb.sheets('Sheet1')\n",
    "    # for i in range(len(rowIndex)):\n",
    "    #     sht[rowIndex[i],colIndex[i]].value = re.sub(\" \",'',content[i])\n",
    "    # wb.save(\"../tables/\" + re.match(\".*\\.\",f.name).group() + \"xlsx\")\n",
    "    # wb.close()\n",
    "    \n",
    "\n",
    " \n",
    "\n",
    "pictures = os.listdir(r\"C:\\Users\\13670\\Desktop\\3\")\n",
    "for pic in pictures:\n",
    "    excelFromPictures(pic,\"AKIDLyOcdSeZjcMtTotoa8PozyiDUVTAkKo2\",\"70ynNK0rTow73jkUO3Rq55psgfNo1W0E\")\n",
    "    print(\"已经完成\" + pic + \"的提取.\")"
   ]
  },
  {
   "cell_type": "code",
   "execution_count": null,
   "metadata": {},
   "outputs": [],
   "source": []
  },
  {
   "cell_type": "code",
   "execution_count": null,
   "metadata": {},
   "outputs": [],
   "source": [
    "if not ('tables') in os.listdir():\n",
    "    os.mkdir(\"./tables/\")\n",
    " \n",
    "os.chdir(\"./pictures/\")\n",
    "pictures = os.listdir()\n",
    "for pic in pictures:\n",
    "    excelFromPictures(pic,\"AKIDKRJwJWBhhcXDfreUv618eu3SGrEMFCYj\",\"rbCXhbKtGn57tDI7k8fwxjHZbNyMUP7i\")\n",
    "    print(\"已经完成\" + pic + \"的提取.\")"
   ]
  }
 ],
 "metadata": {
  "kernelspec": {
   "display_name": "Python 3",
   "language": "python",
   "name": "python3"
  },
  "language_info": {
   "codemirror_mode": {
    "name": "ipython",
    "version": 3
   },
   "file_extension": ".py",
   "mimetype": "text/x-python",
   "name": "python",
   "nbconvert_exporter": "python",
   "pygments_lexer": "ipython3",
   "version": "3.7.6"
  }
 },
 "nbformat": 4,
 "nbformat_minor": 4
}
