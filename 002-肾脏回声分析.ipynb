{
 "cells": [
  {
   "cell_type": "code",
   "execution_count": 1,
   "metadata": {},
   "outputs": [],
   "source": [
    "import pymysql\n",
    "import pandas as pd\n",
    "import numpy as np"
   ]
  },
  {
   "cell_type": "code",
   "execution_count": null,
   "metadata": {},
   "outputs": [],
   "source": [
    "conn=pymysql.connect(host='mysql-backup.shanzhen.me',\n",
    "                     user='readonly_medicine_liuqq',\n",
    "                     password=\"r3g1^QWgV8GeYJw4\",\n",
    "                     database='asgard_dataplatform',\n",
    "                     port= 3001,\n",
    "                     charset='utf8')"
   ]
  },
  {
   "cell_type": "code",
   "execution_count": null,
   "metadata": {},
   "outputs": [],
   "source": [
    "dict = pd.read_excel(r\"C:\\Users\\13670\\Desktop\\待完成\\项目4 回声tag分析\\dict2_conserv.xlsx\")\n",
    "id_list = dict.loc[:,'id'].values.tolist()"
   ]
  },
  {
   "cell_type": "code",
   "execution_count": null,
   "metadata": {},
   "outputs": [],
   "source": [
    "tag_df = pd.DataFrame(columns=['ORDER_CODE', 'TAG_ID'])"
   ]
  },
  {
   "cell_type": "code",
   "execution_count": null,
   "metadata": {},
   "outputs": [],
   "source": [
    "for items in id_list:\n",
    "    id_str = \"'\"+ items + \"'\"\n",
    "    tagsql = 'SELECT ORDER_CODE,TAG_ID \\\n",
    "    FROM T66_APOLLO_ANALYSIS_TAG \\\n",
    "    WHERE SOURCE_TYPE = 2 \\\n",
    "    AND SZ_STATUS = 1 AND TAG_ID IN ('+id_str+') '\n",
    "    tag = pd.read_sql(tagsql,con=conn)\n",
    "    tag_df = pd.concat([tag_df,tag],axis = 0) \n",
    "    \n",
    "tag_df.to_pickle(r\"C:\\Users\\13670\\Desktop\\待完成\\项目4 回声tag分析\\4.pkl\")"
   ]
  },
  {
   "cell_type": "code",
   "execution_count": 4,
   "metadata": {},
   "outputs": [],
   "source": [
    "renaltag = pd.read_pickle(r\"C:\\Users\\13670\\Desktop\\待完成\\项目4 回声tag分析\\肾脏\\tagall.pkl\")"
   ]
  },
  {
   "cell_type": "code",
   "execution_count": 30,
   "metadata": {
    "collapsed": true
   },
   "outputs": [
    {
     "data": {
      "text/html": [
       "<div>\n",
       "<style scoped>\n",
       "    .dataframe tbody tr th:only-of-type {\n",
       "        vertical-align: middle;\n",
       "    }\n",
       "\n",
       "    .dataframe tbody tr th {\n",
       "        vertical-align: top;\n",
       "    }\n",
       "\n",
       "    .dataframe thead th {\n",
       "        text-align: right;\n",
       "    }\n",
       "</style>\n",
       "<table border=\"1\" class=\"dataframe\">\n",
       "  <thead>\n",
       "    <tr style=\"text-align: right;\">\n",
       "      <th></th>\n",
       "      <th>ORDER_CODE</th>\n",
       "      <th>TAG_ID</th>\n",
       "      <th>value</th>\n",
       "    </tr>\n",
       "  </thead>\n",
       "  <tbody>\n",
       "    <tr>\n",
       "      <th>0</th>\n",
       "      <td>068138154589</td>\n",
       "      <td>无回声</td>\n",
       "      <td>1</td>\n",
       "    </tr>\n",
       "    <tr>\n",
       "      <th>1</th>\n",
       "      <td>348099327682</td>\n",
       "      <td>无回声</td>\n",
       "      <td>1</td>\n",
       "    </tr>\n",
       "    <tr>\n",
       "      <th>2</th>\n",
       "      <td>103794055941</td>\n",
       "      <td>无回声</td>\n",
       "      <td>1</td>\n",
       "    </tr>\n",
       "    <tr>\n",
       "      <th>3</th>\n",
       "      <td>782720070666</td>\n",
       "      <td>无回声</td>\n",
       "      <td>1</td>\n",
       "    </tr>\n",
       "    <tr>\n",
       "      <th>4</th>\n",
       "      <td>570550235175</td>\n",
       "      <td>无回声</td>\n",
       "      <td>1</td>\n",
       "    </tr>\n",
       "    <tr>\n",
       "      <th>...</th>\n",
       "      <td>...</td>\n",
       "      <td>...</td>\n",
       "      <td>...</td>\n",
       "    </tr>\n",
       "    <tr>\n",
       "      <th>196</th>\n",
       "      <td>8kg994h55usaiam</td>\n",
       "      <td>值</td>\n",
       "      <td>1</td>\n",
       "    </tr>\n",
       "    <tr>\n",
       "      <th>197</th>\n",
       "      <td>8kg9evxglmnhkee</td>\n",
       "      <td>值</td>\n",
       "      <td>1</td>\n",
       "    </tr>\n",
       "    <tr>\n",
       "      <th>198</th>\n",
       "      <td>8kganyvzeonrvxn</td>\n",
       "      <td>值</td>\n",
       "      <td>1</td>\n",
       "    </tr>\n",
       "    <tr>\n",
       "      <th>199</th>\n",
       "      <td>8kgaxcfpxcc69bk</td>\n",
       "      <td>值</td>\n",
       "      <td>1</td>\n",
       "    </tr>\n",
       "    <tr>\n",
       "      <th>200</th>\n",
       "      <td>8kgaxqxx5mfbnxx</td>\n",
       "      <td>值</td>\n",
       "      <td>1</td>\n",
       "    </tr>\n",
       "  </tbody>\n",
       "</table>\n",
       "<p>791361 rows × 3 columns</p>\n",
       "</div>"
      ],
      "text/plain": [
       "          ORDER_CODE TAG_ID  value\n",
       "0       068138154589    无回声      1\n",
       "1       348099327682    无回声      1\n",
       "2       103794055941    无回声      1\n",
       "3       782720070666    无回声      1\n",
       "4       570550235175    无回声      1\n",
       "..               ...    ...    ...\n",
       "196  8kg994h55usaiam      值      1\n",
       "197  8kg9evxglmnhkee      值      1\n",
       "198  8kganyvzeonrvxn      值      1\n",
       "199  8kgaxcfpxcc69bk      值      1\n",
       "200  8kgaxqxx5mfbnxx      值      1\n",
       "\n",
       "[791361 rows x 3 columns]"
      ]
     },
     "execution_count": 30,
     "metadata": {},
     "output_type": "execute_result"
    }
   ],
   "source": [
    "renaltag"
   ]
  },
  {
   "cell_type": "code",
   "execution_count": 96,
   "metadata": {},
   "outputs": [],
   "source": [
    "renal = pd.read_excel(r\"C:\\Users\\13670\\Desktop\\待完成\\项目4 回声tag分析\\肾脏\\20201016\\ranal_dict.xlsx\")"
   ]
  },
  {
   "cell_type": "code",
   "execution_count": 95,
   "metadata": {},
   "outputs": [],
   "source": [
    "dict1 = renal.set_index('tag_id').to_dict()['abbr']\n",
    "dict2 = renal.set_index('tag_id').to_dict()[\"loc\"]"
   ]
  },
  {
   "cell_type": "code",
   "execution_count": 29,
   "metadata": {},
   "outputs": [
    {
     "name": "stderr",
     "output_type": "stream",
     "text": [
      "C:\\Users\\13670\\Anaconda3\\lib\\site-packages\\ipykernel_launcher.py:1: SettingWithCopyWarning: \n",
      "A value is trying to be set on a copy of a slice from a DataFrame.\n",
      "Try using .loc[row_indexer,col_indexer] = value instead\n",
      "\n",
      "See the caveats in the documentation: https://pandas.pydata.org/pandas-docs/stable/user_guide/indexing.html#returning-a-view-versus-a-copy\n",
      "  \"\"\"Entry point for launching an IPython kernel.\n",
      "C:\\Users\\13670\\Anaconda3\\lib\\site-packages\\pandas\\core\\frame.py:4384: SettingWithCopyWarning: \n",
      "A value is trying to be set on a copy of a slice from a DataFrame\n",
      "\n",
      "See the caveats in the documentation: https://pandas.pydata.org/pandas-docs/stable/user_guide/indexing.html#returning-a-view-versus-a-copy\n",
      "  method=method,\n"
     ]
    }
   ],
   "source": [
    "renaltag['value']=1\n",
    "renaltag.replace(dict,inplace=True)"
   ]
  },
  {
   "cell_type": "code",
   "execution_count": 97,
   "metadata": {},
   "outputs": [],
   "source": [
    "desclist = renal.loc[renal['logic']== \"A\",'abbr'].tolist()\n",
    "summlist = renal.loc[renal['logic']==\"a\",'abbr'].tolist()"
   ]
  },
  {
   "cell_type": "code",
   "execution_count": 102,
   "metadata": {},
   "outputs": [
    {
     "data": {
      "text/plain": [
       "0     结晶\n",
       "0     结石\n",
       "0     囊肿\n",
       "0    错构瘤\n",
       "0    钙乳症\n",
       "0     占位\n",
       "0    钙化灶\n",
       "0     结节\n",
       "Name: TAG_ID, dtype: object"
      ]
     },
     "execution_count": 102,
     "metadata": {},
     "output_type": "execute_result"
    }
   ],
   "source": [
    "dfsumm.TAG_ID.drop_duplicates()"
   ]
  },
  {
   "cell_type": "code",
   "execution_count": 103,
   "metadata": {},
   "outputs": [],
   "source": [
    "renaltag = renaltag.drop_duplicates(subset = [\"ORDER_CODE\",\"TAG_ID\"])"
   ]
  },
  {
   "cell_type": "code",
   "execution_count": 104,
   "metadata": {},
   "outputs": [],
   "source": [
    "dfdesc = renaltag.loc[renaltag['TAG_ID'].isin(desclist)]\n",
    "dfsumm = renaltag.loc[renaltag['TAG_ID'].isin(summlist)]"
   ]
  },
  {
   "cell_type": "code",
   "execution_count": 105,
   "metadata": {},
   "outputs": [],
   "source": [
    "ordercode=[]\n",
    "desclist=[]\n",
    "summlist=[]\n",
    "for i in dfsumm['ORDER_CODE'].drop_duplicates():\n",
    "    desclistsub=dfdesc.loc[dfdesc['ORDER_CODE']==i,'TAG_ID'].tolist()\n",
    "    summlistsub=dfsumm.loc[dfsumm['ORDER_CODE']==i,'TAG_ID'].tolist()\n",
    "    ordercode.append(i)\n",
    "    summlist.append(summlistsub)\n",
    "    desclist.append(desclistsub)\n",
    "    \n",
    "renaltotal = pd.DataFrame({'ordercode':ordercode,'summlist':summlist,'desclist':desclist}) "
   ]
  },
  {
   "cell_type": "code",
   "execution_count": 108,
   "metadata": {},
   "outputs": [],
   "source": [
    "renaltotal.to_excel(r\"C:\\Users\\13670\\Desktop\\待完成\\项目4 回声tag分析\\肾脏\\20201016\\renaltotal.xlsx\")"
   ]
  },
  {
   "cell_type": "code",
   "execution_count": null,
   "metadata": {},
   "outputs": [],
   "source": [
    "df = renaltotal.applymap(lambda x: tuple(x))"
   ]
  },
  {
   "cell_type": "code",
   "execution_count": 106,
   "metadata": {},
   "outputs": [],
   "source": [
    "renaltotal_tuple = pd.DataFrame(df.groupby(['summlist','desclist'])['ordercode'].count())"
   ]
  },
  {
   "cell_type": "code",
   "execution_count": 107,
   "metadata": {},
   "outputs": [],
   "source": [
    "renaltotal_tuple.to_excel(r\"C:\\Users\\13670\\Desktop\\待完成\\项目4 回声tag分析\\肾脏\\20201016\\renal_tuple_.xlsx\")"
   ]
  },
  {
   "cell_type": "code",
   "execution_count": 61,
   "metadata": {},
   "outputs": [],
   "source": [
    "solid = pd.read_excel(r\"C:\\Users\\13670\\Desktop\\待完成\\项目4 回声tag分析\\肾脏\\20201016\\solid.xlsx\")"
   ]
  },
  {
   "cell_type": "code",
   "execution_count": 62,
   "metadata": {
    "collapsed": true
   },
   "outputs": [
    {
     "data": {
      "text/html": [
       "<div>\n",
       "<style scoped>\n",
       "    .dataframe tbody tr th:only-of-type {\n",
       "        vertical-align: middle;\n",
       "    }\n",
       "\n",
       "    .dataframe tbody tr th {\n",
       "        vertical-align: top;\n",
       "    }\n",
       "\n",
       "    .dataframe thead th {\n",
       "        text-align: right;\n",
       "    }\n",
       "</style>\n",
       "<table border=\"1\" class=\"dataframe\">\n",
       "  <thead>\n",
       "    <tr style=\"text-align: right;\">\n",
       "      <th></th>\n",
       "      <th>summ</th>\n",
       "      <th>desc</th>\n",
       "      <th>solid</th>\n",
       "    </tr>\n",
       "  </thead>\n",
       "  <tbody>\n",
       "    <tr>\n",
       "      <th>0</th>\n",
       "      <td>钙乳症</td>\n",
       "      <td>高回声</td>\n",
       "      <td>1</td>\n",
       "    </tr>\n",
       "    <tr>\n",
       "      <th>1</th>\n",
       "      <td>钙乳症</td>\n",
       "      <td>囊性回声</td>\n",
       "      <td>0</td>\n",
       "    </tr>\n",
       "    <tr>\n",
       "      <th>2</th>\n",
       "      <td>钙乳症</td>\n",
       "      <td>混合回声</td>\n",
       "      <td>0</td>\n",
       "    </tr>\n",
       "    <tr>\n",
       "      <th>3</th>\n",
       "      <td>钙乳症</td>\n",
       "      <td>无回声</td>\n",
       "      <td>0</td>\n",
       "    </tr>\n",
       "    <tr>\n",
       "      <th>4</th>\n",
       "      <td>钙乳症</td>\n",
       "      <td>等回声</td>\n",
       "      <td>0</td>\n",
       "    </tr>\n",
       "  </tbody>\n",
       "</table>\n",
       "</div>"
      ],
      "text/plain": [
       "  summ  desc  solid\n",
       "0  钙乳症   高回声      1\n",
       "1  钙乳症  囊性回声      0\n",
       "2  钙乳症  混合回声      0\n",
       "3  钙乳症   无回声      0\n",
       "4  钙乳症   等回声      0"
      ]
     },
     "execution_count": 62,
     "metadata": {},
     "output_type": "execute_result"
    }
   ],
   "source": [
    "solid.head()"
   ]
  },
  {
   "cell_type": "code",
   "execution_count": 45,
   "metadata": {},
   "outputs": [],
   "source": [
    "renaltotal_tuple = pd.read_excel(r\"C:\\Users\\13670\\Desktop\\待完成\\项目4 回声tag分析\\肾脏\\20201016\\renal_tuple_.xlsx\")"
   ]
  },
  {
   "cell_type": "code",
   "execution_count": 46,
   "metadata": {
    "collapsed": true
   },
   "outputs": [
    {
     "data": {
      "text/html": [
       "<div>\n",
       "<style scoped>\n",
       "    .dataframe tbody tr th:only-of-type {\n",
       "        vertical-align: middle;\n",
       "    }\n",
       "\n",
       "    .dataframe tbody tr th {\n",
       "        vertical-align: top;\n",
       "    }\n",
       "\n",
       "    .dataframe thead th {\n",
       "        text-align: right;\n",
       "    }\n",
       "</style>\n",
       "<table border=\"1\" class=\"dataframe\">\n",
       "  <thead>\n",
       "    <tr style=\"text-align: right;\">\n",
       "      <th></th>\n",
       "      <th>summlist</th>\n",
       "      <th>desclist</th>\n",
       "      <th>ordercode</th>\n",
       "    </tr>\n",
       "  </thead>\n",
       "  <tbody>\n",
       "    <tr>\n",
       "      <th>0</th>\n",
       "      <td>('占位',)</td>\n",
       "      <td>()</td>\n",
       "      <td>112</td>\n",
       "    </tr>\n",
       "    <tr>\n",
       "      <th>1</th>\n",
       "      <td>('占位',)</td>\n",
       "      <td>('低回声',)</td>\n",
       "      <td>19</td>\n",
       "    </tr>\n",
       "    <tr>\n",
       "      <th>2</th>\n",
       "      <td>('占位',)</td>\n",
       "      <td>('低回声', '回声不均匀')</td>\n",
       "      <td>6</td>\n",
       "    </tr>\n",
       "    <tr>\n",
       "      <th>3</th>\n",
       "      <td>('占位',)</td>\n",
       "      <td>('强回声',)</td>\n",
       "      <td>2</td>\n",
       "    </tr>\n",
       "    <tr>\n",
       "      <th>4</th>\n",
       "      <td>('占位',)</td>\n",
       "      <td>('强回声', '低回声', '回声不均匀')</td>\n",
       "      <td>1</td>\n",
       "    </tr>\n",
       "  </tbody>\n",
       "</table>\n",
       "</div>"
      ],
      "text/plain": [
       "  summlist                 desclist  ordercode\n",
       "0  ('占位',)                       ()        112\n",
       "1  ('占位',)                 ('低回声',)         19\n",
       "2  ('占位',)         ('低回声', '回声不均匀')          6\n",
       "3  ('占位',)                 ('强回声',)          2\n",
       "4  ('占位',)  ('强回声', '低回声', '回声不均匀')          1"
      ]
     },
     "execution_count": 46,
     "metadata": {},
     "output_type": "execute_result"
    }
   ],
   "source": [
    "renaltotal_tuple.head()"
   ]
  },
  {
   "cell_type": "code",
   "execution_count": 72,
   "metadata": {},
   "outputs": [
    {
     "data": {
      "text/html": [
       "<div>\n",
       "<style scoped>\n",
       "    .dataframe tbody tr th:only-of-type {\n",
       "        vertical-align: middle;\n",
       "    }\n",
       "\n",
       "    .dataframe tbody tr th {\n",
       "        vertical-align: top;\n",
       "    }\n",
       "\n",
       "    .dataframe thead th {\n",
       "        text-align: right;\n",
       "    }\n",
       "</style>\n",
       "<table border=\"1\" class=\"dataframe\">\n",
       "  <thead>\n",
       "    <tr style=\"text-align: right;\">\n",
       "      <th></th>\n",
       "      <th>summ</th>\n",
       "      <th>desc</th>\n",
       "      <th>count</th>\n",
       "      <th>source_model</th>\n",
       "    </tr>\n",
       "  </thead>\n",
       "  <tbody>\n",
       "    <tr>\n",
       "      <th>0</th>\n",
       "      <td>占位</td>\n",
       "      <td>0</td>\n",
       "      <td>112.000000</td>\n",
       "      <td>summary_missing</td>\n",
       "    </tr>\n",
       "    <tr>\n",
       "      <th>1</th>\n",
       "      <td>占位</td>\n",
       "      <td>低回声</td>\n",
       "      <td>19.000000</td>\n",
       "      <td>complete</td>\n",
       "    </tr>\n",
       "    <tr>\n",
       "      <th>2</th>\n",
       "      <td>占位</td>\n",
       "      <td>低回声</td>\n",
       "      <td>3.000000</td>\n",
       "      <td>split</td>\n",
       "    </tr>\n",
       "    <tr>\n",
       "      <th>3</th>\n",
       "      <td>占位</td>\n",
       "      <td>回声不均匀</td>\n",
       "      <td>3.000000</td>\n",
       "      <td>split</td>\n",
       "    </tr>\n",
       "    <tr>\n",
       "      <th>4</th>\n",
       "      <td>占位</td>\n",
       "      <td>强回声</td>\n",
       "      <td>2.000000</td>\n",
       "      <td>complete</td>\n",
       "    </tr>\n",
       "    <tr>\n",
       "      <th>...</th>\n",
       "      <td>...</td>\n",
       "      <td>...</td>\n",
       "      <td>...</td>\n",
       "      <td>...</td>\n",
       "    </tr>\n",
       "    <tr>\n",
       "      <th>3669</th>\n",
       "      <td>钙化灶</td>\n",
       "      <td>高回声</td>\n",
       "      <td>0.111111</td>\n",
       "      <td>split</td>\n",
       "    </tr>\n",
       "    <tr>\n",
       "      <th>3670</th>\n",
       "      <td>钙化灶</td>\n",
       "      <td>回声不均匀</td>\n",
       "      <td>0.111111</td>\n",
       "      <td>split</td>\n",
       "    </tr>\n",
       "    <tr>\n",
       "      <th>3671</th>\n",
       "      <td>结节</td>\n",
       "      <td>强回声</td>\n",
       "      <td>0.111111</td>\n",
       "      <td>split</td>\n",
       "    </tr>\n",
       "    <tr>\n",
       "      <th>3672</th>\n",
       "      <td>结节</td>\n",
       "      <td>高回声</td>\n",
       "      <td>0.111111</td>\n",
       "      <td>split</td>\n",
       "    </tr>\n",
       "    <tr>\n",
       "      <th>3673</th>\n",
       "      <td>结节</td>\n",
       "      <td>回声不均匀</td>\n",
       "      <td>0.111111</td>\n",
       "      <td>split</td>\n",
       "    </tr>\n",
       "  </tbody>\n",
       "</table>\n",
       "<p>3674 rows × 4 columns</p>\n",
       "</div>"
      ],
      "text/plain": [
       "     summ   desc       count     source_model\n",
       "0      占位      0  112.000000  summary_missing\n",
       "1      占位    低回声   19.000000         complete\n",
       "2      占位    低回声    3.000000            split\n",
       "3      占位  回声不均匀    3.000000            split\n",
       "4      占位    强回声    2.000000         complete\n",
       "...   ...    ...         ...              ...\n",
       "3669  钙化灶    高回声    0.111111            split\n",
       "3670  钙化灶  回声不均匀    0.111111            split\n",
       "3671   结节    强回声    0.111111            split\n",
       "3672   结节    高回声    0.111111            split\n",
       "3673   结节  回声不均匀    0.111111            split\n",
       "\n",
       "[3674 rows x 4 columns]"
      ]
     },
     "execution_count": 72,
     "metadata": {},
     "output_type": "execute_result"
    }
   ],
   "source": [
    "desc_list = []\n",
    "summ_list = []\n",
    "count_list = []\n",
    "source_model = []\n",
    "\n",
    "for line in renaltotal_tuple.values:\n",
    "    desc = eval(line[0])\n",
    "    summ = eval(line[1])\n",
    "    count = line[2]    \n",
    "    if len(summ)==0:\n",
    "        source = \"summary_missing\"\n",
    "        for index in range(len(desc)):\n",
    "            descsub = desc[index]\n",
    "            desc_list.append(descsub)\n",
    "            summ_list.append(0)\n",
    "            count_list.append(count)\n",
    "            source_model.append(source)                \n",
    "    elif (len(desc)== 1 & len(summ)==1):\n",
    "        source = \"complete\"\n",
    "        desc_list.append(desc[0])\n",
    "        summ_list.append(summ[0])\n",
    "        count_list.append(count)\n",
    "        source_model.append(source)\n",
    "    else :\n",
    "        source = \"split\"\n",
    "        for index_desc in range(len(desc)):\n",
    "            descsub = desc[index_desc]\n",
    "            for index_summ in range(len(summ)):\n",
    "                summsub = summ[index_summ]\n",
    "                countsub = count/(len(desc)*len(summ))\n",
    "                desc_list.append(descsub)\n",
    "                summ_list.append(summsub)\n",
    "                count_list.append(countsub)\n",
    "                source_model.append(source)\n",
    "                \n",
    "final = pd.DataFrame({\"summ\":desc_list,\"desc\":summ_list,\"count\":count_list,\"source_model\":source_model}) \n",
    "final"
   ]
  },
  {
   "cell_type": "code",
   "execution_count": 78,
   "metadata": {},
   "outputs": [],
   "source": [
    "final_ = pd.merge(final,solid,left_on =[ \"summ\",\"desc\" ] ,right_on = [\"summ\",\"desc\"])"
   ]
  },
  {
   "cell_type": "code",
   "execution_count": 80,
   "metadata": {},
   "outputs": [],
   "source": [
    "final_.to_excel(r\"C:\\Users\\13670\\Desktop\\待完成\\项目4 回声tag分析\\肾脏\\20201016\\renal_final.xlsx\")"
   ]
  },
  {
   "cell_type": "code",
   "execution_count": 87,
   "metadata": {},
   "outputs": [],
   "source": [
    "class_dict = pd.read_excel(r\"C:\\Users\\13670\\Desktop\\待完成\\项目4 回声tag分析\\肾脏\\20201016\\ranal_dict.xlsx\",sheet_name = \"decision\")"
   ]
  },
  {
   "cell_type": "code",
   "execution_count": 89,
   "metadata": {},
   "outputs": [],
   "source": [
    "class_df = pd.merge(final_,class_dict,left_on = [\"source_model\",\"solid\"],right_on = [\"source_model\",\"solid\"])"
   ]
  },
  {
   "cell_type": "code",
   "execution_count": 92,
   "metadata": {},
   "outputs": [],
   "source": [
    "class_groupby = pd.DataFrame(class_df.groupby([\"summ\",\"desc\",\"source_model\",\"solid\",\"result\"])[\"count\"].sum())"
   ]
  },
  {
   "cell_type": "code",
   "execution_count": 93,
   "metadata": {},
   "outputs": [
    {
     "data": {
      "text/html": [
       "<div>\n",
       "<style scoped>\n",
       "    .dataframe tbody tr th:only-of-type {\n",
       "        vertical-align: middle;\n",
       "    }\n",
       "\n",
       "    .dataframe tbody tr th {\n",
       "        vertical-align: top;\n",
       "    }\n",
       "\n",
       "    .dataframe thead th {\n",
       "        text-align: right;\n",
       "    }\n",
       "</style>\n",
       "<table border=\"1\" class=\"dataframe\">\n",
       "  <thead>\n",
       "    <tr style=\"text-align: right;\">\n",
       "      <th></th>\n",
       "      <th></th>\n",
       "      <th></th>\n",
       "      <th></th>\n",
       "      <th></th>\n",
       "      <th>count</th>\n",
       "    </tr>\n",
       "    <tr>\n",
       "      <th>summ</th>\n",
       "      <th>desc</th>\n",
       "      <th>source_model</th>\n",
       "      <th>solid</th>\n",
       "      <th>result</th>\n",
       "      <th></th>\n",
       "    </tr>\n",
       "  </thead>\n",
       "  <tbody>\n",
       "    <tr>\n",
       "      <th rowspan=\"5\" valign=\"top\">占位</th>\n",
       "      <th>0</th>\n",
       "      <th>summary_missing</th>\n",
       "      <th>0</th>\n",
       "      <th>Error</th>\n",
       "      <td>167.000000</td>\n",
       "    </tr>\n",
       "    <tr>\n",
       "      <th rowspan=\"2\" valign=\"top\">低回声</th>\n",
       "      <th>complete</th>\n",
       "      <th>1</th>\n",
       "      <th>OK</th>\n",
       "      <td>19.000000</td>\n",
       "    </tr>\n",
       "    <tr>\n",
       "      <th>split</th>\n",
       "      <th>1</th>\n",
       "      <th>Maybe</th>\n",
       "      <td>6.177778</td>\n",
       "    </tr>\n",
       "    <tr>\n",
       "      <th>囊性回声</th>\n",
       "      <th>split</th>\n",
       "      <th>1</th>\n",
       "      <th>Maybe</th>\n",
       "      <td>0.483333</td>\n",
       "    </tr>\n",
       "    <tr>\n",
       "      <th>回声不均匀</th>\n",
       "      <th>split</th>\n",
       "      <th>1</th>\n",
       "      <th>Maybe</th>\n",
       "      <td>16.538889</td>\n",
       "    </tr>\n",
       "    <tr>\n",
       "      <th>...</th>\n",
       "      <th>...</th>\n",
       "      <th>...</th>\n",
       "      <th>...</th>\n",
       "      <th>...</th>\n",
       "      <td>...</td>\n",
       "    </tr>\n",
       "    <tr>\n",
       "      <th rowspan=\"5\" valign=\"top\">错构瘤</th>\n",
       "      <th rowspan=\"2\" valign=\"top\">等回声</th>\n",
       "      <th>complete</th>\n",
       "      <th>0</th>\n",
       "      <th>NO</th>\n",
       "      <td>5.000000</td>\n",
       "    </tr>\n",
       "    <tr>\n",
       "      <th>split</th>\n",
       "      <th>0</th>\n",
       "      <th>NO</th>\n",
       "      <td>0.916667</td>\n",
       "    </tr>\n",
       "    <tr>\n",
       "      <th>集合系统分离</th>\n",
       "      <th>split</th>\n",
       "      <th>0</th>\n",
       "      <th>NO</th>\n",
       "      <td>6.819444</td>\n",
       "    </tr>\n",
       "    <tr>\n",
       "      <th rowspan=\"2\" valign=\"top\">高回声</th>\n",
       "      <th>complete</th>\n",
       "      <th>2</th>\n",
       "      <th>OK</th>\n",
       "      <td>915.000000</td>\n",
       "    </tr>\n",
       "    <tr>\n",
       "      <th>split</th>\n",
       "      <th>2</th>\n",
       "      <th>OK</th>\n",
       "      <td>157.427778</td>\n",
       "    </tr>\n",
       "  </tbody>\n",
       "</table>\n",
       "<p>149 rows × 1 columns</p>\n",
       "</div>"
      ],
      "text/plain": [
       "                                               count\n",
       "summ desc   source_model    solid result            \n",
       "占位   0      summary_missing 0     Error   167.000000\n",
       "     低回声    complete        1     OK       19.000000\n",
       "            split           1     Maybe     6.177778\n",
       "     囊性回声   split           1     Maybe     0.483333\n",
       "     回声不均匀  split           1     Maybe    16.538889\n",
       "...                                              ...\n",
       "错构瘤  等回声    complete        0     NO        5.000000\n",
       "            split           0     NO        0.916667\n",
       "     集合系统分离 split           0     NO        6.819444\n",
       "     高回声    complete        2     OK      915.000000\n",
       "            split           2     OK      157.427778\n",
       "\n",
       "[149 rows x 1 columns]"
      ]
     },
     "execution_count": 93,
     "metadata": {},
     "output_type": "execute_result"
    }
   ],
   "source": [
    "class_groupby"
   ]
  },
  {
   "cell_type": "code",
   "execution_count": 94,
   "metadata": {},
   "outputs": [],
   "source": [
    "class_groupby.to_excel(r\"C:\\Users\\13670\\Desktop\\待完成\\项目4 回声tag分析\\肾脏\\20201016\\ranal_groupby.xlsx\")"
   ]
  },
  {
   "cell_type": "code",
   "execution_count": null,
   "metadata": {},
   "outputs": [],
   "source": []
  },
  {
   "cell_type": "code",
   "execution_count": 123,
   "metadata": {},
   "outputs": [],
   "source": [
    "high_risk = pd.read_excel(r\"C:\\Users\\13670\\Desktop\\待完成\\项目4 回声tag分析\\肾脏\\20201016\\mis with high_risk.xlsx\")"
   ]
  },
  {
   "cell_type": "code",
   "execution_count": 121,
   "metadata": {},
   "outputs": [],
   "source": [
    "renaltotal_or = pd.read_excel(r\"C:\\Users\\13670\\Desktop\\待完成\\项目4 回声tag分析\\肾脏\\20201016\\renaltotal.xlsx\",index_col = 0)"
   ]
  },
  {
   "cell_type": "code",
   "execution_count": 138,
   "metadata": {},
   "outputs": [
    {
     "ename": "TypeError",
     "evalue": "eval() arg 1 must be a string, bytes or code object",
     "output_type": "error",
     "traceback": [
      "\u001b[1;31m---------------------------------------------------------------------------\u001b[0m",
      "\u001b[1;31mTypeError\u001b[0m                                 Traceback (most recent call last)",
      "\u001b[1;32m<ipython-input-138-73518ee42bcf>\u001b[0m in \u001b[0;36m<module>\u001b[1;34m\u001b[0m\n\u001b[1;32m----> 1\u001b[1;33m \u001b[0mrenaltotal_or1\u001b[0m \u001b[1;33m=\u001b[0m \u001b[0mrenaltotal_or\u001b[0m\u001b[1;33m.\u001b[0m\u001b[0mapply\u001b[0m\u001b[1;33m(\u001b[0m\u001b[1;32mlambda\u001b[0m \u001b[0mx\u001b[0m\u001b[1;33m:\u001b[0m \u001b[0mtuple\u001b[0m\u001b[1;33m(\u001b[0m\u001b[0meval\u001b[0m\u001b[1;33m(\u001b[0m\u001b[0mx\u001b[0m\u001b[1;33m)\u001b[0m\u001b[1;33m)\u001b[0m\u001b[1;33m)\u001b[0m\u001b[1;33m\u001b[0m\u001b[1;33m\u001b[0m\u001b[0m\n\u001b[0m",
      "\u001b[1;32m~\\Anaconda3\\lib\\site-packages\\pandas\\core\\frame.py\u001b[0m in \u001b[0;36mapply\u001b[1;34m(self, func, axis, raw, result_type, args, **kwds)\u001b[0m\n\u001b[0;32m   7545\u001b[0m             \u001b[0mkwds\u001b[0m\u001b[1;33m=\u001b[0m\u001b[0mkwds\u001b[0m\u001b[1;33m,\u001b[0m\u001b[1;33m\u001b[0m\u001b[1;33m\u001b[0m\u001b[0m\n\u001b[0;32m   7546\u001b[0m         )\n\u001b[1;32m-> 7547\u001b[1;33m         \u001b[1;32mreturn\u001b[0m \u001b[0mop\u001b[0m\u001b[1;33m.\u001b[0m\u001b[0mget_result\u001b[0m\u001b[1;33m(\u001b[0m\u001b[1;33m)\u001b[0m\u001b[1;33m\u001b[0m\u001b[1;33m\u001b[0m\u001b[0m\n\u001b[0m\u001b[0;32m   7548\u001b[0m \u001b[1;33m\u001b[0m\u001b[0m\n\u001b[0;32m   7549\u001b[0m     \u001b[1;32mdef\u001b[0m \u001b[0mapplymap\u001b[0m\u001b[1;33m(\u001b[0m\u001b[0mself\u001b[0m\u001b[1;33m,\u001b[0m \u001b[0mfunc\u001b[0m\u001b[1;33m)\u001b[0m \u001b[1;33m->\u001b[0m \u001b[1;34m\"DataFrame\"\u001b[0m\u001b[1;33m:\u001b[0m\u001b[1;33m\u001b[0m\u001b[1;33m\u001b[0m\u001b[0m\n",
      "\u001b[1;32m~\\Anaconda3\\lib\\site-packages\\pandas\\core\\apply.py\u001b[0m in \u001b[0;36mget_result\u001b[1;34m(self)\u001b[0m\n\u001b[0;32m    178\u001b[0m             \u001b[1;32mreturn\u001b[0m \u001b[0mself\u001b[0m\u001b[1;33m.\u001b[0m\u001b[0mapply_raw\u001b[0m\u001b[1;33m(\u001b[0m\u001b[1;33m)\u001b[0m\u001b[1;33m\u001b[0m\u001b[1;33m\u001b[0m\u001b[0m\n\u001b[0;32m    179\u001b[0m \u001b[1;33m\u001b[0m\u001b[0m\n\u001b[1;32m--> 180\u001b[1;33m         \u001b[1;32mreturn\u001b[0m \u001b[0mself\u001b[0m\u001b[1;33m.\u001b[0m\u001b[0mapply_standard\u001b[0m\u001b[1;33m(\u001b[0m\u001b[1;33m)\u001b[0m\u001b[1;33m\u001b[0m\u001b[1;33m\u001b[0m\u001b[0m\n\u001b[0m\u001b[0;32m    181\u001b[0m \u001b[1;33m\u001b[0m\u001b[0m\n\u001b[0;32m    182\u001b[0m     \u001b[1;32mdef\u001b[0m \u001b[0mapply_empty_result\u001b[0m\u001b[1;33m(\u001b[0m\u001b[0mself\u001b[0m\u001b[1;33m)\u001b[0m\u001b[1;33m:\u001b[0m\u001b[1;33m\u001b[0m\u001b[1;33m\u001b[0m\u001b[0m\n",
      "\u001b[1;32m~\\Anaconda3\\lib\\site-packages\\pandas\\core\\apply.py\u001b[0m in \u001b[0;36mapply_standard\u001b[1;34m(self)\u001b[0m\n\u001b[0;32m    253\u001b[0m \u001b[1;33m\u001b[0m\u001b[0m\n\u001b[0;32m    254\u001b[0m     \u001b[1;32mdef\u001b[0m \u001b[0mapply_standard\u001b[0m\u001b[1;33m(\u001b[0m\u001b[0mself\u001b[0m\u001b[1;33m)\u001b[0m\u001b[1;33m:\u001b[0m\u001b[1;33m\u001b[0m\u001b[1;33m\u001b[0m\u001b[0m\n\u001b[1;32m--> 255\u001b[1;33m         \u001b[0mresults\u001b[0m\u001b[1;33m,\u001b[0m \u001b[0mres_index\u001b[0m \u001b[1;33m=\u001b[0m \u001b[0mself\u001b[0m\u001b[1;33m.\u001b[0m\u001b[0mapply_series_generator\u001b[0m\u001b[1;33m(\u001b[0m\u001b[1;33m)\u001b[0m\u001b[1;33m\u001b[0m\u001b[1;33m\u001b[0m\u001b[0m\n\u001b[0m\u001b[0;32m    256\u001b[0m \u001b[1;33m\u001b[0m\u001b[0m\n\u001b[0;32m    257\u001b[0m         \u001b[1;31m# wrap results\u001b[0m\u001b[1;33m\u001b[0m\u001b[1;33m\u001b[0m\u001b[1;33m\u001b[0m\u001b[0m\n",
      "\u001b[1;32m~\\Anaconda3\\lib\\site-packages\\pandas\\core\\apply.py\u001b[0m in \u001b[0;36mapply_series_generator\u001b[1;34m(self)\u001b[0m\n\u001b[0;32m    282\u001b[0m                 \u001b[1;32mfor\u001b[0m \u001b[0mi\u001b[0m\u001b[1;33m,\u001b[0m \u001b[0mv\u001b[0m \u001b[1;32min\u001b[0m \u001b[0menumerate\u001b[0m\u001b[1;33m(\u001b[0m\u001b[0mseries_gen\u001b[0m\u001b[1;33m)\u001b[0m\u001b[1;33m:\u001b[0m\u001b[1;33m\u001b[0m\u001b[1;33m\u001b[0m\u001b[0m\n\u001b[0;32m    283\u001b[0m                     \u001b[1;31m# ignore SettingWithCopy here in case the user mutates\u001b[0m\u001b[1;33m\u001b[0m\u001b[1;33m\u001b[0m\u001b[1;33m\u001b[0m\u001b[0m\n\u001b[1;32m--> 284\u001b[1;33m                     \u001b[0mresults\u001b[0m\u001b[1;33m[\u001b[0m\u001b[0mi\u001b[0m\u001b[1;33m]\u001b[0m \u001b[1;33m=\u001b[0m \u001b[0mself\u001b[0m\u001b[1;33m.\u001b[0m\u001b[0mf\u001b[0m\u001b[1;33m(\u001b[0m\u001b[0mv\u001b[0m\u001b[1;33m)\u001b[0m\u001b[1;33m\u001b[0m\u001b[1;33m\u001b[0m\u001b[0m\n\u001b[0m\u001b[0;32m    285\u001b[0m                     \u001b[1;32mif\u001b[0m \u001b[0misinstance\u001b[0m\u001b[1;33m(\u001b[0m\u001b[0mresults\u001b[0m\u001b[1;33m[\u001b[0m\u001b[0mi\u001b[0m\u001b[1;33m]\u001b[0m\u001b[1;33m,\u001b[0m \u001b[0mABCSeries\u001b[0m\u001b[1;33m)\u001b[0m\u001b[1;33m:\u001b[0m\u001b[1;33m\u001b[0m\u001b[1;33m\u001b[0m\u001b[0m\n\u001b[0;32m    286\u001b[0m                         \u001b[1;31m# If we have a view on v, we need to make a copy because\u001b[0m\u001b[1;33m\u001b[0m\u001b[1;33m\u001b[0m\u001b[1;33m\u001b[0m\u001b[0m\n",
      "\u001b[1;32m<ipython-input-138-73518ee42bcf>\u001b[0m in \u001b[0;36m<lambda>\u001b[1;34m(x)\u001b[0m\n\u001b[1;32m----> 1\u001b[1;33m \u001b[0mrenaltotal_or1\u001b[0m \u001b[1;33m=\u001b[0m \u001b[0mrenaltotal_or\u001b[0m\u001b[1;33m.\u001b[0m\u001b[0mapply\u001b[0m\u001b[1;33m(\u001b[0m\u001b[1;32mlambda\u001b[0m \u001b[0mx\u001b[0m\u001b[1;33m:\u001b[0m \u001b[0mtuple\u001b[0m\u001b[1;33m(\u001b[0m\u001b[0meval\u001b[0m\u001b[1;33m(\u001b[0m\u001b[0mx\u001b[0m\u001b[1;33m)\u001b[0m\u001b[1;33m)\u001b[0m\u001b[1;33m)\u001b[0m\u001b[1;33m\u001b[0m\u001b[1;33m\u001b[0m\u001b[0m\n\u001b[0m",
      "\u001b[1;31mTypeError\u001b[0m: eval() arg 1 must be a string, bytes or code object"
     ]
    }
   ],
   "source": [
    "renaltotal_or1 = renaltotal_or.apply(lambda x: tuple(eval(x)))"
   ]
  },
  {
   "cell_type": "code",
   "execution_count": 124,
   "metadata": {},
   "outputs": [],
   "source": [
    "order_code  = pd.merge(high_risk,renaltotal_or)"
   ]
  },
  {
   "cell_type": "code",
   "execution_count": 134,
   "metadata": {},
   "outputs": [],
   "source": [
    "renaltotal_tuple = pd.DataFrame(renaltotal_or.groupby(['summlist','desclist'])['ordercode'].count())"
   ]
  },
  {
   "cell_type": "code",
   "execution_count": 137,
   "metadata": {},
   "outputs": [],
   "source": [
    "renaltotal_tuple.to_excel(r\"C:\\Users\\13670\\Desktop\\待完成\\项目4 回声tag分析\\肾脏\\20201016\\renaltotal_list.xlsx\")"
   ]
  },
  {
   "cell_type": "code",
   "execution_count": null,
   "metadata": {},
   "outputs": [],
   "source": []
  }
 ],
 "metadata": {
  "kernelspec": {
   "display_name": "Python 3",
   "language": "python",
   "name": "python3"
  },
  "language_info": {
   "codemirror_mode": {
    "name": "ipython",
    "version": 3
   },
   "file_extension": ".py",
   "mimetype": "text/x-python",
   "name": "python",
   "nbconvert_exporter": "python",
   "pygments_lexer": "ipython3",
   "version": "3.7.6"
  }
 },
 "nbformat": 4,
 "nbformat_minor": 4
}
