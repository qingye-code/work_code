{
 "cells": [
  {
   "cell_type": "code",
   "execution_count": 1,
   "metadata": {},
   "outputs": [],
   "source": [
    "import pymysql\n",
    "import pandas as pd\n",
    "import numpy as np"
   ]
  },
  {
   "cell_type": "code",
   "execution_count": 48,
   "metadata": {},
   "outputs": [],
   "source": [
    "conn=pymysql.connect(host='mysql-backup.shanzhen.me',\n",
    "                     user='readonly_medicine_liuqq',\n",
    "                     password=\"r3g1^QWgV8GeYJw4\",\n",
    "                     database='asgard_dataplatform',\n",
    "                     port= 3001,\n",
    "                     charset='utf8')"
   ]
  },
  {
   "cell_type": "code",
   "execution_count": 8,
   "metadata": {},
   "outputs": [],
   "source": [
    "SBPSql1 = 'SELECT p1.ORDER_CODE,p1.RESULT,p1.UPPER_VALUE,p1.LOWER_VALUE,p2.EXAM_DATE,p2.EXAMINEE_AGE,p2.EXAMINEE_GENDER \\\n",
    "    FROM (SELECT * FROM t66_athena_basic_quantity_record WHERE SZ_STATUS = 1 AND SD_CODE = \"S0000418N99\") p1 \\\n",
    "    LEFT JOIN (SELECT * FROM t66_athena_basic_raw_person_info WHERE SZ_STATUS = 1)p2 ON p1.ORDER_CODE = p2.ORDER_CODE LIMIT 0,500000' \n",
    "SBP_Recode1 = pd.read_sql(SBPSql1,con=conn)\n",
    "\n",
    "SBPSql2 = 'SELECT p1.ORDER_CODE,p1.RESULT,p1.UPPER_VALUE,p1.LOWER_VALUE,p2.EXAM_DATE,p2.EXAMINEE_AGE,p2.EXAMINEE_GENDER \\\n",
    "    FROM (SELECT * FROM t66_athena_basic_quantity_record WHERE SZ_STATUS = 1 AND SD_CODE = \"S0000418N99\") p1 \\\n",
    "    LEFT JOIN (SELECT * FROM t66_athena_basic_raw_person_info WHERE SZ_STATUS = 1)p2 ON p1.ORDER_CODE = p2.ORDER_CODE LIMIT 500000,500000' \n",
    "SBP_Recode2 = pd.read_sql(SBPSql2,con=conn)\n",
    "\n",
    "SBPSql3 = 'SELECT p1.ORDER_CODE,p1.RESULT,p1.UPPER_VALUE,p1.LOWER_VALUE,p2.EXAM_DATE,p2.EXAMINEE_AGE,p2.EXAMINEE_GENDER \\\n",
    "    FROM (SELECT * FROM t66_athena_basic_quantity_record WHERE SZ_STATUS = 1 AND SD_CODE = \"S0000418N99\") p1 \\\n",
    "    LEFT JOIN (SELECT * FROM t66_athena_basic_raw_person_info WHERE SZ_STATUS = 1)p2 ON p1.ORDER_CODE = p2.ORDER_CODE LIMIT 1000000,500000' \n",
    "SBP_Recode3 = pd.read_sql(SBPSql3,con=conn)"
   ]
  },
  {
   "cell_type": "code",
   "execution_count": 71,
   "metadata": {},
   "outputs": [],
   "source": [
    "SBP = pd.DataFrame()\n",
    "for i in [SBP_Recode1,SBP_Recode2,SBP_Recode3]:\n",
    "    SBP.append(i)"
   ]
  },
  {
   "cell_type": "code",
   "execution_count": 76,
   "metadata": {
    "collapsed": true
   },
   "outputs": [
    {
     "ename": "AttributeError",
     "evalue": "Can only use .dt accessor with datetimelike values",
     "output_type": "error",
     "traceback": [
      "\u001b[1;31m---------------------------------------------------------------------------\u001b[0m",
      "\u001b[1;31mAttributeError\u001b[0m                            Traceback (most recent call last)",
      "\u001b[1;32m<ipython-input-76-7db9dd9a4d58>\u001b[0m in \u001b[0;36m<module>\u001b[1;34m\u001b[0m\n\u001b[1;32m----> 1\u001b[1;33m \u001b[0mSBP_Recode3\u001b[0m\u001b[1;33m[\u001b[0m\u001b[1;34m'new_date'\u001b[0m\u001b[1;33m]\u001b[0m \u001b[1;33m=\u001b[0m \u001b[0mSBP_Recode3\u001b[0m\u001b[1;33m[\u001b[0m\u001b[1;34m'EXAM_DATE'\u001b[0m\u001b[1;33m]\u001b[0m\u001b[1;33m.\u001b[0m\u001b[0mdt\u001b[0m\u001b[1;33m.\u001b[0m\u001b[0mdate\u001b[0m\u001b[1;33m\u001b[0m\u001b[1;33m\u001b[0m\u001b[0m\n\u001b[0m",
      "\u001b[1;32m~\\Anaconda3\\lib\\site-packages\\pandas\\core\\generic.py\u001b[0m in \u001b[0;36m__getattr__\u001b[1;34m(self, name)\u001b[0m\n\u001b[0;32m   5130\u001b[0m             \u001b[1;32mor\u001b[0m \u001b[0mname\u001b[0m \u001b[1;32min\u001b[0m \u001b[0mself\u001b[0m\u001b[1;33m.\u001b[0m\u001b[0m_accessors\u001b[0m\u001b[1;33m\u001b[0m\u001b[1;33m\u001b[0m\u001b[0m\n\u001b[0;32m   5131\u001b[0m         ):\n\u001b[1;32m-> 5132\u001b[1;33m             \u001b[1;32mreturn\u001b[0m \u001b[0mobject\u001b[0m\u001b[1;33m.\u001b[0m\u001b[0m__getattribute__\u001b[0m\u001b[1;33m(\u001b[0m\u001b[0mself\u001b[0m\u001b[1;33m,\u001b[0m \u001b[0mname\u001b[0m\u001b[1;33m)\u001b[0m\u001b[1;33m\u001b[0m\u001b[1;33m\u001b[0m\u001b[0m\n\u001b[0m\u001b[0;32m   5133\u001b[0m         \u001b[1;32melse\u001b[0m\u001b[1;33m:\u001b[0m\u001b[1;33m\u001b[0m\u001b[1;33m\u001b[0m\u001b[0m\n\u001b[0;32m   5134\u001b[0m             \u001b[1;32mif\u001b[0m \u001b[0mself\u001b[0m\u001b[1;33m.\u001b[0m\u001b[0m_info_axis\u001b[0m\u001b[1;33m.\u001b[0m\u001b[0m_can_hold_identifiers_and_holds_name\u001b[0m\u001b[1;33m(\u001b[0m\u001b[0mname\u001b[0m\u001b[1;33m)\u001b[0m\u001b[1;33m:\u001b[0m\u001b[1;33m\u001b[0m\u001b[1;33m\u001b[0m\u001b[0m\n",
      "\u001b[1;32m~\\Anaconda3\\lib\\site-packages\\pandas\\core\\accessor.py\u001b[0m in \u001b[0;36m__get__\u001b[1;34m(self, obj, cls)\u001b[0m\n\u001b[0;32m    185\u001b[0m             \u001b[1;31m# we're accessing the attribute of the class, i.e., Dataset.geo\u001b[0m\u001b[1;33m\u001b[0m\u001b[1;33m\u001b[0m\u001b[1;33m\u001b[0m\u001b[0m\n\u001b[0;32m    186\u001b[0m             \u001b[1;32mreturn\u001b[0m \u001b[0mself\u001b[0m\u001b[1;33m.\u001b[0m\u001b[0m_accessor\u001b[0m\u001b[1;33m\u001b[0m\u001b[1;33m\u001b[0m\u001b[0m\n\u001b[1;32m--> 187\u001b[1;33m         \u001b[0maccessor_obj\u001b[0m \u001b[1;33m=\u001b[0m \u001b[0mself\u001b[0m\u001b[1;33m.\u001b[0m\u001b[0m_accessor\u001b[0m\u001b[1;33m(\u001b[0m\u001b[0mobj\u001b[0m\u001b[1;33m)\u001b[0m\u001b[1;33m\u001b[0m\u001b[1;33m\u001b[0m\u001b[0m\n\u001b[0m\u001b[0;32m    188\u001b[0m         \u001b[1;31m# Replace the property with the accessor object. Inspired by:\u001b[0m\u001b[1;33m\u001b[0m\u001b[1;33m\u001b[0m\u001b[1;33m\u001b[0m\u001b[0m\n\u001b[0;32m    189\u001b[0m         \u001b[1;31m# https://www.pydanny.com/cached-property.html\u001b[0m\u001b[1;33m\u001b[0m\u001b[1;33m\u001b[0m\u001b[1;33m\u001b[0m\u001b[0m\n",
      "\u001b[1;32m~\\Anaconda3\\lib\\site-packages\\pandas\\core\\indexes\\accessors.py\u001b[0m in \u001b[0;36m__new__\u001b[1;34m(cls, data)\u001b[0m\n\u001b[0;32m    478\u001b[0m             \u001b[1;32mreturn\u001b[0m \u001b[0mPeriodProperties\u001b[0m\u001b[1;33m(\u001b[0m\u001b[0mdata\u001b[0m\u001b[1;33m,\u001b[0m \u001b[0morig\u001b[0m\u001b[1;33m)\u001b[0m\u001b[1;33m\u001b[0m\u001b[1;33m\u001b[0m\u001b[0m\n\u001b[0;32m    479\u001b[0m \u001b[1;33m\u001b[0m\u001b[0m\n\u001b[1;32m--> 480\u001b[1;33m         \u001b[1;32mraise\u001b[0m \u001b[0mAttributeError\u001b[0m\u001b[1;33m(\u001b[0m\u001b[1;34m\"Can only use .dt accessor with datetimelike values\"\u001b[0m\u001b[1;33m)\u001b[0m\u001b[1;33m\u001b[0m\u001b[1;33m\u001b[0m\u001b[0m\n\u001b[0m",
      "\u001b[1;31mAttributeError\u001b[0m: Can only use .dt accessor with datetimelike values"
     ]
    }
   ],
   "source": [
    "SBP_Recode3['new_date'] = SBP_Recode3['EXAM_DATE'].dt.date"
   ]
  },
  {
   "cell_type": "code",
   "execution_count": 80,
   "metadata": {
    "collapsed": true
   },
   "outputs": [
    {
     "name": "stdout",
     "output_type": "stream",
     "text": [
      "<class 'pandas.core.frame.DataFrame'>\n",
      "RangeIndex: 448232 entries, 0 to 448231\n",
      "Data columns (total 7 columns):\n",
      " #   Column           Non-Null Count   Dtype  \n",
      "---  ------           --------------   -----  \n",
      " 0   ORDER_CODE       448232 non-null  object \n",
      " 1   RESULT           448232 non-null  float64\n",
      " 2   UPPER_VALUE      448232 non-null  float64\n",
      " 3   LOWER_VALUE      448232 non-null  float64\n",
      " 4   EXAM_DATE        448160 non-null  object \n",
      " 5   EXAMINEE_AGE     447036 non-null  float64\n",
      " 6   EXAMINEE_GENDER  447036 non-null  object \n",
      "dtypes: float64(4), object(3)\n",
      "memory usage: 23.9+ MB\n"
     ]
    }
   ],
   "source": [
    "SBP_Recode3"
   ]
  },
  {
   "cell_type": "code",
   "execution_count": null,
   "metadata": {},
   "outputs": [],
   "source": []
  },
  {
   "cell_type": "code",
   "execution_count": 9,
   "metadata": {},
   "outputs": [],
   "source": [
    "SBP_Recode = pd.concat([SBP_Recode1,SBP_Recode2,SBP_Recode3],axis = 0)"
   ]
  },
  {
   "cell_type": "code",
   "execution_count": 10,
   "metadata": {
    "collapsed": true
   },
   "outputs": [
    {
     "data": {
      "text/html": [
       "<div>\n",
       "<style scoped>\n",
       "    .dataframe tbody tr th:only-of-type {\n",
       "        vertical-align: middle;\n",
       "    }\n",
       "\n",
       "    .dataframe tbody tr th {\n",
       "        vertical-align: top;\n",
       "    }\n",
       "\n",
       "    .dataframe thead th {\n",
       "        text-align: right;\n",
       "    }\n",
       "</style>\n",
       "<table border=\"1\" class=\"dataframe\">\n",
       "  <thead>\n",
       "    <tr style=\"text-align: right;\">\n",
       "      <th></th>\n",
       "      <th>ORDER_CODE</th>\n",
       "      <th>RESULT</th>\n",
       "      <th>UPPER_VALUE</th>\n",
       "      <th>LOWER_VALUE</th>\n",
       "      <th>EXAM_DATE</th>\n",
       "      <th>EXAMINEE_AGE</th>\n",
       "      <th>EXAMINEE_GENDER</th>\n",
       "    </tr>\n",
       "  </thead>\n",
       "  <tbody>\n",
       "    <tr>\n",
       "      <th>0</th>\n",
       "      <td>606898462371</td>\n",
       "      <td>124.0</td>\n",
       "      <td>NaN</td>\n",
       "      <td>NaN</td>\n",
       "      <td>2020-02-29 00:00:00</td>\n",
       "      <td>73.0</td>\n",
       "      <td>M</td>\n",
       "    </tr>\n",
       "    <tr>\n",
       "      <th>1</th>\n",
       "      <td>485194753251</td>\n",
       "      <td>138.0</td>\n",
       "      <td>NaN</td>\n",
       "      <td>NaN</td>\n",
       "      <td>2020-01-12 00:00:00</td>\n",
       "      <td>60.0</td>\n",
       "      <td>MW</td>\n",
       "    </tr>\n",
       "    <tr>\n",
       "      <th>2</th>\n",
       "      <td>064707165127</td>\n",
       "      <td>154.0</td>\n",
       "      <td>NaN</td>\n",
       "      <td>NaN</td>\n",
       "      <td>2020-01-13 00:00:00</td>\n",
       "      <td>73.0</td>\n",
       "      <td>M</td>\n",
       "    </tr>\n",
       "    <tr>\n",
       "      <th>3</th>\n",
       "      <td>074452138242</td>\n",
       "      <td>136.0</td>\n",
       "      <td>NaN</td>\n",
       "      <td>NaN</td>\n",
       "      <td>2020-01-14 00:00:00</td>\n",
       "      <td>48.0</td>\n",
       "      <td>MW</td>\n",
       "    </tr>\n",
       "    <tr>\n",
       "      <th>4</th>\n",
       "      <td>016056732550</td>\n",
       "      <td>100.0</td>\n",
       "      <td>NaN</td>\n",
       "      <td>NaN</td>\n",
       "      <td>2020-01-11 00:00:00</td>\n",
       "      <td>51.0</td>\n",
       "      <td>MW</td>\n",
       "    </tr>\n",
       "    <tr>\n",
       "      <th>...</th>\n",
       "      <td>...</td>\n",
       "      <td>...</td>\n",
       "      <td>...</td>\n",
       "      <td>...</td>\n",
       "      <td>...</td>\n",
       "      <td>...</td>\n",
       "      <td>...</td>\n",
       "    </tr>\n",
       "    <tr>\n",
       "      <th>448227</th>\n",
       "      <td>5ki4jsegr15kqxk</td>\n",
       "      <td>146.0</td>\n",
       "      <td>139.0</td>\n",
       "      <td>90.0</td>\n",
       "      <td>2019-07-24 00:00:00</td>\n",
       "      <td>60.0</td>\n",
       "      <td>MW</td>\n",
       "    </tr>\n",
       "    <tr>\n",
       "      <th>448228</th>\n",
       "      <td>5ki4jsnl8m2po8d</td>\n",
       "      <td>138.0</td>\n",
       "      <td>140.0</td>\n",
       "      <td>90.0</td>\n",
       "      <td>2019-07-17 15:57:52</td>\n",
       "      <td>44.0</td>\n",
       "      <td>M</td>\n",
       "    </tr>\n",
       "    <tr>\n",
       "      <th>448229</th>\n",
       "      <td>5ki4jspd0scmyxu</td>\n",
       "      <td>127.0</td>\n",
       "      <td>139.0</td>\n",
       "      <td>90.0</td>\n",
       "      <td>2020-11-28 08:09:46</td>\n",
       "      <td>52.0</td>\n",
       "      <td>M</td>\n",
       "    </tr>\n",
       "    <tr>\n",
       "      <th>448230</th>\n",
       "      <td>5ki4jsxnazkvy3y</td>\n",
       "      <td>135.0</td>\n",
       "      <td>140.0</td>\n",
       "      <td>90.0</td>\n",
       "      <td>2019-07-24 15:05:14</td>\n",
       "      <td>31.0</td>\n",
       "      <td>M</td>\n",
       "    </tr>\n",
       "    <tr>\n",
       "      <th>448231</th>\n",
       "      <td>5ki4jsxdk9xgmgq</td>\n",
       "      <td>147.0</td>\n",
       "      <td>139.0</td>\n",
       "      <td>90.0</td>\n",
       "      <td>2019-07-25 00:00:00</td>\n",
       "      <td>58.0</td>\n",
       "      <td>M</td>\n",
       "    </tr>\n",
       "  </tbody>\n",
       "</table>\n",
       "<p>1448232 rows × 7 columns</p>\n",
       "</div>"
      ],
      "text/plain": [
       "             ORDER_CODE  RESULT  UPPER_VALUE  LOWER_VALUE  \\\n",
       "0          606898462371   124.0          NaN          NaN   \n",
       "1          485194753251   138.0          NaN          NaN   \n",
       "2          064707165127   154.0          NaN          NaN   \n",
       "3          074452138242   136.0          NaN          NaN   \n",
       "4          016056732550   100.0          NaN          NaN   \n",
       "...                 ...     ...          ...          ...   \n",
       "448227  5ki4jsegr15kqxk   146.0        139.0         90.0   \n",
       "448228  5ki4jsnl8m2po8d   138.0        140.0         90.0   \n",
       "448229  5ki4jspd0scmyxu   127.0        139.0         90.0   \n",
       "448230  5ki4jsxnazkvy3y   135.0        140.0         90.0   \n",
       "448231  5ki4jsxdk9xgmgq   147.0        139.0         90.0   \n",
       "\n",
       "                  EXAM_DATE  EXAMINEE_AGE EXAMINEE_GENDER  \n",
       "0       2020-02-29 00:00:00          73.0               M  \n",
       "1       2020-01-12 00:00:00          60.0              MW  \n",
       "2       2020-01-13 00:00:00          73.0               M  \n",
       "3       2020-01-14 00:00:00          48.0              MW  \n",
       "4       2020-01-11 00:00:00          51.0              MW  \n",
       "...                     ...           ...             ...  \n",
       "448227  2019-07-24 00:00:00          60.0              MW  \n",
       "448228  2019-07-17 15:57:52          44.0               M  \n",
       "448229  2020-11-28 08:09:46          52.0               M  \n",
       "448230  2019-07-24 15:05:14          31.0               M  \n",
       "448231  2019-07-25 00:00:00          58.0               M  \n",
       "\n",
       "[1448232 rows x 7 columns]"
      ]
     },
     "execution_count": 10,
     "metadata": {},
     "output_type": "execute_result"
    }
   ],
   "source": [
    "SBP_Recode"
   ]
  },
  {
   "cell_type": "code",
   "execution_count": 52,
   "metadata": {},
   "outputs": [],
   "source": [
    "SBP_Recode.to_pickle(r\"C:\\Users\\13670\\Desktop\\待完成\\006 时间序列模型\\SBP\\20201130.SBP_Recode.pkl\")"
   ]
  },
  {
   "cell_type": "markdown",
   "metadata": {},
   "source": [
    "### 数据展现"
   ]
  },
  {
   "cell_type": "code",
   "execution_count": 53,
   "metadata": {},
   "outputs": [],
   "source": [
    "SBP_Recode_C = SBP_Recode.copy()"
   ]
  },
  {
   "cell_type": "code",
   "execution_count": 13,
   "metadata": {
    "collapsed": true
   },
   "outputs": [
    {
     "data": {
      "image/png": "[encoded data removed]",
      "text/plain": [
       "<Figure size 720x288 with 1 Axes>"
      ]
     },
     "metadata": {
      "needs_background": "light"
     },
     "output_type": "display_data"
    }
   ],
   "source": [
    "import matplotlib.pyplot as plt\n",
    "\n",
    "plt.figure(figsize = (10,4))\n",
    "SBP_Recode_C.RESULT.dropna().plot(kind='kde', xlim=(min(SBP_Recode_C.RESULT)-10,max(SBP_Recode_C.RESULT)+10),label = \"SBP_Value\")\n",
    "plt.legend()\n",
    "plt.show()"
   ]
  },
  {
   "cell_type": "code",
   "execution_count": 15,
   "metadata": {
    "collapsed": true
   },
   "outputs": [
    {
     "data": {
      "image/png": "[encoded data removed]",
      "text/plain": [
       "<Figure size 720x288 with 1 Axes>"
      ]
     },
     "metadata": {
      "needs_background": "light"
     },
     "output_type": "display_data"
    },
    {
     "data": {
      "image/png": "[encoded data removed]",
      "text/plain": [
       "<Figure size 720x288 with 1 Axes>"
      ]
     },
     "metadata": {
      "needs_background": "light"
     },
     "output_type": "display_data"
    }
   ],
   "source": [
    "SBP_Recode_C1 = SBP_Recode_C.loc[SBP_Recode_C.RESULT <100 ,:]\n",
    "\n",
    "plt.figure(figsize = (10,4))\n",
    "SBP_Recode_C1.RESULT.dropna().plot(kind='kde', xlim=(min(SBP_Recode_C1.RESULT)-10,max(SBP_Recode_C1.RESULT)+10),label = \"SBP_Value\")\n",
    "plt.legend()\n",
    "plt.show()\n",
    "\n",
    "\n",
    "SBP_Recode_C2 = SBP_Recode_C.loc[SBP_Recode_C.RESULT >150 ,:]\n",
    "\n",
    "plt.figure(figsize = (10,4))\n",
    "SBP_Recode_C2.RESULT.dropna().plot(kind='kde', xlim=(min(SBP_Recode_C2.RESULT)-10,max(SBP_Recode_C2.RESULT)+10),label = \"SBP_Value\")\n",
    "plt.legend()\n",
    "plt.show()"
   ]
  },
  {
   "cell_type": "code",
   "execution_count": 81,
   "metadata": {},
   "outputs": [],
   "source": [
    "SBP_Recode1.index = pd.DatetimeIndex(SBP_Recode1.new_date)"
   ]
  },
  {
   "cell_type": "code",
   "execution_count": 86,
   "metadata": {
    "collapsed": true
   },
   "outputs": [
    {
     "data": {
      "text/plain": [
       "[DatetimeIndex(['2020-02-29', '2020-01-12', '2020-01-13', '2020-01-14',\n",
       "                '2020-01-11', '2020-01-09', '2020-01-04', '2020-01-09',\n",
       "                '2020-01-08', '2020-01-11',\n",
       "                ...\n",
       "                '2019-09-26', '2019-11-24', '2019-11-02', '2019-12-20',\n",
       "                '2019-10-13', '2019-12-29', '2019-10-13', '2019-07-17',\n",
       "                '2019-11-27', '2019-11-09'],\n",
       "               dtype='datetime64[ns]', name='new_date', length=500000, freq=None),\n",
       " Index(['ORDER_CODE', 'RESULT', 'UPPER_VALUE', 'LOWER_VALUE', 'EXAM_DATE',\n",
       "        'EXAMINEE_AGE', 'EXAMINEE_GENDER', 'new_date'],\n",
       "       dtype='object')]"
      ]
     },
     "execution_count": 86,
     "metadata": {},
     "output_type": "execute_result"
    }
   ],
   "source": [
    "SBP_Recode1.axes"
   ]
  },
  {
   "cell_type": "code",
   "execution_count": 83,
   "metadata": {},
   "outputs": [],
   "source": [
    "SBP_Recode1 = SBP_Recode1.dropna(subset= ['EXAM_DATE','EXAMINEE_AGE','EXAMINEE_GENDER'])"
   ]
  },
  {
   "cell_type": "code",
   "execution_count": 92,
   "metadata": {},
   "outputs": [],
   "source": [
    "SBP_W = pd.DataFrame(SBP_Recode1.RESULT.resample(\"W\").agg([len,np.mean]))\n",
    "SBP_D = pd.DataFrame(SBP_Recode1.RESULT.resample(\"D\").agg([len,np.mean]))"
   ]
  },
  {
   "cell_type": "code",
   "execution_count": 93,
   "metadata": {
    "collapsed": true
   },
   "outputs": [
    {
     "data": {
      "text/html": [
       "<div>\n",
       "<style scoped>\n",
       "    .dataframe tbody tr th:only-of-type {\n",
       "        vertical-align: middle;\n",
       "    }\n",
       "\n",
       "    .dataframe tbody tr th {\n",
       "        vertical-align: top;\n",
       "    }\n",
       "\n",
       "    .dataframe thead th {\n",
       "        text-align: right;\n",
       "    }\n",
       "</style>\n",
       "<table border=\"1\" class=\"dataframe\">\n",
       "  <thead>\n",
       "    <tr style=\"text-align: right;\">\n",
       "      <th></th>\n",
       "      <th>len</th>\n",
       "      <th>mean</th>\n",
       "    </tr>\n",
       "    <tr>\n",
       "      <th>new_date</th>\n",
       "      <th></th>\n",
       "      <th></th>\n",
       "    </tr>\n",
       "  </thead>\n",
       "  <tbody>\n",
       "    <tr>\n",
       "      <th>2015-08-23</th>\n",
       "      <td>4.0</td>\n",
       "      <td>120.250000</td>\n",
       "    </tr>\n",
       "    <tr>\n",
       "      <th>2015-08-30</th>\n",
       "      <td>18.0</td>\n",
       "      <td>119.944444</td>\n",
       "    </tr>\n",
       "    <tr>\n",
       "      <th>2015-09-06</th>\n",
       "      <td>69.0</td>\n",
       "      <td>110.782609</td>\n",
       "    </tr>\n",
       "    <tr>\n",
       "      <th>2015-09-13</th>\n",
       "      <td>61.0</td>\n",
       "      <td>117.229508</td>\n",
       "    </tr>\n",
       "    <tr>\n",
       "      <th>2015-09-20</th>\n",
       "      <td>26.0</td>\n",
       "      <td>122.576923</td>\n",
       "    </tr>\n",
       "    <tr>\n",
       "      <th>...</th>\n",
       "      <td>...</td>\n",
       "      <td>...</td>\n",
       "    </tr>\n",
       "    <tr>\n",
       "      <th>2020-05-10</th>\n",
       "      <td>6121.0</td>\n",
       "      <td>131.554811</td>\n",
       "    </tr>\n",
       "    <tr>\n",
       "      <th>2020-05-17</th>\n",
       "      <td>16729.0</td>\n",
       "      <td>131.217287</td>\n",
       "    </tr>\n",
       "    <tr>\n",
       "      <th>2020-05-24</th>\n",
       "      <td>13263.0</td>\n",
       "      <td>130.225892</td>\n",
       "    </tr>\n",
       "    <tr>\n",
       "      <th>2020-05-31</th>\n",
       "      <td>9985.0</td>\n",
       "      <td>130.139409</td>\n",
       "    </tr>\n",
       "    <tr>\n",
       "      <th>2020-06-07</th>\n",
       "      <td>631.0</td>\n",
       "      <td>129.717908</td>\n",
       "    </tr>\n",
       "  </tbody>\n",
       "</table>\n",
       "<p>251 rows × 2 columns</p>\n",
       "</div>"
      ],
      "text/plain": [
       "                len        mean\n",
       "new_date                       \n",
       "2015-08-23      4.0  120.250000\n",
       "2015-08-30     18.0  119.944444\n",
       "2015-09-06     69.0  110.782609\n",
       "2015-09-13     61.0  117.229508\n",
       "2015-09-20     26.0  122.576923\n",
       "...             ...         ...\n",
       "2020-05-10   6121.0  131.554811\n",
       "2020-05-17  16729.0  131.217287\n",
       "2020-05-24  13263.0  130.225892\n",
       "2020-05-31   9985.0  130.139409\n",
       "2020-06-07    631.0  129.717908\n",
       "\n",
       "[251 rows x 2 columns]"
      ]
     },
     "execution_count": 93,
     "metadata": {},
     "output_type": "execute_result"
    }
   ],
   "source": [
    "SBP_W"
   ]
  },
  {
   "cell_type": "code",
   "execution_count": 95,
   "metadata": {
    "collapsed": true
   },
   "outputs": [
    {
     "data": {
      "image/png": "[encoded data removed]",
      "text/plain": [
       "<Figure size 432x288 with 1 Axes>"
      ]
     },
     "metadata": {
      "needs_background": "light"
     },
     "output_type": "display_data"
    },
    {
     "data": {
      "image/png": "[encoded data removed]",
      "text/plain": [
       "<Figure size 432x288 with 1 Axes>"
      ]
     },
     "metadata": {
      "needs_background": "light"
     },
     "output_type": "display_data"
    },
    {
     "data": {
      "image/png": "[encoded data removed]",
      "text/plain": [
       "<Figure size 432x288 with 1 Axes>"
      ]
     },
     "metadata": {
      "needs_background": "light"
     },
     "output_type": "display_data"
    },
    {
     "data": {
      "image/png": "[encoded data removed]",
      "text/plain": [
       "<Figure size 432x288 with 1 Axes>"
      ]
     },
     "metadata": {
      "needs_background": "light"
     },
     "output_type": "display_data"
    }
   ],
   "source": [
    "import matplotlib.pyplot as plt\n",
    "\n",
    "data = [SBP_W[\"len\"],SBP_D[\"len\"],SBP_W[\"mean\"],SBP_D[\"mean\"]]\n",
    "color = [\"red\",\"blue\",\"red\",\"blue\"]\n",
    "title = [\"PersonCountWeekly\",\"PersonCountDaily\",\"ResultWeekly\",\"ResultDaily\"]\n",
    "\n",
    "for i in range(0,4):\n",
    "    data[i].dropna().plot(color = color[i])\n",
    "    plt.title(title[i])\n",
    "    plt.show()"
   ]
  },
  {
   "cell_type": "code",
   "execution_count": 98,
   "metadata": {
    "collapsed": true
   },
   "outputs": [
    {
     "data": {
      "text/html": [
       "<div>\n",
       "<style scoped>\n",
       "    .dataframe tbody tr th:only-of-type {\n",
       "        vertical-align: middle;\n",
       "    }\n",
       "\n",
       "    .dataframe tbody tr th {\n",
       "        vertical-align: top;\n",
       "    }\n",
       "\n",
       "    .dataframe thead th {\n",
       "        text-align: right;\n",
       "    }\n",
       "</style>\n",
       "<table border=\"1\" class=\"dataframe\">\n",
       "  <thead>\n",
       "    <tr style=\"text-align: right;\">\n",
       "      <th></th>\n",
       "      <th>ORDER_CODE</th>\n",
       "      <th>RESULT</th>\n",
       "      <th>UPPER_VALUE</th>\n",
       "      <th>LOWER_VALUE</th>\n",
       "      <th>EXAM_DATE</th>\n",
       "      <th>EXAMINEE_AGE</th>\n",
       "      <th>EXAMINEE_GENDER</th>\n",
       "      <th>new_date</th>\n",
       "    </tr>\n",
       "    <tr>\n",
       "      <th>new_date</th>\n",
       "      <th></th>\n",
       "      <th></th>\n",
       "      <th></th>\n",
       "      <th></th>\n",
       "      <th></th>\n",
       "      <th></th>\n",
       "      <th></th>\n",
       "      <th></th>\n",
       "    </tr>\n",
       "  </thead>\n",
       "  <tbody>\n",
       "    <tr>\n",
       "      <th>2019-12-24</th>\n",
       "      <td>640979670195</td>\n",
       "      <td>163.0</td>\n",
       "      <td>NaN</td>\n",
       "      <td>NaN</td>\n",
       "      <td>2019-12-24 00:00:00</td>\n",
       "      <td>64</td>\n",
       "      <td>M</td>\n",
       "      <td>2019-12-24</td>\n",
       "    </tr>\n",
       "    <tr>\n",
       "      <th>2019-11-08</th>\n",
       "      <td>286417790901</td>\n",
       "      <td>117.0</td>\n",
       "      <td>140.0</td>\n",
       "      <td>90.0</td>\n",
       "      <td>2019-11-08 00:00:00</td>\n",
       "      <td>28</td>\n",
       "      <td>M</td>\n",
       "      <td>2019-11-08</td>\n",
       "    </tr>\n",
       "    <tr>\n",
       "      <th>2016-04-17</th>\n",
       "      <td>000002165753</td>\n",
       "      <td>118.0</td>\n",
       "      <td>139.0</td>\n",
       "      <td>90.0</td>\n",
       "      <td>2016-04-17 09:00:00</td>\n",
       "      <td>27</td>\n",
       "      <td>M</td>\n",
       "      <td>2016-04-17</td>\n",
       "    </tr>\n",
       "    <tr>\n",
       "      <th>2019-08-31</th>\n",
       "      <td>854553035388</td>\n",
       "      <td>127.0</td>\n",
       "      <td>139.0</td>\n",
       "      <td>90.0</td>\n",
       "      <td>2019-08-31 00:00:00</td>\n",
       "      <td>62</td>\n",
       "      <td>MW</td>\n",
       "      <td>2019-08-31</td>\n",
       "    </tr>\n",
       "    <tr>\n",
       "      <th>2016-03-13</th>\n",
       "      <td>000272873619</td>\n",
       "      <td>129.0</td>\n",
       "      <td>139.0</td>\n",
       "      <td>90.0</td>\n",
       "      <td>2016-03-13 09:00:00</td>\n",
       "      <td>60</td>\n",
       "      <td>MW</td>\n",
       "      <td>2016-03-13</td>\n",
       "    </tr>\n",
       "    <tr>\n",
       "      <th>...</th>\n",
       "      <td>...</td>\n",
       "      <td>...</td>\n",
       "      <td>...</td>\n",
       "      <td>...</td>\n",
       "      <td>...</td>\n",
       "      <td>...</td>\n",
       "      <td>...</td>\n",
       "      <td>...</td>\n",
       "    </tr>\n",
       "    <tr>\n",
       "      <th>2019-12-29</th>\n",
       "      <td>466856461550</td>\n",
       "      <td>121.0</td>\n",
       "      <td>139.0</td>\n",
       "      <td>90.0</td>\n",
       "      <td>2019-12-29 00:00:00</td>\n",
       "      <td>50</td>\n",
       "      <td>M</td>\n",
       "      <td>2019-12-29</td>\n",
       "    </tr>\n",
       "    <tr>\n",
       "      <th>2019-10-13</th>\n",
       "      <td>466851467610</td>\n",
       "      <td>119.0</td>\n",
       "      <td>139.0</td>\n",
       "      <td>90.0</td>\n",
       "      <td>2019-10-13 00:00:00</td>\n",
       "      <td>55</td>\n",
       "      <td>MW</td>\n",
       "      <td>2019-10-13</td>\n",
       "    </tr>\n",
       "    <tr>\n",
       "      <th>2019-07-17</th>\n",
       "      <td>466850590889</td>\n",
       "      <td>114.0</td>\n",
       "      <td>139.0</td>\n",
       "      <td>89.0</td>\n",
       "      <td>2019-07-17 00:00:00</td>\n",
       "      <td>54</td>\n",
       "      <td>MW</td>\n",
       "      <td>2019-07-17</td>\n",
       "    </tr>\n",
       "    <tr>\n",
       "      <th>2019-11-27</th>\n",
       "      <td>466852027152</td>\n",
       "      <td>136.0</td>\n",
       "      <td>139.0</td>\n",
       "      <td>90.0</td>\n",
       "      <td>2019-11-27 00:00:00</td>\n",
       "      <td>28</td>\n",
       "      <td>M</td>\n",
       "      <td>2019-11-27</td>\n",
       "    </tr>\n",
       "    <tr>\n",
       "      <th>2019-11-09</th>\n",
       "      <td>466867862706</td>\n",
       "      <td>136.0</td>\n",
       "      <td>139.0</td>\n",
       "      <td>90.0</td>\n",
       "      <td>2019-11-09 00:00:00</td>\n",
       "      <td>50</td>\n",
       "      <td>M</td>\n",
       "      <td>2019-11-09</td>\n",
       "    </tr>\n",
       "  </tbody>\n",
       "</table>\n",
       "<p>410174 rows × 8 columns</p>\n",
       "</div>"
      ],
      "text/plain": [
       "              ORDER_CODE  RESULT  UPPER_VALUE  LOWER_VALUE  \\\n",
       "new_date                                                     \n",
       "2019-12-24  640979670195   163.0          NaN          NaN   \n",
       "2019-11-08  286417790901   117.0        140.0         90.0   \n",
       "2016-04-17  000002165753   118.0        139.0         90.0   \n",
       "2019-08-31  854553035388   127.0        139.0         90.0   \n",
       "2016-03-13  000272873619   129.0        139.0         90.0   \n",
       "...                  ...     ...          ...          ...   \n",
       "2019-12-29  466856461550   121.0        139.0         90.0   \n",
       "2019-10-13  466851467610   119.0        139.0         90.0   \n",
       "2019-07-17  466850590889   114.0        139.0         89.0   \n",
       "2019-11-27  466852027152   136.0        139.0         90.0   \n",
       "2019-11-09  466867862706   136.0        139.0         90.0   \n",
       "\n",
       "                     EXAM_DATE  EXAMINEE_AGE EXAMINEE_GENDER    new_date  \n",
       "new_date                                                                  \n",
       "2019-12-24 2019-12-24 00:00:00            64               M  2019-12-24  \n",
       "2019-11-08 2019-11-08 00:00:00            28               M  2019-11-08  \n",
       "2016-04-17 2016-04-17 09:00:00            27               M  2016-04-17  \n",
       "2019-08-31 2019-08-31 00:00:00            62              MW  2019-08-31  \n",
       "2016-03-13 2016-03-13 09:00:00            60              MW  2016-03-13  \n",
       "...                        ...           ...             ...         ...  \n",
       "2019-12-29 2019-12-29 00:00:00            50               M  2019-12-29  \n",
       "2019-10-13 2019-10-13 00:00:00            55              MW  2019-10-13  \n",
       "2019-07-17 2019-07-17 00:00:00            54              MW  2019-07-17  \n",
       "2019-11-27 2019-11-27 00:00:00            28               M  2019-11-27  \n",
       "2019-11-09 2019-11-09 00:00:00            50               M  2019-11-09  \n",
       "\n",
       "[410174 rows x 8 columns]"
      ]
     },
     "execution_count": 98,
     "metadata": {},
     "output_type": "execute_result"
    }
   ],
   "source": [
    "SBP_Recode1.loc[~SBP_Recode1.index.year.isin([2015,2020]),:]"
   ]
  },
  {
   "cell_type": "code",
   "execution_count": 102,
   "metadata": {},
   "outputs": [],
   "source": [
    "SBP_D2015 = SBP_D.loc[SBP_D.index.year == 2015,:]\n",
    "SBP_D2020 = SBP_D.loc[SBP_D.index.year == 2020,:]"
   ]
  },
  {
   "cell_type": "code",
   "execution_count": 104,
   "metadata": {
    "collapsed": true
   },
   "outputs": [
    {
     "data": {
      "text/plain": [
       "<AxesSubplot:xlabel='new_date'>"
      ]
     },
     "execution_count": 104,
     "metadata": {},
     "output_type": "execute_result"
    },
    {
     "data": {
      "image/png": "[encoded data removed]",
      "text/plain": [
       "<Figure size 432x288 with 1 Axes>"
      ]
     },
     "metadata": {
      "needs_background": "light"
     },
     "output_type": "display_data"
    }
   ],
   "source": [
    "SBP_D2015[\"len\"].plot()"
   ]
  },
  {
   "cell_type": "code",
   "execution_count": 105,
   "metadata": {
    "collapsed": true
   },
   "outputs": [
    {
     "data": {
      "text/plain": [
       "<AxesSubplot:xlabel='new_date'>"
      ]
     },
     "execution_count": 105,
     "metadata": {},
     "output_type": "execute_result"
    },
    {
     "data": {
      "image/png": "[encoded data removed]",
      "text/plain": [
       "<Figure size 432x288 with 1 Axes>"
      ]
     },
     "metadata": {
      "needs_background": "light"
     },
     "output_type": "display_data"
    }
   ],
   "source": [
    "SBP_D2020[\"len\"].plot()"
   ]
  },
  {
   "cell_type": "code",
   "execution_count": null,
   "metadata": {},
   "outputs": [],
   "source": []
  },
  {
   "cell_type": "code",
   "execution_count": null,
   "metadata": {},
   "outputs": [],
   "source": []
  },
  {
   "cell_type": "code",
   "execution_count": null,
   "metadata": {},
   "outputs": [],
   "source": []
  },
  {
   "cell_type": "markdown",
   "metadata": {},
   "source": [
    "### 血压随年龄的变化"
   ]
  },
  {
   "cell_type": "code",
   "execution_count": 106,
   "metadata": {
    "scrolled": true
   },
   "outputs": [
    {
     "data": {
      "image/png": "[encoded data removed]",
      "text/plain": [
       "<Figure size 432x288 with 1 Axes>"
      ]
     },
     "metadata": {
      "needs_background": "light"
     },
     "output_type": "display_data"
    }
   ],
   "source": [
    "SBP_Recode.EXAMINEE_AGE.plot(kind = \"kde\",label = \"SBP_age\")\n",
    "plt.legend()\n",
    "plt.show()"
   ]
  },
  {
   "cell_type": "code",
   "execution_count": 110,
   "metadata": {},
   "outputs": [],
   "source": [
    "SBP_Recode1_age = SBP_Recode1.groupby('EXAMINEE_AGE')['RESULT'].mean()"
   ]
  },
  {
   "cell_type": "code",
   "execution_count": 111,
   "metadata": {},
   "outputs": [
    {
     "data": {
      "text/plain": [
       "<AxesSubplot:xlabel='EXAMINEE_AGE'>"
      ]
     },
     "execution_count": 111,
     "metadata": {},
     "output_type": "execute_result"
    },
    {
     "data": {
      "image/png": "[encoded data removed]",
      "text/plain": [
       "<Figure size 432x288 with 1 Axes>"
      ]
     },
     "metadata": {
      "needs_background": "light"
     },
     "output_type": "display_data"
    }
   ],
   "source": [
    "SBP_Recode1_age.plot()"
   ]
  },
  {
   "cell_type": "code",
   "execution_count": 113,
   "metadata": {},
   "outputs": [
    {
     "data": {
      "text/html": [
       "<div>\n",
       "<style scoped>\n",
       "    .dataframe tbody tr th:only-of-type {\n",
       "        vertical-align: middle;\n",
       "    }\n",
       "\n",
       "    .dataframe tbody tr th {\n",
       "        vertical-align: top;\n",
       "    }\n",
       "\n",
       "    .dataframe thead th {\n",
       "        text-align: right;\n",
       "    }\n",
       "</style>\n",
       "<table border=\"1\" class=\"dataframe\">\n",
       "  <thead>\n",
       "    <tr style=\"text-align: right;\">\n",
       "      <th></th>\n",
       "      <th>ORDER_CODE</th>\n",
       "      <th>RESULT</th>\n",
       "      <th>UPPER_VALUE</th>\n",
       "      <th>LOWER_VALUE</th>\n",
       "      <th>EXAM_DATE</th>\n",
       "      <th>EXAMINEE_AGE</th>\n",
       "      <th>EXAMINEE_GENDER</th>\n",
       "      <th>new_date</th>\n",
       "    </tr>\n",
       "    <tr>\n",
       "      <th>new_date</th>\n",
       "      <th></th>\n",
       "      <th></th>\n",
       "      <th></th>\n",
       "      <th></th>\n",
       "      <th></th>\n",
       "      <th></th>\n",
       "      <th></th>\n",
       "      <th></th>\n",
       "    </tr>\n",
       "  </thead>\n",
       "  <tbody>\n",
       "    <tr>\n",
       "      <th>2020-02-29</th>\n",
       "      <td>606898462371</td>\n",
       "      <td>124.0</td>\n",
       "      <td>NaN</td>\n",
       "      <td>NaN</td>\n",
       "      <td>2020-02-29</td>\n",
       "      <td>73</td>\n",
       "      <td>M</td>\n",
       "      <td>2020-02-29</td>\n",
       "    </tr>\n",
       "    <tr>\n",
       "      <th>2020-01-12</th>\n",
       "      <td>485194753251</td>\n",
       "      <td>138.0</td>\n",
       "      <td>NaN</td>\n",
       "      <td>NaN</td>\n",
       "      <td>2020-01-12</td>\n",
       "      <td>60</td>\n",
       "      <td>MW</td>\n",
       "      <td>2020-01-12</td>\n",
       "    </tr>\n",
       "    <tr>\n",
       "      <th>2020-01-13</th>\n",
       "      <td>064707165127</td>\n",
       "      <td>154.0</td>\n",
       "      <td>NaN</td>\n",
       "      <td>NaN</td>\n",
       "      <td>2020-01-13</td>\n",
       "      <td>73</td>\n",
       "      <td>M</td>\n",
       "      <td>2020-01-13</td>\n",
       "    </tr>\n",
       "    <tr>\n",
       "      <th>2020-01-14</th>\n",
       "      <td>074452138242</td>\n",
       "      <td>136.0</td>\n",
       "      <td>NaN</td>\n",
       "      <td>NaN</td>\n",
       "      <td>2020-01-14</td>\n",
       "      <td>48</td>\n",
       "      <td>MW</td>\n",
       "      <td>2020-01-14</td>\n",
       "    </tr>\n",
       "    <tr>\n",
       "      <th>2020-01-11</th>\n",
       "      <td>016056732550</td>\n",
       "      <td>100.0</td>\n",
       "      <td>NaN</td>\n",
       "      <td>NaN</td>\n",
       "      <td>2020-01-11</td>\n",
       "      <td>51</td>\n",
       "      <td>MW</td>\n",
       "      <td>2020-01-11</td>\n",
       "    </tr>\n",
       "    <tr>\n",
       "      <th>...</th>\n",
       "      <td>...</td>\n",
       "      <td>...</td>\n",
       "      <td>...</td>\n",
       "      <td>...</td>\n",
       "      <td>...</td>\n",
       "      <td>...</td>\n",
       "      <td>...</td>\n",
       "      <td>...</td>\n",
       "    </tr>\n",
       "    <tr>\n",
       "      <th>2019-12-29</th>\n",
       "      <td>466856461550</td>\n",
       "      <td>121.0</td>\n",
       "      <td>139.0</td>\n",
       "      <td>90.0</td>\n",
       "      <td>2019-12-29</td>\n",
       "      <td>50</td>\n",
       "      <td>M</td>\n",
       "      <td>2019-12-29</td>\n",
       "    </tr>\n",
       "    <tr>\n",
       "      <th>2019-10-13</th>\n",
       "      <td>466851467610</td>\n",
       "      <td>119.0</td>\n",
       "      <td>139.0</td>\n",
       "      <td>90.0</td>\n",
       "      <td>2019-10-13</td>\n",
       "      <td>55</td>\n",
       "      <td>MW</td>\n",
       "      <td>2019-10-13</td>\n",
       "    </tr>\n",
       "    <tr>\n",
       "      <th>2019-07-17</th>\n",
       "      <td>466850590889</td>\n",
       "      <td>114.0</td>\n",
       "      <td>139.0</td>\n",
       "      <td>89.0</td>\n",
       "      <td>2019-07-17</td>\n",
       "      <td>54</td>\n",
       "      <td>MW</td>\n",
       "      <td>2019-07-17</td>\n",
       "    </tr>\n",
       "    <tr>\n",
       "      <th>2019-11-27</th>\n",
       "      <td>466852027152</td>\n",
       "      <td>136.0</td>\n",
       "      <td>139.0</td>\n",
       "      <td>90.0</td>\n",
       "      <td>2019-11-27</td>\n",
       "      <td>28</td>\n",
       "      <td>M</td>\n",
       "      <td>2019-11-27</td>\n",
       "    </tr>\n",
       "    <tr>\n",
       "      <th>2019-11-09</th>\n",
       "      <td>466867862706</td>\n",
       "      <td>136.0</td>\n",
       "      <td>139.0</td>\n",
       "      <td>90.0</td>\n",
       "      <td>2019-11-09</td>\n",
       "      <td>50</td>\n",
       "      <td>M</td>\n",
       "      <td>2019-11-09</td>\n",
       "    </tr>\n",
       "  </tbody>\n",
       "</table>\n",
       "<p>500000 rows × 8 columns</p>\n",
       "</div>"
      ],
      "text/plain": [
       "              ORDER_CODE  RESULT  UPPER_VALUE  LOWER_VALUE  EXAM_DATE  \\\n",
       "new_date                                                                \n",
       "2020-02-29  606898462371   124.0          NaN          NaN 2020-02-29   \n",
       "2020-01-12  485194753251   138.0          NaN          NaN 2020-01-12   \n",
       "2020-01-13  064707165127   154.0          NaN          NaN 2020-01-13   \n",
       "2020-01-14  074452138242   136.0          NaN          NaN 2020-01-14   \n",
       "2020-01-11  016056732550   100.0          NaN          NaN 2020-01-11   \n",
       "...                  ...     ...          ...          ...        ...   \n",
       "2019-12-29  466856461550   121.0        139.0         90.0 2019-12-29   \n",
       "2019-10-13  466851467610   119.0        139.0         90.0 2019-10-13   \n",
       "2019-07-17  466850590889   114.0        139.0         89.0 2019-07-17   \n",
       "2019-11-27  466852027152   136.0        139.0         90.0 2019-11-27   \n",
       "2019-11-09  466867862706   136.0        139.0         90.0 2019-11-09   \n",
       "\n",
       "            EXAMINEE_AGE EXAMINEE_GENDER    new_date  \n",
       "new_date                                              \n",
       "2020-02-29            73               M  2020-02-29  \n",
       "2020-01-12            60              MW  2020-01-12  \n",
       "2020-01-13            73               M  2020-01-13  \n",
       "2020-01-14            48              MW  2020-01-14  \n",
       "2020-01-11            51              MW  2020-01-11  \n",
       "...                  ...             ...         ...  \n",
       "2019-12-29            50               M  2019-12-29  \n",
       "2019-10-13            55              MW  2019-10-13  \n",
       "2019-07-17            54              MW  2019-07-17  \n",
       "2019-11-27            28               M  2019-11-27  \n",
       "2019-11-09            50               M  2019-11-09  \n",
       "\n",
       "[500000 rows x 8 columns]"
      ]
     },
     "execution_count": 113,
     "metadata": {},
     "output_type": "execute_result"
    }
   ],
   "source": [
    "SBP_Recode1"
   ]
  },
  {
   "cell_type": "code",
   "execution_count": 114,
   "metadata": {},
   "outputs": [
    {
     "data": {
      "text/plain": [
       "{'M', 'MW', 'UW'}"
      ]
     },
     "execution_count": 114,
     "metadata": {},
     "output_type": "execute_result"
    }
   ],
   "source": [
    "set(SBP_Recode1.EXAMINEE_GENDER)"
   ]
  },
  {
   "cell_type": "code",
   "execution_count": 123,
   "metadata": {},
   "outputs": [],
   "source": [
    "SBP_gender_age = pd.DataFrame(SBP_Recode1.groupby(['EXAMINEE_GENDER','EXAMINEE_AGE'])['RESULT'].mean())"
   ]
  },
  {
   "cell_type": "code",
   "execution_count": 127,
   "metadata": {},
   "outputs": [],
   "source": [
    "SBP_men = SBP_Recode1.loc[SBP_Recode1.EXAMINEE_GENDER == \"M\",:]\n",
    "SBP_men_age = pd.DataFrame(SBP_men.groupby(['EXAMINEE_AGE'])['RESULT'].mean())\n",
    "\n",
    "SBP_women = SBP_Recode1.loc[~SBP_Recode1.EXAMINEE_GENDER.isin([\"M\"]),:]\n",
    "SBP_women_age = pd.DataFrame(SBP_women.groupby(['EXAMINEE_AGE'])['RESULT'].mean())"
   ]
  },
  {
   "cell_type": "code",
   "execution_count": 129,
   "metadata": {},
   "outputs": [
    {
     "data": {
      "text/plain": [
       "<matplotlib.legend.Legend at 0x1c6f946fc88>"
      ]
     },
     "execution_count": 129,
     "metadata": {},
     "output_type": "execute_result"
    },
    {
     "data": {
      "image/png": "[encoded data removed]",
      "text/plain": [
       "<Figure size 432x288 with 1 Axes>"
      ]
     },
     "metadata": {
      "needs_background": "light"
     },
     "output_type": "display_data"
    }
   ],
   "source": [
    "plt.plot(SBP_men_age,label = \"men\")\n",
    "plt.plot(SBP_women_age,label = \"women\")\n",
    "plt.legend()"
   ]
  },
  {
   "cell_type": "code",
   "execution_count": 144,
   "metadata": {},
   "outputs": [],
   "source": [
    "from datetime import *"
   ]
  },
  {
   "cell_type": "code",
   "execution_count": 167,
   "metadata": {},
   "outputs": [],
   "source": [
    "SBP = pd.read_pickle(r\"C:\\Users\\13670\\Desktop\\待完成\\006 时间序列模型\\SBP\\spfull.pkl\")"
   ]
  },
  {
   "cell_type": "code",
   "execution_count": null,
   "metadata": {},
   "outputs": [],
   "source": []
  },
  {
   "cell_type": "code",
   "execution_count": null,
   "metadata": {},
   "outputs": [],
   "source": []
  },
  {
   "cell_type": "code",
   "execution_count": null,
   "metadata": {},
   "outputs": [],
   "source": []
  },
  {
   "cell_type": "code",
   "execution_count": null,
   "metadata": {},
   "outputs": [],
   "source": []
  },
  {
   "cell_type": "code",
   "execution_count": 169,
   "metadata": {},
   "outputs": [
    {
     "data": {
      "text/html": [
       "<div>\n",
       "<style scoped>\n",
       "    .dataframe tbody tr th:only-of-type {\n",
       "        vertical-align: middle;\n",
       "    }\n",
       "\n",
       "    .dataframe tbody tr th {\n",
       "        vertical-align: top;\n",
       "    }\n",
       "\n",
       "    .dataframe thead th {\n",
       "        text-align: right;\n",
       "    }\n",
       "</style>\n",
       "<table border=\"1\" class=\"dataframe\">\n",
       "  <thead>\n",
       "    <tr style=\"text-align: right;\">\n",
       "      <th></th>\n",
       "      <th>ORDER_CODE</th>\n",
       "      <th>result</th>\n",
       "      <th>EXAM_DATE</th>\n",
       "      <th>EXAMINEE_AGE</th>\n",
       "      <th>EXAMINEE_GENDER</th>\n",
       "    </tr>\n",
       "  </thead>\n",
       "  <tbody>\n",
       "    <tr>\n",
       "      <th>1436256</th>\n",
       "      <td>5ki3uy8ljbrzptq</td>\n",
       "      <td>119.0</td>\n",
       "      <td>0019-12-16 00:00:00</td>\n",
       "      <td>0.0</td>\n",
       "      <td>MW</td>\n",
       "    </tr>\n",
       "    <tr>\n",
       "      <th>70619</th>\n",
       "      <td>212315677299</td>\n",
       "      <td>104.0</td>\n",
       "      <td>2015-08-20 09:00:00</td>\n",
       "      <td>27.0</td>\n",
       "      <td>UW</td>\n",
       "    </tr>\n",
       "    <tr>\n",
       "      <th>43780</th>\n",
       "      <td>124661727877</td>\n",
       "      <td>121.0</td>\n",
       "      <td>2015-08-20 09:00:00</td>\n",
       "      <td>64.0</td>\n",
       "      <td>M</td>\n",
       "    </tr>\n",
       "    <tr>\n",
       "      <th>124068</th>\n",
       "      <td>395873622824</td>\n",
       "      <td>121.0</td>\n",
       "      <td>2015-08-21 09:00:00</td>\n",
       "      <td>29.0</td>\n",
       "      <td>M</td>\n",
       "    </tr>\n",
       "    <tr>\n",
       "      <th>298160</th>\n",
       "      <td>963095488334</td>\n",
       "      <td>135.0</td>\n",
       "      <td>2015-08-21 09:00:00</td>\n",
       "      <td>61.0</td>\n",
       "      <td>M</td>\n",
       "    </tr>\n",
       "    <tr>\n",
       "      <th>...</th>\n",
       "      <td>...</td>\n",
       "      <td>...</td>\n",
       "      <td>...</td>\n",
       "      <td>...</td>\n",
       "      <td>...</td>\n",
       "    </tr>\n",
       "    <tr>\n",
       "      <th>1362173</th>\n",
       "      <td>5khxbnxz6jdvl1q</td>\n",
       "      <td>94.0</td>\n",
       "      <td>NaT</td>\n",
       "      <td>NaN</td>\n",
       "      <td>None</td>\n",
       "    </tr>\n",
       "    <tr>\n",
       "      <th>1362182</th>\n",
       "      <td>5khxbon5tlutp3s</td>\n",
       "      <td>140.0</td>\n",
       "      <td>NaT</td>\n",
       "      <td>NaN</td>\n",
       "      <td>None</td>\n",
       "    </tr>\n",
       "    <tr>\n",
       "      <th>1362185</th>\n",
       "      <td>5khxbotgpxxd7v5</td>\n",
       "      <td>127.0</td>\n",
       "      <td>NaT</td>\n",
       "      <td>NaN</td>\n",
       "      <td>None</td>\n",
       "    </tr>\n",
       "    <tr>\n",
       "      <th>1362195</th>\n",
       "      <td>5khxbpcbzwr5dib</td>\n",
       "      <td>137.0</td>\n",
       "      <td>NaT</td>\n",
       "      <td>NaN</td>\n",
       "      <td>None</td>\n",
       "    </tr>\n",
       "    <tr>\n",
       "      <th>1394097</th>\n",
       "      <td>5ki09326h5vnara</td>\n",
       "      <td>156.0</td>\n",
       "      <td>NaT</td>\n",
       "      <td>NaN</td>\n",
       "      <td>None</td>\n",
       "    </tr>\n",
       "  </tbody>\n",
       "</table>\n",
       "<p>1451889 rows × 5 columns</p>\n",
       "</div>"
      ],
      "text/plain": [
       "              ORDER_CODE  result            EXAM_DATE  EXAMINEE_AGE  \\\n",
       "1436256  5ki3uy8ljbrzptq   119.0  0019-12-16 00:00:00           0.0   \n",
       "70619       212315677299   104.0  2015-08-20 09:00:00          27.0   \n",
       "43780       124661727877   121.0  2015-08-20 09:00:00          64.0   \n",
       "124068      395873622824   121.0  2015-08-21 09:00:00          29.0   \n",
       "298160      963095488334   135.0  2015-08-21 09:00:00          61.0   \n",
       "...                  ...     ...                  ...           ...   \n",
       "1362173  5khxbnxz6jdvl1q    94.0                  NaT           NaN   \n",
       "1362182  5khxbon5tlutp3s   140.0                  NaT           NaN   \n",
       "1362185  5khxbotgpxxd7v5   127.0                  NaT           NaN   \n",
       "1362195  5khxbpcbzwr5dib   137.0                  NaT           NaN   \n",
       "1394097  5ki09326h5vnara   156.0                  NaT           NaN   \n",
       "\n",
       "        EXAMINEE_GENDER  \n",
       "1436256              MW  \n",
       "70619                UW  \n",
       "43780                 M  \n",
       "124068                M  \n",
       "298160                M  \n",
       "...                 ...  \n",
       "1362173            None  \n",
       "1362182            None  \n",
       "1362185            None  \n",
       "1362195            None  \n",
       "1394097            None  \n",
       "\n",
       "[1451889 rows x 5 columns]"
      ]
     },
     "execution_count": 169,
     "metadata": {},
     "output_type": "execute_result"
    }
   ],
   "source": [
    "SBP.sort_values(by='EXAM_DATE')"
   ]
  },
  {
   "cell_type": "code",
   "execution_count": null,
   "metadata": {},
   "outputs": [],
   "source": []
  },
  {
   "cell_type": "code",
   "execution_count": null,
   "metadata": {},
   "outputs": [],
   "source": []
  },
  {
   "cell_type": "code",
   "execution_count": null,
   "metadata": {},
   "outputs": [],
   "source": []
  },
  {
   "cell_type": "code",
   "execution_count": null,
   "metadata": {},
   "outputs": [],
   "source": []
  },
  {
   "cell_type": "code",
   "execution_count": null,
   "metadata": {},
   "outputs": [],
   "source": []
  },
  {
   "cell_type": "code",
   "execution_count": null,
   "metadata": {},
   "outputs": [],
   "source": []
  },
  {
   "cell_type": "code",
   "execution_count": null,
   "metadata": {},
   "outputs": [],
   "source": []
  },
  {
   "cell_type": "code",
   "execution_count": null,
   "metadata": {},
   "outputs": [],
   "source": []
  },
  {
   "cell_type": "code",
   "execution_count": 146,
   "metadata": {},
   "outputs": [],
   "source": [
    "SBP = SBP.loc[(SBP['EXAM_DATE']>datetime(2016,1,2,23,59)) & (SBP['EXAM_DATE']<datetime(2020,1,1,0,0))]"
   ]
  },
  {
   "cell_type": "code",
   "execution_count": 151,
   "metadata": {},
   "outputs": [],
   "source": [
    "SBP = SBP.set_index('EXAM_DATE')"
   ]
  },
  {
   "cell_type": "code",
   "execution_count": 162,
   "metadata": {},
   "outputs": [
    {
     "data": {
      "text/plain": [
       "datetime.datetime(2016, 1, 2, 23, 59)"
      ]
     },
     "execution_count": 162,
     "metadata": {},
     "output_type": "execute_result"
    }
   ],
   "source": [
    "datetime(2016,1,2,23,59)"
   ]
  },
  {
   "cell_type": "code",
   "execution_count": 154,
   "metadata": {},
   "outputs": [],
   "source": [
    "SBP1 = pd.DataFrame(SBP.result.resample(\"W\").mean())"
   ]
  },
  {
   "cell_type": "code",
   "execution_count": 155,
   "metadata": {
    "collapsed": true
   },
   "outputs": [
    {
     "data": {
      "text/html": [
       "<div>\n",
       "<style scoped>\n",
       "    .dataframe tbody tr th:only-of-type {\n",
       "        vertical-align: middle;\n",
       "    }\n",
       "\n",
       "    .dataframe tbody tr th {\n",
       "        vertical-align: top;\n",
       "    }\n",
       "\n",
       "    .dataframe thead th {\n",
       "        text-align: right;\n",
       "    }\n",
       "</style>\n",
       "<table border=\"1\" class=\"dataframe\">\n",
       "  <thead>\n",
       "    <tr style=\"text-align: right;\">\n",
       "      <th></th>\n",
       "      <th>result</th>\n",
       "    </tr>\n",
       "    <tr>\n",
       "      <th>EXAM_DATE</th>\n",
       "      <th></th>\n",
       "    </tr>\n",
       "  </thead>\n",
       "  <tbody>\n",
       "    <tr>\n",
       "      <th>2016-01-10</th>\n",
       "      <td>122.421687</td>\n",
       "    </tr>\n",
       "    <tr>\n",
       "      <th>2016-01-17</th>\n",
       "      <td>122.420168</td>\n",
       "    </tr>\n",
       "    <tr>\n",
       "      <th>2016-01-24</th>\n",
       "      <td>132.273381</td>\n",
       "    </tr>\n",
       "    <tr>\n",
       "      <th>2016-01-31</th>\n",
       "      <td>133.394545</td>\n",
       "    </tr>\n",
       "    <tr>\n",
       "      <th>2016-02-07</th>\n",
       "      <td>134.868056</td>\n",
       "    </tr>\n",
       "    <tr>\n",
       "      <th>...</th>\n",
       "      <td>...</td>\n",
       "    </tr>\n",
       "    <tr>\n",
       "      <th>2019-12-08</th>\n",
       "      <td>132.317693</td>\n",
       "    </tr>\n",
       "    <tr>\n",
       "      <th>2019-12-15</th>\n",
       "      <td>131.094002</td>\n",
       "    </tr>\n",
       "    <tr>\n",
       "      <th>2019-12-22</th>\n",
       "      <td>131.394964</td>\n",
       "    </tr>\n",
       "    <tr>\n",
       "      <th>2019-12-29</th>\n",
       "      <td>131.821844</td>\n",
       "    </tr>\n",
       "    <tr>\n",
       "      <th>2020-01-05</th>\n",
       "      <td>131.755528</td>\n",
       "    </tr>\n",
       "  </tbody>\n",
       "</table>\n",
       "<p>209 rows × 1 columns</p>\n",
       "</div>"
      ],
      "text/plain": [
       "                result\n",
       "EXAM_DATE             \n",
       "2016-01-10  122.421687\n",
       "2016-01-17  122.420168\n",
       "2016-01-24  132.273381\n",
       "2016-01-31  133.394545\n",
       "2016-02-07  134.868056\n",
       "...                ...\n",
       "2019-12-08  132.317693\n",
       "2019-12-15  131.094002\n",
       "2019-12-22  131.394964\n",
       "2019-12-29  131.821844\n",
       "2020-01-05  131.755528\n",
       "\n",
       "[209 rows x 1 columns]"
      ]
     },
     "execution_count": 155,
     "metadata": {},
     "output_type": "execute_result"
    }
   ],
   "source": [
    "SBP1"
   ]
  },
  {
   "cell_type": "code",
   "execution_count": 160,
   "metadata": {},
   "outputs": [],
   "source": [
    "SBP.index = pd.DatetimeIndex(SBP.index)"
   ]
  },
  {
   "cell_type": "code",
   "execution_count": 163,
   "metadata": {
    "collapsed": true
   },
   "outputs": [
    {
     "data": {
      "text/html": [
       "<div>\n",
       "<style scoped>\n",
       "    .dataframe tbody tr th:only-of-type {\n",
       "        vertical-align: middle;\n",
       "    }\n",
       "\n",
       "    .dataframe tbody tr th {\n",
       "        vertical-align: top;\n",
       "    }\n",
       "\n",
       "    .dataframe thead th {\n",
       "        text-align: right;\n",
       "    }\n",
       "</style>\n",
       "<table border=\"1\" class=\"dataframe\">\n",
       "  <thead>\n",
       "    <tr style=\"text-align: right;\">\n",
       "      <th></th>\n",
       "      <th>ORDER_CODE</th>\n",
       "      <th>result</th>\n",
       "      <th>EXAMINEE_AGE</th>\n",
       "      <th>EXAMINEE_GENDER</th>\n",
       "    </tr>\n",
       "    <tr>\n",
       "      <th>EXAM_DATE</th>\n",
       "      <th></th>\n",
       "      <th></th>\n",
       "      <th></th>\n",
       "      <th></th>\n",
       "    </tr>\n",
       "  </thead>\n",
       "  <tbody>\n",
       "    <tr>\n",
       "      <th>2019-12-24</th>\n",
       "      <td>640979670195</td>\n",
       "      <td>163.0</td>\n",
       "      <td>64.0</td>\n",
       "      <td>M</td>\n",
       "    </tr>\n",
       "    <tr>\n",
       "      <th>2019-11-08</th>\n",
       "      <td>286417790901</td>\n",
       "      <td>117.0</td>\n",
       "      <td>28.0</td>\n",
       "      <td>M</td>\n",
       "    </tr>\n",
       "    <tr>\n",
       "      <th>2019-08-31</th>\n",
       "      <td>854553035388</td>\n",
       "      <td>127.0</td>\n",
       "      <td>62.0</td>\n",
       "      <td>MW</td>\n",
       "    </tr>\n",
       "    <tr>\n",
       "      <th>2019-09-04</th>\n",
       "      <td>000581956538</td>\n",
       "      <td>105.0</td>\n",
       "      <td>56.0</td>\n",
       "      <td>M</td>\n",
       "    </tr>\n",
       "    <tr>\n",
       "      <th>2019-12-03</th>\n",
       "      <td>688647772845</td>\n",
       "      <td>138.0</td>\n",
       "      <td>63.0</td>\n",
       "      <td>M</td>\n",
       "    </tr>\n",
       "    <tr>\n",
       "      <th>...</th>\n",
       "      <td>...</td>\n",
       "      <td>...</td>\n",
       "      <td>...</td>\n",
       "      <td>...</td>\n",
       "    </tr>\n",
       "    <tr>\n",
       "      <th>2019-08-31</th>\n",
       "      <td>5ki4uw77gqonabb</td>\n",
       "      <td>200.0</td>\n",
       "      <td>NaN</td>\n",
       "      <td>NaN</td>\n",
       "    </tr>\n",
       "    <tr>\n",
       "      <th>2019-12-08</th>\n",
       "      <td>5ki4uw9py4utddz</td>\n",
       "      <td>127.0</td>\n",
       "      <td>NaN</td>\n",
       "      <td>NaN</td>\n",
       "    </tr>\n",
       "    <tr>\n",
       "      <th>2019-08-24</th>\n",
       "      <td>5ki4uwcwaa6l2bz</td>\n",
       "      <td>138.0</td>\n",
       "      <td>NaN</td>\n",
       "      <td>NaN</td>\n",
       "    </tr>\n",
       "    <tr>\n",
       "      <th>2019-09-24</th>\n",
       "      <td>5ki4uwwz5nodubu</td>\n",
       "      <td>140.0</td>\n",
       "      <td>NaN</td>\n",
       "      <td>NaN</td>\n",
       "    </tr>\n",
       "    <tr>\n",
       "      <th>2019-11-07</th>\n",
       "      <td>5ki4ux2opkx67m1</td>\n",
       "      <td>119.0</td>\n",
       "      <td>NaN</td>\n",
       "      <td>NaN</td>\n",
       "    </tr>\n",
       "  </tbody>\n",
       "</table>\n",
       "<p>614860 rows × 4 columns</p>\n",
       "</div>"
      ],
      "text/plain": [
       "                 ORDER_CODE  result  EXAMINEE_AGE EXAMINEE_GENDER\n",
       "EXAM_DATE                                                        \n",
       "2019-12-24     640979670195   163.0          64.0               M\n",
       "2019-11-08     286417790901   117.0          28.0               M\n",
       "2019-08-31     854553035388   127.0          62.0              MW\n",
       "2019-09-04     000581956538   105.0          56.0               M\n",
       "2019-12-03     688647772845   138.0          63.0               M\n",
       "...                     ...     ...           ...             ...\n",
       "2019-08-31  5ki4uw77gqonabb   200.0           NaN             NaN\n",
       "2019-12-08  5ki4uw9py4utddz   127.0           NaN             NaN\n",
       "2019-08-24  5ki4uwcwaa6l2bz   138.0           NaN             NaN\n",
       "2019-09-24  5ki4uwwz5nodubu   140.0           NaN             NaN\n",
       "2019-11-07  5ki4ux2opkx67m1   119.0           NaN             NaN\n",
       "\n",
       "[614860 rows x 4 columns]"
      ]
     },
     "execution_count": 163,
     "metadata": {},
     "output_type": "execute_result"
    }
   ],
   "source": [
    "SBP.loc[SBP.index.year == 2019,:]"
   ]
  },
  {
   "cell_type": "code",
   "execution_count": 54,
   "metadata": {},
   "outputs": [],
   "source": [
    "bins = [0,20,55,100]\n",
    "bins_label = [\"young(<20)\",\"adult(20-55)\",\"senior(>55)\"]\n",
    "SBP_Recode_C[\"Age_label\"] = pd.cut(SBP_Recode_C['EXAMINEE_AGE'],bins = bins, labels = bins_label)"
   ]
  },
  {
   "cell_type": "code",
   "execution_count": 55,
   "metadata": {},
   "outputs": [],
   "source": [
    "SBP_Recode_C = SBP_Recode_C.dropna(subset = ['RESULT','EXAM_DATE','EXAMINEE_AGE',\"EXAMINEE_GENDER\"],axis = 0)"
   ]
  },
  {
   "cell_type": "code",
   "execution_count": 165,
   "metadata": {},
   "outputs": [
    {
     "data": {
      "text/html": [
       "<div>\n",
       "<style scoped>\n",
       "    .dataframe tbody tr th:only-of-type {\n",
       "        vertical-align: middle;\n",
       "    }\n",
       "\n",
       "    .dataframe tbody tr th {\n",
       "        vertical-align: top;\n",
       "    }\n",
       "\n",
       "    .dataframe thead th {\n",
       "        text-align: right;\n",
       "    }\n",
       "</style>\n",
       "<table border=\"1\" class=\"dataframe\">\n",
       "  <thead>\n",
       "    <tr style=\"text-align: right;\">\n",
       "      <th></th>\n",
       "      <th>ORDER_CODE</th>\n",
       "      <th>result</th>\n",
       "      <th>EXAMINEE_AGE</th>\n",
       "      <th>EXAMINEE_GENDER</th>\n",
       "    </tr>\n",
       "    <tr>\n",
       "      <th>EXAM_DATE</th>\n",
       "      <th></th>\n",
       "      <th></th>\n",
       "      <th></th>\n",
       "      <th></th>\n",
       "    </tr>\n",
       "  </thead>\n",
       "  <tbody>\n",
       "    <tr>\n",
       "      <th>2019-12-24 00:00:00</th>\n",
       "      <td>640979670195</td>\n",
       "      <td>163.0</td>\n",
       "      <td>64.0</td>\n",
       "      <td>M</td>\n",
       "    </tr>\n",
       "    <tr>\n",
       "      <th>2019-11-08 00:00:00</th>\n",
       "      <td>286417790901</td>\n",
       "      <td>117.0</td>\n",
       "      <td>28.0</td>\n",
       "      <td>M</td>\n",
       "    </tr>\n",
       "    <tr>\n",
       "      <th>2016-04-17 09:00:00</th>\n",
       "      <td>000002165753</td>\n",
       "      <td>118.0</td>\n",
       "      <td>27.0</td>\n",
       "      <td>M</td>\n",
       "    </tr>\n",
       "    <tr>\n",
       "      <th>2019-08-31 00:00:00</th>\n",
       "      <td>854553035388</td>\n",
       "      <td>127.0</td>\n",
       "      <td>62.0</td>\n",
       "      <td>MW</td>\n",
       "    </tr>\n",
       "    <tr>\n",
       "      <th>2016-03-13 09:00:00</th>\n",
       "      <td>000272873619</td>\n",
       "      <td>129.0</td>\n",
       "      <td>60.0</td>\n",
       "      <td>MW</td>\n",
       "    </tr>\n",
       "    <tr>\n",
       "      <th>...</th>\n",
       "      <td>...</td>\n",
       "      <td>...</td>\n",
       "      <td>...</td>\n",
       "      <td>...</td>\n",
       "    </tr>\n",
       "    <tr>\n",
       "      <th>2019-08-31 00:00:00</th>\n",
       "      <td>5ki4uw77gqonabb</td>\n",
       "      <td>200.0</td>\n",
       "      <td>NaN</td>\n",
       "      <td>NaN</td>\n",
       "    </tr>\n",
       "    <tr>\n",
       "      <th>2019-12-08 00:00:00</th>\n",
       "      <td>5ki4uw9py4utddz</td>\n",
       "      <td>127.0</td>\n",
       "      <td>NaN</td>\n",
       "      <td>NaN</td>\n",
       "    </tr>\n",
       "    <tr>\n",
       "      <th>2019-08-24 00:00:00</th>\n",
       "      <td>5ki4uwcwaa6l2bz</td>\n",
       "      <td>138.0</td>\n",
       "      <td>NaN</td>\n",
       "      <td>NaN</td>\n",
       "    </tr>\n",
       "    <tr>\n",
       "      <th>2019-09-24 00:00:00</th>\n",
       "      <td>5ki4uwwz5nodubu</td>\n",
       "      <td>140.0</td>\n",
       "      <td>NaN</td>\n",
       "      <td>NaN</td>\n",
       "    </tr>\n",
       "    <tr>\n",
       "      <th>2019-11-07 00:00:00</th>\n",
       "      <td>5ki4ux2opkx67m1</td>\n",
       "      <td>119.0</td>\n",
       "      <td>NaN</td>\n",
       "      <td>NaN</td>\n",
       "    </tr>\n",
       "  </tbody>\n",
       "</table>\n",
       "<p>1090389 rows × 4 columns</p>\n",
       "</div>"
      ],
      "text/plain": [
       "                          ORDER_CODE  result  EXAMINEE_AGE EXAMINEE_GENDER\n",
       "EXAM_DATE                                                                 \n",
       "2019-12-24 00:00:00     640979670195   163.0          64.0               M\n",
       "2019-11-08 00:00:00     286417790901   117.0          28.0               M\n",
       "2016-04-17 09:00:00     000002165753   118.0          27.0               M\n",
       "2019-08-31 00:00:00     854553035388   127.0          62.0              MW\n",
       "2016-03-13 09:00:00     000272873619   129.0          60.0              MW\n",
       "...                              ...     ...           ...             ...\n",
       "2019-08-31 00:00:00  5ki4uw77gqonabb   200.0           NaN             NaN\n",
       "2019-12-08 00:00:00  5ki4uw9py4utddz   127.0           NaN             NaN\n",
       "2019-08-24 00:00:00  5ki4uwcwaa6l2bz   138.0           NaN             NaN\n",
       "2019-09-24 00:00:00  5ki4uwwz5nodubu   140.0           NaN             NaN\n",
       "2019-11-07 00:00:00  5ki4ux2opkx67m1   119.0           NaN             NaN\n",
       "\n",
       "[1090389 rows x 4 columns]"
      ]
     },
     "execution_count": 165,
     "metadata": {},
     "output_type": "execute_result"
    }
   ],
   "source": [
    "SBP"
   ]
  },
  {
   "cell_type": "code",
   "execution_count": null,
   "metadata": {},
   "outputs": [],
   "source": []
  },
  {
   "cell_type": "code",
   "execution_count": null,
   "metadata": {},
   "outputs": [],
   "source": []
  },
  {
   "cell_type": "code",
   "execution_count": null,
   "metadata": {},
   "outputs": [],
   "source": []
  },
  {
   "cell_type": "code",
   "execution_count": null,
   "metadata": {},
   "outputs": [],
   "source": []
  },
  {
   "cell_type": "code",
   "execution_count": null,
   "metadata": {},
   "outputs": [],
   "source": []
  },
  {
   "cell_type": "code",
   "execution_count": 164,
   "metadata": {
    "collapsed": true
   },
   "outputs": [
    {
     "ename": "OutOfBoundsDatetime",
     "evalue": "Out of bounds nanosecond timestamp: 19-12-16 00:00:00",
     "output_type": "error",
     "traceback": [
      "\u001b[1;31m---------------------------------------------------------------------------\u001b[0m",
      "\u001b[1;31mOutOfBoundsDatetime\u001b[0m                       Traceback (most recent call last)",
      "\u001b[1;32m~\\Anaconda3\\lib\\site-packages\\pandas\\core\\arrays\\datetimes.py\u001b[0m in \u001b[0;36mobjects_to_datetime64ns\u001b[1;34m(data, dayfirst, yearfirst, utc, errors, require_iso8601, allow_object)\u001b[0m\n\u001b[0;32m   2053\u001b[0m         \u001b[1;32mtry\u001b[0m\u001b[1;33m:\u001b[0m\u001b[1;33m\u001b[0m\u001b[1;33m\u001b[0m\u001b[0m\n\u001b[1;32m-> 2054\u001b[1;33m             \u001b[0mvalues\u001b[0m\u001b[1;33m,\u001b[0m \u001b[0mtz_parsed\u001b[0m \u001b[1;33m=\u001b[0m \u001b[0mconversion\u001b[0m\u001b[1;33m.\u001b[0m\u001b[0mdatetime_to_datetime64\u001b[0m\u001b[1;33m(\u001b[0m\u001b[0mdata\u001b[0m\u001b[1;33m)\u001b[0m\u001b[1;33m\u001b[0m\u001b[1;33m\u001b[0m\u001b[0m\n\u001b[0m\u001b[0;32m   2055\u001b[0m             \u001b[1;31m# If tzaware, these values represent unix timestamps, so we\u001b[0m\u001b[1;33m\u001b[0m\u001b[1;33m\u001b[0m\u001b[1;33m\u001b[0m\u001b[0m\n",
      "\u001b[1;32mpandas\\_libs\\tslibs\\conversion.pyx\u001b[0m in \u001b[0;36mpandas._libs.tslibs.conversion.datetime_to_datetime64\u001b[1;34m()\u001b[0m\n",
      "\u001b[1;32mpandas\\_libs\\tslibs\\np_datetime.pyx\u001b[0m in \u001b[0;36mpandas._libs.tslibs.np_datetime.check_dts_bounds\u001b[1;34m()\u001b[0m\n",
      "\u001b[1;31mOutOfBoundsDatetime\u001b[0m: Out of bounds nanosecond timestamp: 19-12-16 00:00:00",
      "\nDuring handling of the above exception, another exception occurred:\n",
      "\u001b[1;31mOutOfBoundsDatetime\u001b[0m                       Traceback (most recent call last)",
      "\u001b[1;32m<ipython-input-164-72b8f6e47d45>\u001b[0m in \u001b[0;36m<module>\u001b[1;34m\u001b[0m\n\u001b[0;32m      3\u001b[0m \u001b[1;33m\u001b[0m\u001b[0m\n\u001b[0;32m      4\u001b[0m \u001b[0mSBP_Recode_C\u001b[0m\u001b[1;33m.\u001b[0m\u001b[0mset_index\u001b[0m\u001b[1;33m(\u001b[0m\u001b[1;34m\"EXAM_DATE\"\u001b[0m\u001b[1;33m,\u001b[0m\u001b[0minplace\u001b[0m \u001b[1;33m=\u001b[0m \u001b[1;32mTrue\u001b[0m\u001b[1;33m)\u001b[0m\u001b[1;33m\u001b[0m\u001b[1;33m\u001b[0m\u001b[0m\n\u001b[1;32m----> 5\u001b[1;33m \u001b[0mSBP_Recode_C\u001b[0m\u001b[1;33m.\u001b[0m\u001b[0mindex\u001b[0m \u001b[1;33m=\u001b[0m \u001b[0mpd\u001b[0m\u001b[1;33m.\u001b[0m\u001b[0mDatetimeIndex\u001b[0m\u001b[1;33m(\u001b[0m\u001b[0mSBP_Recode_C\u001b[0m\u001b[1;33m.\u001b[0m\u001b[0mindex\u001b[0m\u001b[1;33m)\u001b[0m\u001b[1;33m\u001b[0m\u001b[1;33m\u001b[0m\u001b[0m\n\u001b[0m",
      "\u001b[1;32m~\\Anaconda3\\lib\\site-packages\\pandas\\core\\indexes\\datetimes.py\u001b[0m in \u001b[0;36m__new__\u001b[1;34m(cls, data, freq, tz, normalize, closed, ambiguous, dayfirst, yearfirst, dtype, copy, name)\u001b[0m\n\u001b[0;32m    277\u001b[0m             \u001b[0mdayfirst\u001b[0m\u001b[1;33m=\u001b[0m\u001b[0mdayfirst\u001b[0m\u001b[1;33m,\u001b[0m\u001b[1;33m\u001b[0m\u001b[1;33m\u001b[0m\u001b[0m\n\u001b[0;32m    278\u001b[0m             \u001b[0myearfirst\u001b[0m\u001b[1;33m=\u001b[0m\u001b[0myearfirst\u001b[0m\u001b[1;33m,\u001b[0m\u001b[1;33m\u001b[0m\u001b[1;33m\u001b[0m\u001b[0m\n\u001b[1;32m--> 279\u001b[1;33m             \u001b[0mambiguous\u001b[0m\u001b[1;33m=\u001b[0m\u001b[0mambiguous\u001b[0m\u001b[1;33m,\u001b[0m\u001b[1;33m\u001b[0m\u001b[1;33m\u001b[0m\u001b[0m\n\u001b[0m\u001b[0;32m    280\u001b[0m         )\n\u001b[0;32m    281\u001b[0m \u001b[1;33m\u001b[0m\u001b[0m\n",
      "\u001b[1;32m~\\Anaconda3\\lib\\site-packages\\pandas\\core\\arrays\\datetimes.py\u001b[0m in \u001b[0;36m_from_sequence\u001b[1;34m(cls, data, dtype, copy, tz, freq, dayfirst, yearfirst, ambiguous)\u001b[0m\n\u001b[0;32m    321\u001b[0m             \u001b[0mdayfirst\u001b[0m\u001b[1;33m=\u001b[0m\u001b[0mdayfirst\u001b[0m\u001b[1;33m,\u001b[0m\u001b[1;33m\u001b[0m\u001b[1;33m\u001b[0m\u001b[0m\n\u001b[0;32m    322\u001b[0m             \u001b[0myearfirst\u001b[0m\u001b[1;33m=\u001b[0m\u001b[0myearfirst\u001b[0m\u001b[1;33m,\u001b[0m\u001b[1;33m\u001b[0m\u001b[1;33m\u001b[0m\u001b[0m\n\u001b[1;32m--> 323\u001b[1;33m             \u001b[0mambiguous\u001b[0m\u001b[1;33m=\u001b[0m\u001b[0mambiguous\u001b[0m\u001b[1;33m,\u001b[0m\u001b[1;33m\u001b[0m\u001b[1;33m\u001b[0m\u001b[0m\n\u001b[0m\u001b[0;32m    324\u001b[0m         )\n\u001b[0;32m    325\u001b[0m \u001b[1;33m\u001b[0m\u001b[0m\n",
      "\u001b[1;32m~\\Anaconda3\\lib\\site-packages\\pandas\\core\\arrays\\datetimes.py\u001b[0m in \u001b[0;36msequence_to_dt64ns\u001b[1;34m(data, dtype, copy, tz, dayfirst, yearfirst, ambiguous)\u001b[0m\n\u001b[0;32m   1948\u001b[0m             \u001b[1;31m#  or M8[ns] to denote wall times\u001b[0m\u001b[1;33m\u001b[0m\u001b[1;33m\u001b[0m\u001b[1;33m\u001b[0m\u001b[0m\n\u001b[0;32m   1949\u001b[0m             data, inferred_tz = objects_to_datetime64ns(\n\u001b[1;32m-> 1950\u001b[1;33m                 \u001b[0mdata\u001b[0m\u001b[1;33m,\u001b[0m \u001b[0mdayfirst\u001b[0m\u001b[1;33m=\u001b[0m\u001b[0mdayfirst\u001b[0m\u001b[1;33m,\u001b[0m \u001b[0myearfirst\u001b[0m\u001b[1;33m=\u001b[0m\u001b[0myearfirst\u001b[0m\u001b[1;33m\u001b[0m\u001b[1;33m\u001b[0m\u001b[0m\n\u001b[0m\u001b[0;32m   1951\u001b[0m             )\n\u001b[0;32m   1952\u001b[0m             \u001b[0mtz\u001b[0m \u001b[1;33m=\u001b[0m \u001b[0m_maybe_infer_tz\u001b[0m\u001b[1;33m(\u001b[0m\u001b[0mtz\u001b[0m\u001b[1;33m,\u001b[0m \u001b[0minferred_tz\u001b[0m\u001b[1;33m)\u001b[0m\u001b[1;33m\u001b[0m\u001b[1;33m\u001b[0m\u001b[0m\n",
      "\u001b[1;32m~\\Anaconda3\\lib\\site-packages\\pandas\\core\\arrays\\datetimes.py\u001b[0m in \u001b[0;36mobjects_to_datetime64ns\u001b[1;34m(data, dayfirst, yearfirst, utc, errors, require_iso8601, allow_object)\u001b[0m\n\u001b[0;32m   2057\u001b[0m             \u001b[1;32mreturn\u001b[0m \u001b[0mvalues\u001b[0m\u001b[1;33m.\u001b[0m\u001b[0mview\u001b[0m\u001b[1;33m(\u001b[0m\u001b[1;34m\"i8\"\u001b[0m\u001b[1;33m)\u001b[0m\u001b[1;33m,\u001b[0m \u001b[0mtz_parsed\u001b[0m\u001b[1;33m\u001b[0m\u001b[1;33m\u001b[0m\u001b[0m\n\u001b[0;32m   2058\u001b[0m         \u001b[1;32mexcept\u001b[0m \u001b[1;33m(\u001b[0m\u001b[0mValueError\u001b[0m\u001b[1;33m,\u001b[0m \u001b[0mTypeError\u001b[0m\u001b[1;33m)\u001b[0m\u001b[1;33m:\u001b[0m\u001b[1;33m\u001b[0m\u001b[1;33m\u001b[0m\u001b[0m\n\u001b[1;32m-> 2059\u001b[1;33m             \u001b[1;32mraise\u001b[0m \u001b[0me\u001b[0m\u001b[1;33m\u001b[0m\u001b[1;33m\u001b[0m\u001b[0m\n\u001b[0m\u001b[0;32m   2060\u001b[0m \u001b[1;33m\u001b[0m\u001b[0m\n\u001b[0;32m   2061\u001b[0m     \u001b[1;32mif\u001b[0m \u001b[0mtz_parsed\u001b[0m \u001b[1;32mis\u001b[0m \u001b[1;32mnot\u001b[0m \u001b[1;32mNone\u001b[0m\u001b[1;33m:\u001b[0m\u001b[1;33m\u001b[0m\u001b[1;33m\u001b[0m\u001b[0m\n",
      "\u001b[1;32m~\\Anaconda3\\lib\\site-packages\\pandas\\core\\arrays\\datetimes.py\u001b[0m in \u001b[0;36mobjects_to_datetime64ns\u001b[1;34m(data, dayfirst, yearfirst, utc, errors, require_iso8601, allow_object)\u001b[0m\n\u001b[0;32m   2048\u001b[0m             \u001b[0mdayfirst\u001b[0m\u001b[1;33m=\u001b[0m\u001b[0mdayfirst\u001b[0m\u001b[1;33m,\u001b[0m\u001b[1;33m\u001b[0m\u001b[1;33m\u001b[0m\u001b[0m\n\u001b[0;32m   2049\u001b[0m             \u001b[0myearfirst\u001b[0m\u001b[1;33m=\u001b[0m\u001b[0myearfirst\u001b[0m\u001b[1;33m,\u001b[0m\u001b[1;33m\u001b[0m\u001b[1;33m\u001b[0m\u001b[0m\n\u001b[1;32m-> 2050\u001b[1;33m             \u001b[0mrequire_iso8601\u001b[0m\u001b[1;33m=\u001b[0m\u001b[0mrequire_iso8601\u001b[0m\u001b[1;33m,\u001b[0m\u001b[1;33m\u001b[0m\u001b[1;33m\u001b[0m\u001b[0m\n\u001b[0m\u001b[0;32m   2051\u001b[0m         )\n\u001b[0;32m   2052\u001b[0m     \u001b[1;32mexcept\u001b[0m \u001b[0mValueError\u001b[0m \u001b[1;32mas\u001b[0m \u001b[0me\u001b[0m\u001b[1;33m:\u001b[0m\u001b[1;33m\u001b[0m\u001b[1;33m\u001b[0m\u001b[0m\n",
      "\u001b[1;32mpandas\\_libs\\tslib.pyx\u001b[0m in \u001b[0;36mpandas._libs.tslib.array_to_datetime\u001b[1;34m()\u001b[0m\n",
      "\u001b[1;32mpandas\\_libs\\tslib.pyx\u001b[0m in \u001b[0;36mpandas._libs.tslib.array_to_datetime\u001b[1;34m()\u001b[0m\n",
      "\u001b[1;32mpandas\\_libs\\tslib.pyx\u001b[0m in \u001b[0;36mpandas._libs.tslib.array_to_datetime\u001b[1;34m()\u001b[0m\n",
      "\u001b[1;32mpandas\\_libs\\tslib.pyx\u001b[0m in \u001b[0;36mpandas._libs.tslib.array_to_datetime\u001b[1;34m()\u001b[0m\n",
      "\u001b[1;32mpandas\\_libs\\tslibs\\np_datetime.pyx\u001b[0m in \u001b[0;36mpandas._libs.tslibs.np_datetime.check_dts_bounds\u001b[1;34m()\u001b[0m\n",
      "\u001b[1;31mOutOfBoundsDatetime\u001b[0m: Out of bounds nanosecond timestamp: 19-12-16 00:00:00"
     ]
    }
   ],
   "source": [
    "SBP_Recode_C[\"EXAM_DATE\"] = pd.to_datetime(SBP_Recode_C[\"EXAM_DATE\"]).dt.time\n",
    "SBP_Recode_C.set_index(\"EXAM_DATE\",inplace = True)\n",
    "\n",
    "# SBP_Recode_C.set_index(\"EXAM_DATE\",inplace = True)\n",
    "# SBP_Recode_C.index = pd.DatetimeIndex(SBP_Recode_C.index)"
   ]
  },
  {
   "cell_type": "code",
   "execution_count": 59,
   "metadata": {
    "collapsed": true
   },
   "outputs": [
    {
     "name": "stdout",
     "output_type": "stream",
     "text": [
      "<class 'pandas.core.frame.DataFrame'>\n",
      "Int64Index: 1449594 entries, 0 to 1449752\n",
      "Data columns (total 7 columns):\n",
      " #   Column           Non-Null Count    Dtype  \n",
      "---  ------           --------------    -----  \n",
      " 0   ORDER_CODE       1449594 non-null  object \n",
      " 1   RESULT           1449594 non-null  float64\n",
      " 2   UPPER_VALUE      1270900 non-null  float64\n",
      " 3   LOWER_VALUE      1270900 non-null  float64\n",
      " 4   EXAM_DATE        1449522 non-null  object \n",
      " 5   EXAMINEE_AGE     1448331 non-null  float64\n",
      " 6   EXAMINEE_GENDER  1448331 non-null  object \n",
      "dtypes: float64(4), object(3)\n",
      "memory usage: 88.5+ MB\n"
     ]
    }
   ],
   "source": [
    "SBP_Recode.info()"
   ]
  },
  {
   "cell_type": "code",
   "execution_count": 64,
   "metadata": {},
   "outputs": [],
   "source": [
    "t1 = SBP_Recode1.set_index(\"EXAM_DATE\")\n",
    "t2 = SBP_Recode2.set_index(\"EXAM_DATE\")\n",
    "t3 = SBP_Recode3.set_index(\"EXAM_DATE\")"
   ]
  },
  {
   "cell_type": "code",
   "execution_count": 65,
   "metadata": {},
   "outputs": [],
   "source": [
    "t4 = pd.concat([t1,t2,t3],axis = 0)"
   ]
  },
  {
   "cell_type": "code",
   "execution_count": 69,
   "metadata": {
    "collapsed": true
   },
   "outputs": [
    {
     "data": {
      "text/html": [
       "<div>\n",
       "<style scoped>\n",
       "    .dataframe tbody tr th:only-of-type {\n",
       "        vertical-align: middle;\n",
       "    }\n",
       "\n",
       "    .dataframe tbody tr th {\n",
       "        vertical-align: top;\n",
       "    }\n",
       "\n",
       "    .dataframe thead th {\n",
       "        text-align: right;\n",
       "    }\n",
       "</style>\n",
       "<table border=\"1\" class=\"dataframe\">\n",
       "  <thead>\n",
       "    <tr style=\"text-align: right;\">\n",
       "      <th></th>\n",
       "      <th>ORDER_CODE</th>\n",
       "      <th>RESULT</th>\n",
       "      <th>UPPER_VALUE</th>\n",
       "      <th>LOWER_VALUE</th>\n",
       "      <th>EXAMINEE_AGE</th>\n",
       "      <th>EXAMINEE_GENDER</th>\n",
       "      <th>new_date</th>\n",
       "    </tr>\n",
       "    <tr>\n",
       "      <th>EXAM_DATE</th>\n",
       "      <th></th>\n",
       "      <th></th>\n",
       "      <th></th>\n",
       "      <th></th>\n",
       "      <th></th>\n",
       "      <th></th>\n",
       "      <th></th>\n",
       "    </tr>\n",
       "  </thead>\n",
       "  <tbody>\n",
       "    <tr>\n",
       "      <th>2020-02-29 00:00:00</th>\n",
       "      <td>606898462371</td>\n",
       "      <td>124.0</td>\n",
       "      <td>NaN</td>\n",
       "      <td>NaN</td>\n",
       "      <td>73.0</td>\n",
       "      <td>M</td>\n",
       "      <td>2020-02-29</td>\n",
       "    </tr>\n",
       "    <tr>\n",
       "      <th>2020-01-12 00:00:00</th>\n",
       "      <td>485194753251</td>\n",
       "      <td>138.0</td>\n",
       "      <td>NaN</td>\n",
       "      <td>NaN</td>\n",
       "      <td>60.0</td>\n",
       "      <td>MW</td>\n",
       "      <td>2020-01-12</td>\n",
       "    </tr>\n",
       "    <tr>\n",
       "      <th>2020-01-13 00:00:00</th>\n",
       "      <td>064707165127</td>\n",
       "      <td>154.0</td>\n",
       "      <td>NaN</td>\n",
       "      <td>NaN</td>\n",
       "      <td>73.0</td>\n",
       "      <td>M</td>\n",
       "      <td>2020-01-13</td>\n",
       "    </tr>\n",
       "    <tr>\n",
       "      <th>2020-01-14 00:00:00</th>\n",
       "      <td>074452138242</td>\n",
       "      <td>136.0</td>\n",
       "      <td>NaN</td>\n",
       "      <td>NaN</td>\n",
       "      <td>48.0</td>\n",
       "      <td>MW</td>\n",
       "      <td>2020-01-14</td>\n",
       "    </tr>\n",
       "    <tr>\n",
       "      <th>2020-01-11 00:00:00</th>\n",
       "      <td>016056732550</td>\n",
       "      <td>100.0</td>\n",
       "      <td>NaN</td>\n",
       "      <td>NaN</td>\n",
       "      <td>51.0</td>\n",
       "      <td>MW</td>\n",
       "      <td>2020-01-11</td>\n",
       "    </tr>\n",
       "    <tr>\n",
       "      <th>...</th>\n",
       "      <td>...</td>\n",
       "      <td>...</td>\n",
       "      <td>...</td>\n",
       "      <td>...</td>\n",
       "      <td>...</td>\n",
       "      <td>...</td>\n",
       "      <td>...</td>\n",
       "    </tr>\n",
       "    <tr>\n",
       "      <th>2019-07-24 00:00:00</th>\n",
       "      <td>5ki4jsegr15kqxk</td>\n",
       "      <td>146.0</td>\n",
       "      <td>139.0</td>\n",
       "      <td>90.0</td>\n",
       "      <td>60.0</td>\n",
       "      <td>MW</td>\n",
       "      <td>NaN</td>\n",
       "    </tr>\n",
       "    <tr>\n",
       "      <th>2019-07-17 15:57:52</th>\n",
       "      <td>5ki4jsnl8m2po8d</td>\n",
       "      <td>138.0</td>\n",
       "      <td>140.0</td>\n",
       "      <td>90.0</td>\n",
       "      <td>44.0</td>\n",
       "      <td>M</td>\n",
       "      <td>NaN</td>\n",
       "    </tr>\n",
       "    <tr>\n",
       "      <th>2020-11-28 08:09:46</th>\n",
       "      <td>5ki4jspd0scmyxu</td>\n",
       "      <td>127.0</td>\n",
       "      <td>139.0</td>\n",
       "      <td>90.0</td>\n",
       "      <td>52.0</td>\n",
       "      <td>M</td>\n",
       "      <td>NaN</td>\n",
       "    </tr>\n",
       "    <tr>\n",
       "      <th>2019-07-24 15:05:14</th>\n",
       "      <td>5ki4jsxnazkvy3y</td>\n",
       "      <td>135.0</td>\n",
       "      <td>140.0</td>\n",
       "      <td>90.0</td>\n",
       "      <td>31.0</td>\n",
       "      <td>M</td>\n",
       "      <td>NaN</td>\n",
       "    </tr>\n",
       "    <tr>\n",
       "      <th>2019-07-25 00:00:00</th>\n",
       "      <td>5ki4jsxdk9xgmgq</td>\n",
       "      <td>147.0</td>\n",
       "      <td>139.0</td>\n",
       "      <td>90.0</td>\n",
       "      <td>58.0</td>\n",
       "      <td>M</td>\n",
       "      <td>NaN</td>\n",
       "    </tr>\n",
       "  </tbody>\n",
       "</table>\n",
       "<p>1448232 rows × 7 columns</p>\n",
       "</div>"
      ],
      "text/plain": [
       "                          ORDER_CODE  RESULT  UPPER_VALUE  LOWER_VALUE  \\\n",
       "EXAM_DATE                                                                \n",
       "2020-02-29 00:00:00     606898462371   124.0          NaN          NaN   \n",
       "2020-01-12 00:00:00     485194753251   138.0          NaN          NaN   \n",
       "2020-01-13 00:00:00     064707165127   154.0          NaN          NaN   \n",
       "2020-01-14 00:00:00     074452138242   136.0          NaN          NaN   \n",
       "2020-01-11 00:00:00     016056732550   100.0          NaN          NaN   \n",
       "...                              ...     ...          ...          ...   \n",
       "2019-07-24 00:00:00  5ki4jsegr15kqxk   146.0        139.0         90.0   \n",
       "2019-07-17 15:57:52  5ki4jsnl8m2po8d   138.0        140.0         90.0   \n",
       "2020-11-28 08:09:46  5ki4jspd0scmyxu   127.0        139.0         90.0   \n",
       "2019-07-24 15:05:14  5ki4jsxnazkvy3y   135.0        140.0         90.0   \n",
       "2019-07-25 00:00:00  5ki4jsxdk9xgmgq   147.0        139.0         90.0   \n",
       "\n",
       "                     EXAMINEE_AGE EXAMINEE_GENDER    new_date  \n",
       "EXAM_DATE                                                      \n",
       "2020-02-29 00:00:00          73.0               M  2020-02-29  \n",
       "2020-01-12 00:00:00          60.0              MW  2020-01-12  \n",
       "2020-01-13 00:00:00          73.0               M  2020-01-13  \n",
       "2020-01-14 00:00:00          48.0              MW  2020-01-14  \n",
       "2020-01-11 00:00:00          51.0              MW  2020-01-11  \n",
       "...                           ...             ...         ...  \n",
       "2019-07-24 00:00:00          60.0              MW         NaN  \n",
       "2019-07-17 15:57:52          44.0               M         NaN  \n",
       "2020-11-28 08:09:46          52.0               M         NaN  \n",
       "2019-07-24 15:05:14          31.0               M         NaN  \n",
       "2019-07-25 00:00:00          58.0               M         NaN  \n",
       "\n",
       "[1448232 rows x 7 columns]"
      ]
     },
     "execution_count": 69,
     "metadata": {},
     "output_type": "execute_result"
    }
   ],
   "source": [
    "t4"
   ]
  },
  {
   "cell_type": "code",
   "execution_count": 44,
   "metadata": {
    "collapsed": true
   },
   "outputs": [
    {
     "data": {
      "text/html": [
       "<div>\n",
       "<style scoped>\n",
       "    .dataframe tbody tr th:only-of-type {\n",
       "        vertical-align: middle;\n",
       "    }\n",
       "\n",
       "    .dataframe tbody tr th {\n",
       "        vertical-align: top;\n",
       "    }\n",
       "\n",
       "    .dataframe thead th {\n",
       "        text-align: right;\n",
       "    }\n",
       "</style>\n",
       "<table border=\"1\" class=\"dataframe\">\n",
       "  <thead>\n",
       "    <tr style=\"text-align: right;\">\n",
       "      <th></th>\n",
       "      <th>ORDER_CODE</th>\n",
       "      <th>RESULT</th>\n",
       "      <th>UPPER_VALUE</th>\n",
       "      <th>LOWER_VALUE</th>\n",
       "      <th>EXAMINEE_AGE</th>\n",
       "      <th>EXAMINEE_GENDER</th>\n",
       "    </tr>\n",
       "    <tr>\n",
       "      <th>EXAM_DATE</th>\n",
       "      <th></th>\n",
       "      <th></th>\n",
       "      <th></th>\n",
       "      <th></th>\n",
       "      <th></th>\n",
       "      <th></th>\n",
       "    </tr>\n",
       "  </thead>\n",
       "  <tbody>\n",
       "    <tr>\n",
       "      <th>2020-02-29 00:00:00</th>\n",
       "      <td>606898462371</td>\n",
       "      <td>124.0</td>\n",
       "      <td>NaN</td>\n",
       "      <td>NaN</td>\n",
       "      <td>73.0</td>\n",
       "      <td>M</td>\n",
       "    </tr>\n",
       "    <tr>\n",
       "      <th>2020-01-12 00:00:00</th>\n",
       "      <td>485194753251</td>\n",
       "      <td>138.0</td>\n",
       "      <td>NaN</td>\n",
       "      <td>NaN</td>\n",
       "      <td>60.0</td>\n",
       "      <td>MW</td>\n",
       "    </tr>\n",
       "    <tr>\n",
       "      <th>2020-01-13 00:00:00</th>\n",
       "      <td>064707165127</td>\n",
       "      <td>154.0</td>\n",
       "      <td>NaN</td>\n",
       "      <td>NaN</td>\n",
       "      <td>73.0</td>\n",
       "      <td>M</td>\n",
       "    </tr>\n",
       "    <tr>\n",
       "      <th>2020-01-14 00:00:00</th>\n",
       "      <td>074452138242</td>\n",
       "      <td>136.0</td>\n",
       "      <td>NaN</td>\n",
       "      <td>NaN</td>\n",
       "      <td>48.0</td>\n",
       "      <td>MW</td>\n",
       "    </tr>\n",
       "    <tr>\n",
       "      <th>2020-01-11 00:00:00</th>\n",
       "      <td>016056732550</td>\n",
       "      <td>100.0</td>\n",
       "      <td>NaN</td>\n",
       "      <td>NaN</td>\n",
       "      <td>51.0</td>\n",
       "      <td>MW</td>\n",
       "    </tr>\n",
       "    <tr>\n",
       "      <th>...</th>\n",
       "      <td>...</td>\n",
       "      <td>...</td>\n",
       "      <td>...</td>\n",
       "      <td>...</td>\n",
       "      <td>...</td>\n",
       "      <td>...</td>\n",
       "    </tr>\n",
       "    <tr>\n",
       "      <th>2019-07-24 00:00:00</th>\n",
       "      <td>5ki4jsegr15kqxk</td>\n",
       "      <td>146.0</td>\n",
       "      <td>139.0</td>\n",
       "      <td>90.0</td>\n",
       "      <td>60.0</td>\n",
       "      <td>MW</td>\n",
       "    </tr>\n",
       "    <tr>\n",
       "      <th>2019-07-17 15:57:52</th>\n",
       "      <td>5ki4jsnl8m2po8d</td>\n",
       "      <td>138.0</td>\n",
       "      <td>140.0</td>\n",
       "      <td>90.0</td>\n",
       "      <td>44.0</td>\n",
       "      <td>M</td>\n",
       "    </tr>\n",
       "    <tr>\n",
       "      <th>2020-11-28 08:09:46</th>\n",
       "      <td>5ki4jspd0scmyxu</td>\n",
       "      <td>127.0</td>\n",
       "      <td>139.0</td>\n",
       "      <td>90.0</td>\n",
       "      <td>52.0</td>\n",
       "      <td>M</td>\n",
       "    </tr>\n",
       "    <tr>\n",
       "      <th>2019-07-24 15:05:14</th>\n",
       "      <td>5ki4jsxnazkvy3y</td>\n",
       "      <td>135.0</td>\n",
       "      <td>140.0</td>\n",
       "      <td>90.0</td>\n",
       "      <td>31.0</td>\n",
       "      <td>M</td>\n",
       "    </tr>\n",
       "    <tr>\n",
       "      <th>2019-07-25 00:00:00</th>\n",
       "      <td>5ki4jsxdk9xgmgq</td>\n",
       "      <td>147.0</td>\n",
       "      <td>139.0</td>\n",
       "      <td>90.0</td>\n",
       "      <td>58.0</td>\n",
       "      <td>M</td>\n",
       "    </tr>\n",
       "  </tbody>\n",
       "</table>\n",
       "<p>1446966 rows × 6 columns</p>\n",
       "</div>"
      ],
      "text/plain": [
       "                          ORDER_CODE  RESULT  UPPER_VALUE  LOWER_VALUE  \\\n",
       "EXAM_DATE                                                                \n",
       "2020-02-29 00:00:00     606898462371   124.0          NaN          NaN   \n",
       "2020-01-12 00:00:00     485194753251   138.0          NaN          NaN   \n",
       "2020-01-13 00:00:00     064707165127   154.0          NaN          NaN   \n",
       "2020-01-14 00:00:00     074452138242   136.0          NaN          NaN   \n",
       "2020-01-11 00:00:00     016056732550   100.0          NaN          NaN   \n",
       "...                              ...     ...          ...          ...   \n",
       "2019-07-24 00:00:00  5ki4jsegr15kqxk   146.0        139.0         90.0   \n",
       "2019-07-17 15:57:52  5ki4jsnl8m2po8d   138.0        140.0         90.0   \n",
       "2020-11-28 08:09:46  5ki4jspd0scmyxu   127.0        139.0         90.0   \n",
       "2019-07-24 15:05:14  5ki4jsxnazkvy3y   135.0        140.0         90.0   \n",
       "2019-07-25 00:00:00  5ki4jsxdk9xgmgq   147.0        139.0         90.0   \n",
       "\n",
       "                     EXAMINEE_AGE EXAMINEE_GENDER  \n",
       "EXAM_DATE                                          \n",
       "2020-02-29 00:00:00          73.0               M  \n",
       "2020-01-12 00:00:00          60.0              MW  \n",
       "2020-01-13 00:00:00          73.0               M  \n",
       "2020-01-14 00:00:00          48.0              MW  \n",
       "2020-01-11 00:00:00          51.0              MW  \n",
       "...                           ...             ...  \n",
       "2019-07-24 00:00:00          60.0              MW  \n",
       "2019-07-17 15:57:52          44.0               M  \n",
       "2020-11-28 08:09:46          52.0               M  \n",
       "2019-07-24 15:05:14          31.0               M  \n",
       "2019-07-25 00:00:00          58.0               M  \n",
       "\n",
       "[1446966 rows x 6 columns]"
      ]
     },
     "execution_count": 44,
     "metadata": {},
     "output_type": "execute_result"
    }
   ],
   "source": [
    "SBP_Recode_C"
   ]
  },
  {
   "cell_type": "code",
   "execution_count": null,
   "metadata": {},
   "outputs": [],
   "source": []
  },
  {
   "cell_type": "code",
   "execution_count": 38,
   "metadata": {
    "collapsed": true
   },
   "outputs": [
    {
     "data": {
      "text/plain": [
       "[Index([2020-02-29 00:00:00, 2020-01-12 00:00:00, 2020-01-13 00:00:00,\n",
       "        2020-01-14 00:00:00, 2020-01-11 00:00:00, 2020-01-09 00:00:00,\n",
       "        2020-01-04 00:00:00, 2020-01-09 00:00:00, 2020-01-08 00:00:00,\n",
       "        2020-01-11 00:00:00,\n",
       "        ...\n",
       "        2019-08-24 00:00:00, 2019-10-18 00:00:00, 2019-10-15 00:00:00,\n",
       "        2019-11-29 00:00:00, 2019-08-22 00:00:00, 2019-07-24 00:00:00,\n",
       "        2019-07-17 15:57:52, 2020-11-28 08:09:46, 2019-07-24 15:05:14,\n",
       "        2019-07-25 00:00:00],\n",
       "       dtype='object', name='EXAM_DATE', length=1446966),\n",
       " Index(['ORDER_CODE', 'RESULT', 'UPPER_VALUE', 'LOWER_VALUE', 'EXAMINEE_AGE',\n",
       "        'EXAMINEE_GENDER', 'Age_label'],\n",
       "       dtype='object')]"
      ]
     },
     "execution_count": 38,
     "metadata": {},
     "output_type": "execute_result"
    }
   ],
   "source": [
    "SBP_Recode_C.axes"
   ]
  },
  {
   "cell_type": "code",
   "execution_count": 22,
   "metadata": {
    "collapsed": true
   },
   "outputs": [
    {
     "ename": "TypeError",
     "evalue": "Only valid with DatetimeIndex, TimedeltaIndex or PeriodIndex, but got an instance of 'Int64Index'",
     "output_type": "error",
     "traceback": [
      "\u001b[1;31m---------------------------------------------------------------------------\u001b[0m",
      "\u001b[1;31mTypeError\u001b[0m                                 Traceback (most recent call last)",
      "\u001b[1;32m<ipython-input-22-bf5a92ff38bd>\u001b[0m in \u001b[0;36m<module>\u001b[1;34m\u001b[0m\n\u001b[0;32m      1\u001b[0m \u001b[0mSBP_Y\u001b[0m\u001b[1;33m=\u001b[0m \u001b[0mpd\u001b[0m\u001b[1;33m.\u001b[0m\u001b[0mDataFrame\u001b[0m\u001b[1;33m(\u001b[0m\u001b[0mSBP_Recode_C\u001b[0m\u001b[1;33m.\u001b[0m\u001b[0mloc\u001b[0m\u001b[1;33m[\u001b[0m\u001b[0mSBP_Recode_C\u001b[0m\u001b[1;33m.\u001b[0m\u001b[0mAge_label\u001b[0m \u001b[1;33m==\u001b[0m \u001b[1;34m\"young(<20)\"\u001b[0m\u001b[1;33m,\u001b[0m\u001b[1;34m\"RESULT\"\u001b[0m\u001b[1;33m]\u001b[0m\u001b[1;33m)\u001b[0m\u001b[1;33m\u001b[0m\u001b[1;33m\u001b[0m\u001b[0m\n\u001b[1;32m----> 2\u001b[1;33m \u001b[0mSBP_Y\u001b[0m \u001b[1;33m=\u001b[0m \u001b[0mpd\u001b[0m\u001b[1;33m.\u001b[0m\u001b[0mDataFrame\u001b[0m\u001b[1;33m(\u001b[0m\u001b[0mSBP_Y\u001b[0m\u001b[1;33m.\u001b[0m\u001b[0mRESULT\u001b[0m\u001b[1;33m.\u001b[0m\u001b[0mresample\u001b[0m\u001b[1;33m(\u001b[0m\u001b[1;34m'D'\u001b[0m\u001b[1;33m)\u001b[0m\u001b[1;33m.\u001b[0m\u001b[0magg\u001b[0m\u001b[1;33m(\u001b[0m\u001b[1;33m[\u001b[0m\u001b[0mlen\u001b[0m\u001b[1;33m,\u001b[0m\u001b[0msum\u001b[0m\u001b[1;33m,\u001b[0m\u001b[0mnp\u001b[0m\u001b[1;33m.\u001b[0m\u001b[0mmean\u001b[0m\u001b[1;33m]\u001b[0m\u001b[1;33m)\u001b[0m\u001b[1;33m)\u001b[0m\u001b[1;33m\u001b[0m\u001b[1;33m\u001b[0m\u001b[0m\n\u001b[0m\u001b[0;32m      3\u001b[0m \u001b[1;33m\u001b[0m\u001b[0m\n\u001b[0;32m      4\u001b[0m \u001b[0mSBP_A\u001b[0m\u001b[1;33m=\u001b[0m \u001b[0mpd\u001b[0m\u001b[1;33m.\u001b[0m\u001b[0mDataFrame\u001b[0m\u001b[1;33m(\u001b[0m\u001b[0mSBP_Recode_C\u001b[0m\u001b[1;33m.\u001b[0m\u001b[0mloc\u001b[0m\u001b[1;33m[\u001b[0m\u001b[0mSBP_Recode_C\u001b[0m\u001b[1;33m.\u001b[0m\u001b[0mAge_label\u001b[0m \u001b[1;33m==\u001b[0m \u001b[1;34m\"adult(20-55)\"\u001b[0m\u001b[1;33m,\u001b[0m\u001b[1;34m\"RESULT\"\u001b[0m\u001b[1;33m]\u001b[0m\u001b[1;33m)\u001b[0m\u001b[1;33m\u001b[0m\u001b[1;33m\u001b[0m\u001b[0m\n\u001b[0;32m      5\u001b[0m \u001b[0mSBP_A\u001b[0m \u001b[1;33m=\u001b[0m \u001b[0mpd\u001b[0m\u001b[1;33m.\u001b[0m\u001b[0mDataFrame\u001b[0m\u001b[1;33m(\u001b[0m\u001b[0mSBP_A\u001b[0m\u001b[1;33m.\u001b[0m\u001b[0mRESULT\u001b[0m\u001b[1;33m.\u001b[0m\u001b[0mresample\u001b[0m\u001b[1;33m(\u001b[0m\u001b[1;34m'D'\u001b[0m\u001b[1;33m)\u001b[0m\u001b[1;33m.\u001b[0m\u001b[0magg\u001b[0m\u001b[1;33m(\u001b[0m\u001b[1;33m[\u001b[0m\u001b[0mlen\u001b[0m\u001b[1;33m,\u001b[0m\u001b[0msum\u001b[0m\u001b[1;33m,\u001b[0m\u001b[0mnp\u001b[0m\u001b[1;33m.\u001b[0m\u001b[0mmean\u001b[0m\u001b[1;33m]\u001b[0m\u001b[1;33m)\u001b[0m\u001b[1;33m)\u001b[0m\u001b[1;33m\u001b[0m\u001b[1;33m\u001b[0m\u001b[0m\n",
      "\u001b[1;32m~\\Anaconda3\\lib\\site-packages\\pandas\\core\\generic.py\u001b[0m in \u001b[0;36mresample\u001b[1;34m(self, rule, axis, closed, label, convention, kind, loffset, base, on, level, origin, offset)\u001b[0m\n\u001b[0;32m   8085\u001b[0m             \u001b[0mlevel\u001b[0m\u001b[1;33m=\u001b[0m\u001b[0mlevel\u001b[0m\u001b[1;33m,\u001b[0m\u001b[1;33m\u001b[0m\u001b[1;33m\u001b[0m\u001b[0m\n\u001b[0;32m   8086\u001b[0m             \u001b[0morigin\u001b[0m\u001b[1;33m=\u001b[0m\u001b[0morigin\u001b[0m\u001b[1;33m,\u001b[0m\u001b[1;33m\u001b[0m\u001b[1;33m\u001b[0m\u001b[0m\n\u001b[1;32m-> 8087\u001b[1;33m             \u001b[0moffset\u001b[0m\u001b[1;33m=\u001b[0m\u001b[0moffset\u001b[0m\u001b[1;33m,\u001b[0m\u001b[1;33m\u001b[0m\u001b[1;33m\u001b[0m\u001b[0m\n\u001b[0m\u001b[0;32m   8088\u001b[0m         )\n\u001b[0;32m   8089\u001b[0m \u001b[1;33m\u001b[0m\u001b[0m\n",
      "\u001b[1;32m~\\Anaconda3\\lib\\site-packages\\pandas\\core\\resample.py\u001b[0m in \u001b[0;36mget_resampler\u001b[1;34m(obj, kind, **kwds)\u001b[0m\n\u001b[0;32m   1267\u001b[0m     \"\"\"\n\u001b[0;32m   1268\u001b[0m     \u001b[0mtg\u001b[0m \u001b[1;33m=\u001b[0m \u001b[0mTimeGrouper\u001b[0m\u001b[1;33m(\u001b[0m\u001b[1;33m**\u001b[0m\u001b[0mkwds\u001b[0m\u001b[1;33m)\u001b[0m\u001b[1;33m\u001b[0m\u001b[1;33m\u001b[0m\u001b[0m\n\u001b[1;32m-> 1269\u001b[1;33m     \u001b[1;32mreturn\u001b[0m \u001b[0mtg\u001b[0m\u001b[1;33m.\u001b[0m\u001b[0m_get_resampler\u001b[0m\u001b[1;33m(\u001b[0m\u001b[0mobj\u001b[0m\u001b[1;33m,\u001b[0m \u001b[0mkind\u001b[0m\u001b[1;33m=\u001b[0m\u001b[0mkind\u001b[0m\u001b[1;33m)\u001b[0m\u001b[1;33m\u001b[0m\u001b[1;33m\u001b[0m\u001b[0m\n\u001b[0m\u001b[0;32m   1270\u001b[0m \u001b[1;33m\u001b[0m\u001b[0m\n\u001b[0;32m   1271\u001b[0m \u001b[1;33m\u001b[0m\u001b[0m\n",
      "\u001b[1;32m~\\Anaconda3\\lib\\site-packages\\pandas\\core\\resample.py\u001b[0m in \u001b[0;36m_get_resampler\u001b[1;34m(self, obj, kind)\u001b[0m\n\u001b[0;32m   1433\u001b[0m \u001b[1;33m\u001b[0m\u001b[0m\n\u001b[0;32m   1434\u001b[0m         raise TypeError(\n\u001b[1;32m-> 1435\u001b[1;33m             \u001b[1;34m\"Only valid with DatetimeIndex, \"\u001b[0m\u001b[1;33m\u001b[0m\u001b[1;33m\u001b[0m\u001b[0m\n\u001b[0m\u001b[0;32m   1436\u001b[0m             \u001b[1;34m\"TimedeltaIndex or PeriodIndex, \"\u001b[0m\u001b[1;33m\u001b[0m\u001b[1;33m\u001b[0m\u001b[0m\n\u001b[0;32m   1437\u001b[0m             \u001b[1;34mf\"but got an instance of '{type(ax).__name__}'\"\u001b[0m\u001b[1;33m\u001b[0m\u001b[1;33m\u001b[0m\u001b[0m\n",
      "\u001b[1;31mTypeError\u001b[0m: Only valid with DatetimeIndex, TimedeltaIndex or PeriodIndex, but got an instance of 'Int64Index'"
     ]
    }
   ],
   "source": [
    "SBP_Y= pd.DataFrame(SBP_Recode_C.loc[SBP_Recode_C.Age_label == \"young(<20)\",\"RESULT\"])\n",
    "SBP_Y = pd.DataFrame(SBP_Y.RESULT.resample('D').agg([len,sum,np.mean]))\n",
    "\n",
    "SBP_A= pd.DataFrame(SBP_Recode_C.loc[SBP_Recode_C.Age_label == \"adult(20-55)\",\"RESULT\"])\n",
    "SBP_A = pd.DataFrame(SBP_A.RESULT.resample('D').agg([len,sum,np.mean]))\n",
    "\n",
    "SBP_S = pd.DataFrame(SBP_Recode_C.loc[SBP_Recode_C.Age_label == \"senior(>55)\",\"RESULT\"])\n",
    "SBP_S = pd.DataFrame(SBP_S.RESULT.resample('D').agg([len,sum,np.mean]))"
   ]
  },
  {
   "cell_type": "code",
   "execution_count": null,
   "metadata": {},
   "outputs": [],
   "source": [
    "import matplotlib.pyplot as plt\n",
    "\n",
    "data = [SBP_Y,SBP_Y,SBP_S]\n",
    "colors = [\"orange\",\"blue\",\"purple\"]\n",
    "title= [\"young(<20)\",\"adult(20-55)\",\"senior(>55)\"]\n",
    "\n",
    "\n",
    "\n",
    "for i in range(0,3):\n",
    "    plt.figure(figsize = (12,9))\n",
    "    ax = plt.subplot(3,1,i+1)\n",
    "    data[i][\"mean\"].dropna().plot(ax = ax, color = colors[i])\n",
    "    plt.title(title[i])\n",
    "    plt.legend()\n",
    "    plt.show()"
   ]
  },
  {
   "cell_type": "code",
   "execution_count": null,
   "metadata": {},
   "outputs": [],
   "source": []
  }
 ],
 "metadata": {
  "kernelspec": {
   "display_name": "Python 3",
   "language": "python",
   "name": "python3"
  },
  "language_info": {
   "codemirror_mode": {
    "name": "ipython",
    "version": 3
   },
   "file_extension": ".py",
   "mimetype": "text/x-python",
   "name": "python",
   "nbconvert_exporter": "python",
   "pygments_lexer": "ipython3",
   "version": "3.7.6"
  }
 },
 "nbformat": 4,
 "nbformat_minor": 4
}
