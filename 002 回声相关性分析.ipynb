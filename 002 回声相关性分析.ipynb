{
 "cells": [
  {
   "cell_type": "code",
   "execution_count": 25,
   "metadata": {},
   "outputs": [
    {
     "data": {
      "image/png": "[encoded data removed]",
      "text/plain": [
       "<Figure size 432x288 with 1 Axes>"
      ]
     },
     "metadata": {
      "needs_background": "light"
     },
     "output_type": "display_data"
    },
    {
     "name": "stdout",
     "output_type": "stream",
     "text": [
      "0.77\n",
      "2.6\n"
     ]
    }
   ],
   "source": [
    "import matplotlib.pyplot as plt\n",
    "import pandas as pd\n",
    "df = pd.read_excel(r'C:\\Users\\13670\\Desktop\\data4.xlsx',usecols=[0])\n",
    "tmp_result = df.values.tolist()\n",
    "data_num = []\n",
    "for np in tmp_result:\n",
    "    data_num.append(np[0])\n",
    "    \n",
    "# result列的数据排序（从小到大）\n",
    "data_num.sort()\n",
    "\n",
    "# 计算需要删除的数据量\n",
    "cut_nums = int(len(data_num)*0.01) #(1%)\n",
    "\n",
    "# 去除前cut_nums 个数据\n",
    "del data_num[0:cut_nums]\n",
    "\n",
    "# 去除后cut_nmus 个数据\n",
    "del data_num[-cut_nums:]\n",
    "\n",
    "#bins = [0,0.3,0.6,0.9,1.2,1.5,1.8,2.1,2.4,2.7,3.0,3.3,3.6,3.9,4.2,4.5,4.8,5.1,5.4,5.7,6,6.3,6.6,6.9,7.2,7.5,7.8,8.1,8.4,8.7,9,9.3,9.6]\n",
    "bins = [0,0.2,0.4,0.6,0.8,1,1.2,1.4,1.6,1.8,2,2.2,2.4,2.6,2.8,3.0,3.2,3.4,3.6,3.8,4,4.2,4.4,4.6,4.8,5,5.2,5.4,5.6,5.8,6,6.2,6.4,6.6,6.8,7]\n",
    "#bins = [0,0.5,1,1.5,2,2.5,3,3.5,4,4.5,5,5.5,6,6.5,7,7.5,8,8.5,9,9.5,25]\n",
    "\n",
    "plt.hist(data_num,bins=60,facecolor='green')\n",
    "plt.title(\"histogram\")\n",
    "plt.show()\n",
    "print(data_num[0])\n",
    "print(data_num[-1])\n",
    "\n"
   ]
  },
  {
   "cell_type": "markdown",
   "metadata": {},
   "source": []
  },
  {
   "cell_type": "code",
   "execution_count": 2,
   "metadata": {},
   "outputs": [
    {
     "data": {
      "image/png": "[encoded data removed]",
      "text/plain": [
       "<Figure size 432x288 with 1 Axes>"
      ]
     },
     "metadata": {
      "needs_background": "light"
     },
     "output_type": "display_data"
    },
    {
     "data": {
      "text/plain": [
       "[<matplotlib.lines.Line2D at 0x1e57402fb88>]"
      ]
     },
     "execution_count": 2,
     "metadata": {},
     "output_type": "execute_result"
    },
    {
     "data": {
      "image/png": "[encoded data removed]",
      "text/plain": [
       "<Figure size 432x288 with 1 Axes>"
      ]
     },
     "metadata": {
      "needs_background": "light"
     },
     "output_type": "display_data"
    }
   ],
   "source": [
    "import matplotlib.pyplot as plt\n",
    "import pandas as pd\n",
    "import numpy as np\n",
    "\n",
    "df = pd.read_excel(r'C:\\Users\\13670\\Desktop\\data3.xlsx',usecols=[0])\n",
    "\n",
    "tmp_result = df.values.tolist()\n",
    "#print(tmp_result)\n",
    "\n",
    "data_num = []\n",
    "for item in tmp_result:\n",
    "    data_num.append(item[0])\n",
    "    \n",
    "# result列的数据排序（从小到大）\n",
    "data_num.sort()\n",
    "\n",
    "# 计算需要删除的数据量\n",
    "cut_nums = int(len(data_num)*0.01) #(1%)\n",
    "\n",
    "# 去除前cut_nums 个数据\n",
    "del data_num[0:cut_nums]\n",
    "\n",
    "# 去除后cut_nmus 个数据\n",
    "del data_num[-cut_nums:]\n",
    "\n",
    "#bins = [0,0.3,0.6,0.9,1.2,1.5,1.8,2.1,2.4,2.7,3.0,3.3,3.6,3.9,4.2,4.5,4.8,5.1,5.4,5.7,6,6.3,6.6,6.9,7.2,7.5,7.8,8.1,8.4,8.7,9,9.3,9.6]\n",
    "#bins = [0,0.2,0.4,0.6,0.8,1,1.2,1.4,1.6,1.8,2,2.2,2.4,2.6,2.8,3.0,3.2,3.4,3.6,3.8,4,4.2,4.4,4.6,4.8,5,5.2,5.4,5.6,5.8,6,6.2,6.4,6.6,6.8,7]\n",
    "#bins = [0,0.5,1,1.5,2,2.5,3,3.5,4,4.5,5,5.5,6,6.5,7,7.5,8,8.5,9,9.5,25]\n",
    "bins = np.arange(0.5,3,0.1)\n",
    "# print(bins)\n",
    "\n",
    "plt.hist(data_num,bins=60,facecolor='green')\n",
    "\n",
    "# 打印x = 1的红线， \n",
    "plt.plot([0.3,0.3],[0,2000],\"r--\")\n",
    "# 打印x = 1.5的红线， \n",
    "plt.plot([9.4,9.4],[0,2000],\"r--\")\n"
   ]
  },
  {
   "cell_type": "code",
   "execution_count": 7,
   "metadata": {},
   "outputs": [
    {
     "data": {
      "text/plain": [
       "[<matplotlib.lines.Line2D at 0x1e5781aca88>]"
      ]
     },
     "execution_count": 7,
     "metadata": {},
     "output_type": "execute_result"
    },
    {
     "data": {
      "image/png": "[encoded data removed]",
      "text/plain": [
       "<Figure size 432x288 with 1 Axes>"
      ]
     },
     "metadata": {
      "needs_background": "light"
     },
     "output_type": "display_data"
    }
   ],
   "source": [
    "import matplotlib.pyplot as plt\n",
    "import pandas as pd\n",
    "import numpy as np\n",
    "\n",
    "%matplotlib inline\n",
    "df = pd.read_excel(r'C:\\Users\\13670\\Desktop\\data3.xlsx',usecols=[0])\n",
    "\n",
    "tmp_result = df.values.tolist()\n",
    "#print(tmp_result)\n",
    "\n",
    "data_num = []\n",
    "for item in tmp_result:\n",
    "    data_num.append(item[0])\n",
    "    \n",
    "# result列的数据排序（从小到大）\n",
    "data_num.sort()\n",
    "\n",
    "# 计算需要删除的数据量\n",
    "cut_nums = int(len(data_num)*0.01) #(1%)\n",
    "\n",
    "# 去除前cut_nums 个数据\n",
    "del data_num[0:cut_nums]\n",
    "\n",
    "# 去除后cut_nmus 个数据\n",
    "del data_num[-cut_nums:]\n",
    "\n",
    "#bins = [0,0.3,0.6,0.9,1.2,1.5,1.8,2.1,2.4,2.7,3.0,3.3,3.6,3.9,4.2,4.5,4.8,5.1,5.4,5.7,6,6.3,6.6,6.9,7.2,7.5,7.8,8.1,8.4,8.7,9,9.3,9.6]\n",
    "#bins = [0,0.2,0.4,0.6,0.8,1,1.2,1.4,1.6,1.8,2,2.2,2.4,2.6,2.8,3.0,3.2,3.4,3.6,3.8,4,4.2,4.4,4.6,4.8,5,5.2,5.4,5.6,5.8,6,6.2,6.4,6.6,6.8,7]\n",
    "#bins = [0,0.5,1,1.5,2,2.5,3,3.5,4,4.5,5,5.5,6,6.5,7,7.5,8,8.5,9,9.5,25]\n",
    "bins = np.arange(0.5,3,0.1)\n",
    "# print(bins)\n",
    "\n",
    "plt.hist(data_num,bins=50,facecolor='green')\n",
    "\n",
    "# 打印x = 1的红线， \n",
    "plt.plot([1.02,1.02],[0,500],\"r--\")\n",
    "# 打印x = 1.5的红线， \n",
    "plt.plot([2.88,2.88],[0,500],\"r--\")\n",
    "\n"
   ]
  },
  {
   "cell_type": "code",
   "execution_count": 8,
   "metadata": {},
   "outputs": [
    {
     "data": {
      "text/plain": [
       "[<matplotlib.lines.Line2D at 0x1e577a0bc08>]"
      ]
     },
     "execution_count": 8,
     "metadata": {},
     "output_type": "execute_result"
    },
    {
     "data": {
      "image/png": "[encoded data removed]",
      "text/plain": [
       "<Figure size 432x288 with 1 Axes>"
      ]
     },
     "metadata": {
      "needs_background": "light"
     },
     "output_type": "display_data"
    }
   ],
   "source": [
    "import matplotlib.pyplot as plt\n",
    "import pandas as pd\n",
    "import numpy as np\n",
    "\n",
    "#%matplotlib inline\n",
    "df = pd.read_excel(r'C:\\Users\\13670\\Desktop\\data4.xlsx',usecols=[0])\n",
    "\n",
    "tmp_result = df.values.tolist()\n",
    "#print(tmp_result)\n",
    "\n",
    "data_num = []\n",
    "for item in tmp_result:\n",
    "    data_num.append(item[0])\n",
    "    \n",
    "# result列的数据排序（从小到大）\n",
    "data_num.sort()\n",
    "\n",
    "# 计算需要删除的数据量\n",
    "cut_nums = int(len(data_num)*0.01) #(1%)\n",
    "\n",
    "# 去除前cut_nums 个数据\n",
    "del data_num[0:cut_nums]\n",
    "\n",
    "# 去除后cut_nmus 个数据\n",
    "del data_num[-cut_nums:]\n",
    "\n",
    "#bins = [0,0.3,0.6,0.9,1.2,1.5,1.8,2.1,2.4,2.7,3.0,3.3,3.6,3.9,4.2,4.5,4.8,5.1,5.4,5.7,6,6.3,6.6,6.9,7.2,7.5,7.8,8.1,8.4,8.7,9,9.3,9.6]\n",
    "#bins = [0,0.2,0.4,0.6,0.8,1,1.2,1.4,1.6,1.8,2,2.2,2.4,2.6,2.8,3.0,3.2,3.4,3.6,3.8,4,4.2,4.4,4.6,4.8,5,5.2,5.4,5.6,5.8,6,6.2,6.4,6.6,6.8,7]\n",
    "#bins = [0,0.5,1,1.5,2,2.5,3,3.5,4,4.5,5,5.5,6,6.5,7,7.5,8,8.5,9,9.5,25]\n",
    "bins = np.arange(0.5,3,0.1)\n",
    "# print(bins)\n",
    "\n",
    "plt.hist(data_num,bins=50,facecolor='blue')\n",
    "\n",
    "# 打印x = 1的红线， \n",
    "plt.plot([0.79,0.79],[0,2000],\"r--\")\n",
    "# 打印x = 1.5的红线， \n",
    "plt.plot([2.42,2.42],[0,2000],\"r--\")\n",
    "\n"
   ]
  },
  {
   "cell_type": "code",
   "execution_count": 12,
   "metadata": {},
   "outputs": [
    {
     "data": {
      "text/plain": [
       "<matplotlib.collections.PathCollection at 0x1e577a3ecc8>"
      ]
     },
     "execution_count": 12,
     "metadata": {},
     "output_type": "execute_result"
    },
    {
     "data": {
      "image/png": "[encoded data removed]",
      "text/plain": [
       "<Figure size 432x288 with 1 Axes>"
      ]
     },
     "metadata": {
      "needs_background": "light"
     },
     "output_type": "display_data"
    }
   ],
   "source": [
    "import numpy as np\n",
    "import matplotlib.pyplot as plt\n",
    "import pandas as pd\n",
    "%matplotlib inline\n",
    "df = pd.read_excel(r'C:\\Users\\13670\\Desktop\\data5.xlsx',usecols=[0,1])\n",
    "#rint(df)\n",
    "#plt.scatter(x, y)\n",
    "#plt.show()\n",
    "tmp_result = df.values.tolist()\n",
    "#print(tmp_result)\n",
    "\n",
    "result = []\n",
    "ages = []\n",
    "for item in tmp_result:\n",
    "    result.append(item[0])\n",
    "    ages.append(item[1])\n",
    "# 打印x = 1的红线， \n",
    "plt.plot([10,80],[1.02,1.02],\"r--\")\n",
    "# 打印x = 1.5的红线， \n",
    "plt.plot([10,80],[2.88,2.88],\"r--\")\n",
    "plt.scatter(ages, result)"
   ]
  },
  {
   "cell_type": "code",
   "execution_count": 19,
   "metadata": {},
   "outputs": [
    {
     "data": {
      "text/plain": [
       "<matplotlib.collections.PathCollection at 0x1e57796a488>"
      ]
     },
     "execution_count": 19,
     "metadata": {},
     "output_type": "execute_result"
    },
    {
     "data": {
      "image/png": "[encoded data removed]",
      "text/plain": [
       "<Figure size 432x288 with 1 Axes>"
      ]
     },
     "metadata": {
      "needs_background": "light"
     },
     "output_type": "display_data"
    }
   ],
   "source": [
    "import numpy as np\n",
    "import matplotlib.pyplot as plt\n",
    "import pandas as pd\n",
    "%matplotlib inline\n",
    "df = pd.read_excel(r'C:\\Users\\13670\\Desktop\\data6.xlsx',usecols=[0,1])\n",
    "#rint(df)\n",
    "#plt.scatter(x, y)\n",
    "#plt.show()\n",
    "tmp_result = df.values.tolist()\n",
    "#print(tmp_result)\n",
    "\n",
    "result = []\n",
    "ages = []\n",
    "for item in tmp_result:\n",
    "    result.append(item[0])\n",
    "    ages.append(item[1])\n",
    "# 打印x = 1的红线， \n",
    "plt.plot([10,80],[1.02,1.02],\"r--\")\n",
    "# 打印x = 1.5的红线， \n",
    "plt.plot([10,80],[2.88,2.88],\"r--\")\n",
    "plt.scatter(ages, result)"
   ]
  },
  {
   "cell_type": "code",
   "execution_count": 5,
   "metadata": {},
   "outputs": [],
   "source": [
    "import pandas as pd\n",
    "import numpy as np\n",
    "import itertools"
   ]
  },
  {
   "cell_type": "code",
   "execution_count": null,
   "metadata": {},
   "outputs": [],
   "source": [
    "dict = pd.read_excel(r'C:\\Users\\13670\\Desktop\\待完成\\项目4 回声tag分析\\dict2_conserv.xlsx')"
   ]
  },
  {
   "cell_type": "code",
   "execution_count": null,
   "metadata": {},
   "outputs": [],
   "source": [
    "tag = pd.read_pickle(r\"C:\\Users\\13670\\Desktop\\待完成\\项目4 回声tag分析\\3.pkl\")"
   ]
  },
  {
   "cell_type": "code",
   "execution_count": 62,
   "metadata": {},
   "outputs": [
    {
     "data": {
      "text/plain": [
       "0    OBDIM0002Tag0001\n",
       "0    OBDIM0002Tag0002\n",
       "0    OBDIM0002Tag0003\n",
       "0    OBDIM0002Tag0004\n",
       "0    OBDIM0002Tag0005\n",
       "           ...       \n",
       "0    OBDIM0074Tag0021\n",
       "0    OBDIM0074Tag0022\n",
       "0    OBDIM0074Tag0023\n",
       "0    OBDIM0074Tag0024\n",
       "0    OBDIM0074Tag0025\n",
       "Name: TAG_ID, Length: 416, dtype: object"
      ]
     },
     "execution_count": 62,
     "metadata": {},
     "output_type": "execute_result"
    }
   ],
   "source": [
    "tag.TAG_ID.drop_duplicates()"
   ]
  },
  {
   "cell_type": "code",
   "execution_count": null,
   "metadata": {},
   "outputs": [],
   "source": [
    "tag1 = pd.read_pickle(r\"C:\\Users\\13670\\Desktop\\待完成\\项目4 回声tag分析\\2.pkl\")"
   ]
  },
  {
   "cell_type": "code",
   "execution_count": 63,
   "metadata": {},
   "outputs": [
    {
     "data": {
      "text/plain": [
       "0    OBDIM0002Tag0001\n",
       "0    OBDIM0002Tag0002\n",
       "0    OBDIM0002Tag0003\n",
       "0    OBDIM0002Tag0004\n",
       "0    OBDIM0002Tag0005\n",
       "           ...       \n",
       "0    OBDIM0086Tag0008\n",
       "0    OBDIM0086Tag0010\n",
       "0    OBDIM0086Tag0011\n",
       "0    OBDIM0086Tag0013\n",
       "0    OBDIM0086Tag0016\n",
       "Name: TAG_ID, Length: 247, dtype: object"
      ]
     },
     "execution_count": 63,
     "metadata": {},
     "output_type": "execute_result"
    }
   ],
   "source": [
    "tag1.TAG_ID.drop_duplicates()"
   ]
  },
  {
   "cell_type": "code",
   "execution_count": 64,
   "metadata": {},
   "outputs": [
    {
     "data": {
      "text/html": [
       "<div>\n",
       "<style scoped>\n",
       "    .dataframe tbody tr th:only-of-type {\n",
       "        vertical-align: middle;\n",
       "    }\n",
       "\n",
       "    .dataframe tbody tr th {\n",
       "        vertical-align: top;\n",
       "    }\n",
       "\n",
       "    .dataframe thead th {\n",
       "        text-align: right;\n",
       "    }\n",
       "</style>\n",
       "<table border=\"1\" class=\"dataframe\">\n",
       "  <thead>\n",
       "    <tr style=\"text-align: right;\">\n",
       "      <th></th>\n",
       "      <th>ORDER_CODE</th>\n",
       "      <th>TAG_ID</th>\n",
       "    </tr>\n",
       "  </thead>\n",
       "  <tbody>\n",
       "    <tr>\n",
       "      <th>0</th>\n",
       "      <td>000105091894</td>\n",
       "      <td>OBDIM0002Tag0001</td>\n",
       "    </tr>\n",
       "    <tr>\n",
       "      <th>1</th>\n",
       "      <td>000112387432</td>\n",
       "      <td>OBDIM0002Tag0001</td>\n",
       "    </tr>\n",
       "    <tr>\n",
       "      <th>2</th>\n",
       "      <td>000209723395</td>\n",
       "      <td>OBDIM0002Tag0001</td>\n",
       "    </tr>\n",
       "    <tr>\n",
       "      <th>3</th>\n",
       "      <td>000399520726</td>\n",
       "      <td>OBDIM0002Tag0001</td>\n",
       "    </tr>\n",
       "    <tr>\n",
       "      <th>4</th>\n",
       "      <td>000431674764</td>\n",
       "      <td>OBDIM0002Tag0001</td>\n",
       "    </tr>\n",
       "    <tr>\n",
       "      <th>...</th>\n",
       "      <td>...</td>\n",
       "      <td>...</td>\n",
       "    </tr>\n",
       "    <tr>\n",
       "      <th>159</th>\n",
       "      <td>8kfkstybum43hla</td>\n",
       "      <td>OBDIM0074Tag0025</td>\n",
       "    </tr>\n",
       "    <tr>\n",
       "      <th>160</th>\n",
       "      <td>8kfkxh18yvawjrb</td>\n",
       "      <td>OBDIM0074Tag0025</td>\n",
       "    </tr>\n",
       "    <tr>\n",
       "      <th>161</th>\n",
       "      <td>8kfkymrhsiecib1</td>\n",
       "      <td>OBDIM0074Tag0025</td>\n",
       "    </tr>\n",
       "    <tr>\n",
       "      <th>162</th>\n",
       "      <td>8kfl1p2k3jpximl</td>\n",
       "      <td>OBDIM0074Tag0025</td>\n",
       "    </tr>\n",
       "    <tr>\n",
       "      <th>163</th>\n",
       "      <td>8kfl2dfxss4a5s1</td>\n",
       "      <td>OBDIM0074Tag0025</td>\n",
       "    </tr>\n",
       "  </tbody>\n",
       "</table>\n",
       "<p>1966214 rows × 2 columns</p>\n",
       "</div>"
      ],
      "text/plain": [
       "          ORDER_CODE            TAG_ID\n",
       "0       000105091894  OBDIM0002Tag0001\n",
       "1       000112387432  OBDIM0002Tag0001\n",
       "2       000209723395  OBDIM0002Tag0001\n",
       "3       000399520726  OBDIM0002Tag0001\n",
       "4       000431674764  OBDIM0002Tag0001\n",
       "..               ...               ...\n",
       "159  8kfkstybum43hla  OBDIM0074Tag0025\n",
       "160  8kfkxh18yvawjrb  OBDIM0074Tag0025\n",
       "161  8kfkymrhsiecib1  OBDIM0074Tag0025\n",
       "162  8kfl1p2k3jpximl  OBDIM0074Tag0025\n",
       "163  8kfl2dfxss4a5s1  OBDIM0074Tag0025\n",
       "\n",
       "[1966214 rows x 2 columns]"
      ]
     },
     "execution_count": 64,
     "metadata": {},
     "output_type": "execute_result"
    }
   ],
   "source": [
    "tag"
   ]
  },
  {
   "cell_type": "code",
   "execution_count": 65,
   "metadata": {},
   "outputs": [
    {
     "data": {
      "text/html": [
       "<div>\n",
       "<style scoped>\n",
       "    .dataframe tbody tr th:only-of-type {\n",
       "        vertical-align: middle;\n",
       "    }\n",
       "\n",
       "    .dataframe tbody tr th {\n",
       "        vertical-align: top;\n",
       "    }\n",
       "\n",
       "    .dataframe thead th {\n",
       "        text-align: right;\n",
       "    }\n",
       "</style>\n",
       "<table border=\"1\" class=\"dataframe\">\n",
       "  <thead>\n",
       "    <tr style=\"text-align: right;\">\n",
       "      <th></th>\n",
       "      <th>ORDER_CODE</th>\n",
       "      <th>TAG_ID</th>\n",
       "    </tr>\n",
       "  </thead>\n",
       "  <tbody>\n",
       "    <tr>\n",
       "      <th>0</th>\n",
       "      <td>000105091894</td>\n",
       "      <td>OBDIM0002Tag0001</td>\n",
       "    </tr>\n",
       "    <tr>\n",
       "      <th>1</th>\n",
       "      <td>000112387432</td>\n",
       "      <td>OBDIM0002Tag0001</td>\n",
       "    </tr>\n",
       "    <tr>\n",
       "      <th>2</th>\n",
       "      <td>000209723395</td>\n",
       "      <td>OBDIM0002Tag0001</td>\n",
       "    </tr>\n",
       "    <tr>\n",
       "      <th>3</th>\n",
       "      <td>000399520726</td>\n",
       "      <td>OBDIM0002Tag0001</td>\n",
       "    </tr>\n",
       "    <tr>\n",
       "      <th>4</th>\n",
       "      <td>000431674764</td>\n",
       "      <td>OBDIM0002Tag0001</td>\n",
       "    </tr>\n",
       "    <tr>\n",
       "      <th>...</th>\n",
       "      <td>...</td>\n",
       "      <td>...</td>\n",
       "    </tr>\n",
       "    <tr>\n",
       "      <th>32</th>\n",
       "      <td>988359921758</td>\n",
       "      <td>OBDIM0086Tag0016</td>\n",
       "    </tr>\n",
       "    <tr>\n",
       "      <th>33</th>\n",
       "      <td>998915970279</td>\n",
       "      <td>OBDIM0086Tag0016</td>\n",
       "    </tr>\n",
       "    <tr>\n",
       "      <th>34</th>\n",
       "      <td>801163913399</td>\n",
       "      <td>OBDIM0086Tag0016</td>\n",
       "    </tr>\n",
       "    <tr>\n",
       "      <th>35</th>\n",
       "      <td>350520677807</td>\n",
       "      <td>OBDIM0086Tag0016</td>\n",
       "    </tr>\n",
       "    <tr>\n",
       "      <th>36</th>\n",
       "      <td>562831914805</td>\n",
       "      <td>OBDIM0086Tag0016</td>\n",
       "    </tr>\n",
       "  </tbody>\n",
       "</table>\n",
       "<p>978488 rows × 2 columns</p>\n",
       "</div>"
      ],
      "text/plain": [
       "      ORDER_CODE            TAG_ID\n",
       "0   000105091894  OBDIM0002Tag0001\n",
       "1   000112387432  OBDIM0002Tag0001\n",
       "2   000209723395  OBDIM0002Tag0001\n",
       "3   000399520726  OBDIM0002Tag0001\n",
       "4   000431674764  OBDIM0002Tag0001\n",
       "..           ...               ...\n",
       "32  988359921758  OBDIM0086Tag0016\n",
       "33  998915970279  OBDIM0086Tag0016\n",
       "34  801163913399  OBDIM0086Tag0016\n",
       "35  350520677807  OBDIM0086Tag0016\n",
       "36  562831914805  OBDIM0086Tag0016\n",
       "\n",
       "[978488 rows x 2 columns]"
      ]
     },
     "execution_count": 65,
     "metadata": {},
     "output_type": "execute_result"
    }
   ],
   "source": [
    "tag1"
   ]
  },
  {
   "cell_type": "code",
   "execution_count": 30,
   "metadata": {},
   "outputs": [],
   "source": [
    "tagall = pd.merge(tag,dict,left_on = \"TAG_ID\",right_on = \"id\")\n",
    "\n",
    "list =pd.DataFrame(tagall[\"name\"].drop_duplicates()) \n",
    "con = pd.merge(list,dict,on = \"name\",how = \"inner\")"
   ]
  },
  {
   "cell_type": "code",
   "execution_count": 48,
   "metadata": {},
   "outputs": [],
   "source": [
    "cov = []\n",
    "a = []\n",
    "b = []\n",
    "\n",
    "for obdim in tagall.obdimid.drop_duplicates():\n",
    "    df = tagall.loc[tagall['obdimid']== obdim,['ORDER_CODE','obdimname','obdimid','id','name','abbr','logic']]       \n",
    "    df['score']=1    \n",
    "    dfp = pd.pivot_table(df,index='ORDER_CODE',columns='name',values='score').fillna(0)\n",
    "    dfp1 = dfp.loc[:,~dfp.columns.str.contains('存在')]\n",
    "\n",
    "    for j in itertools.combinations(dfp1.columns,2):\n",
    "        a.append(j[0])\n",
    "        b.append(j[1])\n",
    "        cov.append(dfp1[j[0]].corr(dfp1[j[1]]))\n",
    "        cor = pd.DataFrame({'a':a,'b':b,'cov':cov})       \n",
    "        corr = cor.loc[cor['cov']<0.99999]\n",
    "\n",
    "corr.to_excel(r'C:\\Users\\13670\\Desktop\\待完成\\项目4 回声tag分析\\cor_conserv.xlsx') "
   ]
  },
  {
   "cell_type": "code",
   "execution_count": 49,
   "metadata": {},
   "outputs": [],
   "source": [
    "name_dict = con.set_index(\"name\")[\"abbr\"].to_dict()\n",
    "\n",
    "def data_abbr_process(data):\n",
    "    for columns in('a','b'):\n",
    "        data = data.replace({columns:name_dict})\n",
    "    return data\n",
    "\n",
    "corr_abbr = data_abbr_process(corr)\n",
    "corr_abbr.to_excel(r'C:\\Users\\13670\\Desktop\\待完成\\项目4 回声tag分析\\cor_conserv_abbr.xlsx')      "
   ]
  },
  {
   "cell_type": "code",
   "execution_count": 39,
   "metadata": {},
   "outputs": [
    {
     "data": {
      "text/plain": [
       "Index(['急性胆囊炎', '慢性胆囊炎', '胆囊占位性病变', '胆囊增大', '胆囊壁低回声', '胆囊壁增厚', '胆囊壁强回声',\n",
       "       '胆囊壁欠光滑', '胆囊壁毛糙', '胆囊壁等回声', '胆囊壁结晶', '胆囊壁高回声', '胆囊已切除', '胆囊息肉', '胆囊炎',\n",
       "       '胆囊结石', '胆囊腔内低回声', '胆囊腔内异常回声', '胆囊腔内强回声', '胆囊腔内等回声', '胆囊腔内高回声', '胆囊腺肌症',\n",
       "       '胆囊赘生物', '胆囊隆起样病变', '胆总管增宽'],\n",
       "      dtype='object', name='name')"
      ]
     },
     "execution_count": 39,
     "metadata": {},
     "output_type": "execute_result"
    }
   ],
   "source": [
    "dfp.columns.values.tolist()"
   ]
  },
  {
   "cell_type": "code",
   "execution_count": 40,
   "metadata": {},
   "outputs": [
    {
     "data": {
      "text/plain": [
       "['急性胆囊炎',\n",
       " '慢性胆囊炎',\n",
       " '胆囊占位性病变',\n",
       " '胆囊增大',\n",
       " '胆囊壁低回声',\n",
       " '胆囊壁增厚',\n",
       " '胆囊壁强回声',\n",
       " '胆囊壁欠光滑',\n",
       " '胆囊壁毛糙',\n",
       " '胆囊壁等回声',\n",
       " '胆囊壁结晶',\n",
       " '胆囊壁高回声',\n",
       " '胆囊已切除',\n",
       " '胆囊息肉',\n",
       " '胆囊炎',\n",
       " '胆囊结石',\n",
       " '胆囊腔内低回声',\n",
       " '胆囊腔内异常回声',\n",
       " '胆囊腔内强回声',\n",
       " '胆囊腔内等回声',\n",
       " '胆囊腔内高回声',\n",
       " '胆囊腺肌症',\n",
       " '胆囊赘生物',\n",
       " '胆囊隆起样病变',\n",
       " '胆总管增宽']"
      ]
     },
     "execution_count": 40,
     "metadata": {},
     "output_type": "execute_result"
    }
   ],
   "source": [
    "dfp.columns.values.tolist()"
   ]
  },
  {
   "cell_type": "code",
   "execution_count": 50,
   "metadata": {},
   "outputs": [
    {
     "data": {
      "text/plain": [
       "0          OBDIM0002\n",
       "401798     OBDIM0003\n",
       "456050     OBDIM0004\n",
       "886294     OBDIM0005\n",
       "897510     OBDIM0006\n",
       "1138705    OBDIM0017\n",
       "1152900    OBDIM0018\n",
       "1393104    OBDIM0019\n",
       "1603314    OBDIM0020\n",
       "1646230    OBDIM0021\n",
       "1668676    OBDIM0073\n",
       "1788503    OBDIM0074\n",
       "Name: obdimid, dtype: object"
      ]
     },
     "execution_count": 50,
     "metadata": {},
     "output_type": "execute_result"
    }
   ],
   "source": [
    "tagall.obdimid.drop_duplicates()"
   ]
  },
  {
   "cell_type": "code",
   "execution_count": 51,
   "metadata": {},
   "outputs": [
    {
     "data": {
      "text/plain": [
       "0      OBDIM0002\n",
       "37     OBDIM0003\n",
       "47     OBDIM0004\n",
       "107    OBDIM0005\n",
       "126    OBDIM0006\n",
       "210    OBDIM0017\n",
       "223    OBDIM0018\n",
       "270    OBDIM0019\n",
       "354    OBDIM0020\n",
       "400    OBDIM0021\n",
       "415    OBDIM0073\n",
       "431    OBDIM0074\n",
       "469    OBDIM0075\n",
       "573    OBDIM0085\n",
       "579    OBDIM0086\n",
       "Name: obdimid, dtype: object"
      ]
     },
     "execution_count": 51,
     "metadata": {},
     "output_type": "execute_result"
    }
   ],
   "source": [
    "dict['obdimid'].drop_duplicates()"
   ]
  },
  {
   "cell_type": "code",
   "execution_count": null,
   "metadata": {},
   "outputs": [],
   "source": [
    "import pandas as pd\n",
    "import numpy as np\n",
    "import itertools\n",
    "\n",
    "dict = pd.read_excel(r'C:\\Users\\13670\\Desktop\\待完成\\项目4 回声tag分析\\dict2_conserv.xlsx')\n",
    "tag = pd.read_pickle(r\"C:\\Users\\13670\\Desktop\\待完成\\项目4 回声tag分析\\3.pkl\")\n",
    "\n",
    "tagall = pd.merge(tag,dict,left_on = \"TAG_ID\",right_on = \"id\")\n",
    "\n",
    "list =pd.DataFrame(tagall[\"name\"].drop_duplicates()) \n",
    "con = pd.merge(list,dict,on = \"name\",how = \"inner\")\n",
    "\n",
    "cov = []\n",
    "a = []\n",
    "b = []\n",
    "\n",
    "\n",
    "for obdim in tagall.obdimid.drop_duplicates():\n",
    "    df = tagall.loc[tagall['obdimid']== obdim,['ORDER_CODE','obdimname','obdimid','id','name','abbr','logic']]       \n",
    "    df['score']=1    \n",
    "    dfp = pd.pivot_table(df,index='ORDER_CODE',columns='name',values='score').fillna(0)\n",
    "    dfp1 = dfp.loc[:,~dfp.columns.str.contains('存在')]\n",
    "\n",
    "\n",
    "for obdimid in dict['obdimid'].drop_duplicates():\n",
    "    df = tagall.loc[tagall[\"obdimid\"] == obdimid, [\"ORDER_CODE\",\"obdimname\",\"name\",\"abbr\"]]\n",
    "    df['score'] = 1\n",
    "    dfp = pd.pivot_table(df,index='ORDER_CODE',columns='name',values='score')\n",
    "    dfp = dfp.loc[:,dfp.columns.str.contains('EX')==False].fillna(0)\n",
    "\n",
    "    for j in itertools.combinations(dfp.columns,2):\n",
    "        a.append(j[0])\n",
    "        b.append(j[1])\n",
    "        cov.append(dfp[j[0]].corr(dfp[j[1]]))\n",
    "        cor = pd.DataFrame({'a':a,'b':b,'cov':cov})       \n",
    "        corr = cor.loc[cor['cov']<0.99999]\n",
    "\n",
    "corr.to_excel(r'C:\\Users\\13670\\Desktop\\待完成\\项目4 回声tag分析\\cor_conserv.xlsx') \n",
    "        \n",
    "name_dict = con.set_index(\"name\")[\"abbr\"].to_dict()\n",
    "def data_abbr_process(data):\n",
    "    for columns in('a','b'):\n",
    "        data = data.replace({columns:name_dict})\n",
    "    return data\n",
    "\n",
    "corr_abbr = data_abbr_process(corr)\n",
    "\n",
    "corr_abbr.to_excel(r'C:\\Users\\13670\\Desktop\\待完成\\项目4 回声tag分析\\cor_conserv_abbr.xlsx')      "
   ]
  }
 ],
 "metadata": {
  "kernelspec": {
   "display_name": "Python 3",
   "language": "python",
   "name": "python3"
  },
  "language_info": {
   "codemirror_mode": {
    "name": "ipython",
    "version": 3
   },
   "file_extension": ".py",
   "mimetype": "text/x-python",
   "name": "python",
   "nbconvert_exporter": "python",
   "pygments_lexer": "ipython3",
   "version": "3.7.6"
  }
 },
 "nbformat": 4,
 "nbformat_minor": 4
}
