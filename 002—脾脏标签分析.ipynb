{
 "cells": [
  {
   "cell_type": "code",
   "execution_count": 1,
   "metadata": {
    "ExecuteTime": {
     "end_time": "2020-12-28T01:03:03.546579Z",
     "start_time": "2020-12-28T01:03:01.657060Z"
    }
   },
   "outputs": [],
   "source": [
    "import pymysql\n",
    "import pandas as pd\n",
    "import numpy as np\n",
    "from functools import reduce"
   ]
  },
  {
   "cell_type": "code",
   "execution_count": 2,
   "metadata": {
    "ExecuteTime": {
     "end_time": "2020-12-28T01:03:34.699754Z",
     "start_time": "2020-12-28T01:03:34.421306Z"
    }
   },
   "outputs": [],
   "source": [
    "conn=pymysql.connect(host='mysql-backup.shanzhen.me',\n",
    "                     user='readonly_medicine_liuqq',\n",
    "                     password=\"r3g1^QWgV8GeYJw4\",\n",
    "                     database='asgard_dataplatform',\n",
    "                     port= 3001,\n",
    "                     charset='utf8')"
   ]
  },
  {
   "cell_type": "code",
   "execution_count": 5,
   "metadata": {
    "ExecuteTime": {
     "end_time": "2020-12-28T01:05:41.611046Z",
     "start_time": "2020-12-28T01:05:41.582149Z"
    },
    "collapsed": true
   },
   "outputs": [
    {
     "data": {
      "text/plain": [
       "['OBDIM0005EX',\n",
       " 'OBDIM0005Tag0001',\n",
       " 'OBDIM0005Tag0002',\n",
       " 'OBDIM0005Tag0003',\n",
       " 'OBDIM0005Tag0004',\n",
       " 'OBDIM0005Tag0005',\n",
       " 'OBDIM0005Tag0006',\n",
       " 'OBDIM0005Tag0007',\n",
       " 'OBDIM0005Tag0008',\n",
       " 'OBDIM0005Tag0009',\n",
       " 'OBDIM0005Tag0010',\n",
       " 'OBDIM0005Tag0011',\n",
       " 'OBDIM0005Tag0012',\n",
       " 'OBDIM0005Tag0013',\n",
       " 'OBDIM0005Tag0015',\n",
       " 'OBDIM0005Tag0016',\n",
       " 'OBDIM0005Tag0017',\n",
       " 'OBDIM0005Tag0018',\n",
       " 'OBDIM0005Tag0019',\n",
       " 'OBDIM0005Tag0020']"
      ]
     },
     "execution_count": 5,
     "metadata": {},
     "output_type": "execute_result"
    }
   ],
   "source": [
    "dict0 = pd.read_excel(r\"C:\\Users\\13670\\Desktop\\待完成\\项目4 回声tag分析\\脾脏\\dict.xlsx\")\n",
    "id_list = dict0.loc[:,'TagID'].values.tolist()\n",
    "id_list"
   ]
  },
  {
   "cell_type": "code",
   "execution_count": 6,
   "metadata": {
    "ExecuteTime": {
     "end_time": "2020-12-28T01:21:15.106849Z",
     "start_time": "2020-12-28T01:05:51.987154Z"
    }
   },
   "outputs": [
    {
     "data": {
      "text/html": [
       "<div>\n",
       "<style scoped>\n",
       "    .dataframe tbody tr th:only-of-type {\n",
       "        vertical-align: middle;\n",
       "    }\n",
       "\n",
       "    .dataframe tbody tr th {\n",
       "        vertical-align: top;\n",
       "    }\n",
       "\n",
       "    .dataframe thead th {\n",
       "        text-align: right;\n",
       "    }\n",
       "</style>\n",
       "<table border=\"1\" class=\"dataframe\">\n",
       "  <thead>\n",
       "    <tr style=\"text-align: right;\">\n",
       "      <th></th>\n",
       "      <th>ORDER_CODE</th>\n",
       "      <th>TAG_ID</th>\n",
       "    </tr>\n",
       "  </thead>\n",
       "  <tbody>\n",
       "    <tr>\n",
       "      <th>0</th>\n",
       "      <td>000002165753</td>\n",
       "      <td>OBDIM0005EX</td>\n",
       "    </tr>\n",
       "    <tr>\n",
       "      <th>1</th>\n",
       "      <td>000003745904</td>\n",
       "      <td>OBDIM0005EX</td>\n",
       "    </tr>\n",
       "    <tr>\n",
       "      <th>2</th>\n",
       "      <td>000004598254</td>\n",
       "      <td>OBDIM0005EX</td>\n",
       "    </tr>\n",
       "    <tr>\n",
       "      <th>3</th>\n",
       "      <td>000006786795</td>\n",
       "      <td>OBDIM0005EX</td>\n",
       "    </tr>\n",
       "    <tr>\n",
       "      <th>4</th>\n",
       "      <td>000007081060</td>\n",
       "      <td>OBDIM0005EX</td>\n",
       "    </tr>\n",
       "    <tr>\n",
       "      <th>...</th>\n",
       "      <td>...</td>\n",
       "      <td>...</td>\n",
       "    </tr>\n",
       "    <tr>\n",
       "      <th>100</th>\n",
       "      <td>616574711105</td>\n",
       "      <td>OBDIM0005Tag0020</td>\n",
       "    </tr>\n",
       "    <tr>\n",
       "      <th>101</th>\n",
       "      <td>617372941459</td>\n",
       "      <td>OBDIM0005Tag0020</td>\n",
       "    </tr>\n",
       "    <tr>\n",
       "      <th>102</th>\n",
       "      <td>366403672858</td>\n",
       "      <td>OBDIM0005Tag0020</td>\n",
       "    </tr>\n",
       "    <tr>\n",
       "      <th>103</th>\n",
       "      <td>629053262658</td>\n",
       "      <td>OBDIM0005Tag0020</td>\n",
       "    </tr>\n",
       "    <tr>\n",
       "      <th>104</th>\n",
       "      <td>383680288139</td>\n",
       "      <td>OBDIM0005Tag0020</td>\n",
       "    </tr>\n",
       "  </tbody>\n",
       "</table>\n",
       "<p>736913 rows × 2 columns</p>\n",
       "</div>"
      ],
      "text/plain": [
       "       ORDER_CODE            TAG_ID\n",
       "0    000002165753       OBDIM0005EX\n",
       "1    000003745904       OBDIM0005EX\n",
       "2    000004598254       OBDIM0005EX\n",
       "3    000006786795       OBDIM0005EX\n",
       "4    000007081060       OBDIM0005EX\n",
       "..            ...               ...\n",
       "100  616574711105  OBDIM0005Tag0020\n",
       "101  617372941459  OBDIM0005Tag0020\n",
       "102  366403672858  OBDIM0005Tag0020\n",
       "103  629053262658  OBDIM0005Tag0020\n",
       "104  383680288139  OBDIM0005Tag0020\n",
       "\n",
       "[736913 rows x 2 columns]"
      ]
     },
     "execution_count": 6,
     "metadata": {},
     "output_type": "execute_result"
    }
   ],
   "source": [
    "tag_df = pd.DataFrame()\n",
    "\n",
    "for items in id_list:\n",
    "    id_str = \"'\"+ items + \"'\"\n",
    "    tagsql = 'SELECT ORDER_CODE,TAG_ID \\\n",
    "    FROM t66_apollo_offline_analysis_tag \\\n",
    "    WHERE SOURCE_TYPE = 1 \\\n",
    "    AND SZ_STATUS = 1 AND TAG_ID IN ('+id_str+') '\n",
    "    tag = pd.read_sql(tagsql,con=conn)\n",
    "    tag_df = pd.concat([tag_df,tag],axis = 0) \n",
    "    \n",
    "tag_df"
   ]
  },
  {
   "cell_type": "code",
   "execution_count": 10,
   "metadata": {
    "ExecuteTime": {
     "end_time": "2020-12-28T01:36:38.462827Z",
     "start_time": "2020-12-28T01:36:38.287984Z"
    }
   },
   "outputs": [
    {
     "data": {
      "text/plain": [
       "0         000002165753\n",
       "1         000003745904\n",
       "2         000004598254\n",
       "3         000006786795\n",
       "4         000007081060\n",
       "              ...     \n",
       "719187    385693808715\n",
       "719188    385695571308\n",
       "719189    385697035476\n",
       "719190    385704783135\n",
       "719191    385707345400\n",
       "Name: ORDER_CODE, Length: 719192, dtype: object"
      ]
     },
     "execution_count": 10,
     "metadata": {},
     "output_type": "execute_result"
    }
   ],
   "source": [
    "tag_df.ORDER_CODE.drop_duplicates()"
   ]
  },
  {
   "cell_type": "code",
   "execution_count": 7,
   "metadata": {
    "ExecuteTime": {
     "end_time": "2020-12-28T01:34:12.737842Z",
     "start_time": "2020-12-28T01:34:12.133271Z"
    }
   },
   "outputs": [],
   "source": [
    "tag_df.to_pickle(r\"C:\\Users\\13670\\Desktop\\待完成\\项目4 回声tag分析\\脾脏\\tagall.pkl\")"
   ]
  },
  {
   "cell_type": "markdown",
   "metadata": {},
   "source": [
    "#### 关联分析"
   ]
  },
  {
   "cell_type": "code",
   "execution_count": 8,
   "metadata": {
    "ExecuteTime": {
     "end_time": "2020-12-28T01:34:21.827471Z",
     "start_time": "2020-12-28T01:34:18.805360Z"
    }
   },
   "outputs": [],
   "source": [
    "from mlxtend.preprocessing import TransactionEncoder\n",
    "from mlxtend.frequent_patterns import apriori\n",
    "from mlxtend.frequent_patterns import association_rules\n",
    "import pandas as pd\n",
    "import numpy as np"
   ]
  },
  {
   "cell_type": "code",
   "execution_count": 9,
   "metadata": {
    "ExecuteTime": {
     "end_time": "2020-12-28T01:35:47.772185Z",
     "start_time": "2020-12-28T01:35:47.700210Z"
    }
   },
   "outputs": [
    {
     "data": {
      "text/html": [
       "<div>\n",
       "<style scoped>\n",
       "    .dataframe tbody tr th:only-of-type {\n",
       "        vertical-align: middle;\n",
       "    }\n",
       "\n",
       "    .dataframe tbody tr th {\n",
       "        vertical-align: top;\n",
       "    }\n",
       "\n",
       "    .dataframe thead th {\n",
       "        text-align: right;\n",
       "    }\n",
       "</style>\n",
       "<table border=\"1\" class=\"dataframe\">\n",
       "  <thead>\n",
       "    <tr style=\"text-align: right;\">\n",
       "      <th></th>\n",
       "      <th>ORDER_CODE</th>\n",
       "      <th>TAG_ID</th>\n",
       "    </tr>\n",
       "  </thead>\n",
       "  <tbody>\n",
       "    <tr>\n",
       "      <th>0</th>\n",
       "      <td>5kfotv2anq74tbv</td>\n",
       "      <td>OBDIM0005Tag0001</td>\n",
       "    </tr>\n",
       "    <tr>\n",
       "      <th>1</th>\n",
       "      <td>636071238995</td>\n",
       "      <td>OBDIM0005Tag0001</td>\n",
       "    </tr>\n",
       "    <tr>\n",
       "      <th>2</th>\n",
       "      <td>5khct5gh4ih6fc9</td>\n",
       "      <td>OBDIM0005Tag0001</td>\n",
       "    </tr>\n",
       "    <tr>\n",
       "      <th>3</th>\n",
       "      <td>636428133961</td>\n",
       "      <td>OBDIM0005Tag0001</td>\n",
       "    </tr>\n",
       "    <tr>\n",
       "      <th>4</th>\n",
       "      <td>002300805886</td>\n",
       "      <td>OBDIM0005Tag0001</td>\n",
       "    </tr>\n",
       "    <tr>\n",
       "      <th>...</th>\n",
       "      <td>...</td>\n",
       "      <td>...</td>\n",
       "    </tr>\n",
       "    <tr>\n",
       "      <th>100</th>\n",
       "      <td>616574711105</td>\n",
       "      <td>OBDIM0005Tag0020</td>\n",
       "    </tr>\n",
       "    <tr>\n",
       "      <th>101</th>\n",
       "      <td>617372941459</td>\n",
       "      <td>OBDIM0005Tag0020</td>\n",
       "    </tr>\n",
       "    <tr>\n",
       "      <th>102</th>\n",
       "      <td>366403672858</td>\n",
       "      <td>OBDIM0005Tag0020</td>\n",
       "    </tr>\n",
       "    <tr>\n",
       "      <th>103</th>\n",
       "      <td>629053262658</td>\n",
       "      <td>OBDIM0005Tag0020</td>\n",
       "    </tr>\n",
       "    <tr>\n",
       "      <th>104</th>\n",
       "      <td>383680288139</td>\n",
       "      <td>OBDIM0005Tag0020</td>\n",
       "    </tr>\n",
       "  </tbody>\n",
       "</table>\n",
       "<p>17721 rows × 2 columns</p>\n",
       "</div>"
      ],
      "text/plain": [
       "          ORDER_CODE            TAG_ID\n",
       "0    5kfotv2anq74tbv  OBDIM0005Tag0001\n",
       "1       636071238995  OBDIM0005Tag0001\n",
       "2    5khct5gh4ih6fc9  OBDIM0005Tag0001\n",
       "3       636428133961  OBDIM0005Tag0001\n",
       "4       002300805886  OBDIM0005Tag0001\n",
       "..               ...               ...\n",
       "100     616574711105  OBDIM0005Tag0020\n",
       "101     617372941459  OBDIM0005Tag0020\n",
       "102     366403672858  OBDIM0005Tag0020\n",
       "103     629053262658  OBDIM0005Tag0020\n",
       "104     383680288139  OBDIM0005Tag0020\n",
       "\n",
       "[17721 rows x 2 columns]"
      ]
     },
     "execution_count": 9,
     "metadata": {},
     "output_type": "execute_result"
    }
   ],
   "source": [
    "tag_df1 = tag_df[tag_df.TAG_ID != 'OBDIM0005EX']\n",
    "tag_df1"
   ]
  },
  {
   "cell_type": "code",
   "execution_count": 11,
   "metadata": {
    "ExecuteTime": {
     "end_time": "2020-12-28T01:37:13.190276Z",
     "start_time": "2020-12-28T01:37:13.180300Z"
    }
   },
   "outputs": [
    {
     "data": {
      "text/plain": [
       "0      5kfotv2anq74tbv\n",
       "1         636071238995\n",
       "2      5khct5gh4ih6fc9\n",
       "3         636428133961\n",
       "4         002300805886\n",
       "            ...       \n",
       "89     5khbnq55jrxvw7j\n",
       "99        979742189528\n",
       "100       616574711105\n",
       "102       366403672858\n",
       "103       629053262658\n",
       "Name: ORDER_CODE, Length: 13593, dtype: object"
      ]
     },
     "execution_count": 11,
     "metadata": {},
     "output_type": "execute_result"
    }
   ],
   "source": [
    "tag_df1.ORDER_CODE.drop_duplicates()"
   ]
  },
  {
   "cell_type": "code",
   "execution_count": null,
   "metadata": {},
   "outputs": [],
   "source": []
  },
  {
   "cell_type": "code",
   "execution_count": null,
   "metadata": {},
   "outputs": [],
   "source": [
    "def PrepareData (tagall):\n",
    "    ordercode_list = []\n",
    "    taglist = []\n",
    "    for order_code in np.unique(tagall.ORDER_CODE):\n",
    "        taglist_ = tagall.loc[tagall.ORDER_CODE == order_code, 'TagName'].values.tolist() \n",
    "        ordercode_list.append(order_code)\n",
    "        taglist.append(taglist_)\n",
    "    df = pd.DataFrame({\"order_code\": ordercode_list, \"taglist\":taglist})\n",
    "    return df"
   ]
  },
  {
   "cell_type": "code",
   "execution_count": null,
   "metadata": {},
   "outputs": [],
   "source": [
    "def AprioriAnalysis(dfData,min_supp,min_conf):\n",
    "    DataList = dfData.taglist.values.tolist()\n",
    "    te = TransactionEncoder()\n",
    "    df_tf = te.fit_transform(DataList)\n",
    "    df = pd.DataFrame(df_tf,columns=te.columns_)\n",
    "\n",
    "    frequent_itemsets = apriori(df,min_support= min_supp,use_colnames= True)\n",
    "    rules = association_rules(frequent_itemsets,metric = 'confidence',min_threshold = min_conf)\n",
    "    # rules = rules.drop(rules[rules.lift <1.0].index)\n",
    "    rules.rename(columns = {'antecedents':'from','consequents':'to','support':'sup','confidence':'conf'},inplace = True)\n",
    "    rules.sort_values(by = ['sup','conf'],ascending = (False,False))\n",
    "    return rules"
   ]
  }
 ],
 "metadata": {
  "kernelspec": {
   "display_name": "Python 3",
   "language": "python",
   "name": "python3"
  },
  "language_info": {
   "codemirror_mode": {
    "name": "ipython",
    "version": 3
   },
   "file_extension": ".py",
   "mimetype": "text/x-python",
   "name": "python",
   "nbconvert_exporter": "python",
   "pygments_lexer": "ipython3",
   "version": "3.7.6"
  }
 },
 "nbformat": 4,
 "nbformat_minor": 4
}
